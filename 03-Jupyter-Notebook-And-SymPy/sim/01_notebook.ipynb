{
 "cells": [
  {
   "cell_type": "markdown",
   "metadata": {},
   "source": [
    "# Control Theory Tutorial  (DRAFT, NOT APPROVED YET)\n",
    "## The Cart-Pole System - Python for System Analysis"
   ]
  },
  {
   "cell_type": "markdown",
   "metadata": {},
   "source": [
    "## 1. Introduction\n",
    "The goal of this tutorial is to teach the usage of the programming language Python as a\n",
    "tool for developing and simulating control systems. The following topics are covered:\n",
    "\n",
    "- Derivation of the equations of motion through Lagrangian mechanics and scientific computing\n",
    "- Linearization of the resulting nonlinear system equations to obtain a linear system in state space form\n",
    "- Investigation of the control theoretic properties of the system (equilibria, observability, etc.)\n",
    "\n",
    "Please refer to the [Python List-Dictionary-Tuple tutorial](http://cs231n.github.io/python-numpy-tutorial/#python-containers) and the [NumPy Array tutorial](http://cs231n.github.io/python-numpy-tutorial/#numpy)\n",
    "if you are not familiar with the handling of containers and arrays in Python. If you are\n",
    "completely new to Python consult the very basic introduction on [tutorialspoint](https://www.tutorialspoint.com/python/index.htm). If you don't have any experience with Jupyter Notebook to get started it is recommended to watch the following tutorial:"
   ]
  },
  {
   "cell_type": "code",
   "execution_count": 2,
   "metadata": {},
   "outputs": [
    {
     "data": {
      "text/html": [
       "\n",
       "        <iframe\n",
       "            width=\"400\"\n",
       "            height=\"300\"\n",
       "            src=\"https://www.youtube.com/embed/HW29067qVWk\"\n",
       "            frameborder=\"0\"\n",
       "            allowfullscreen\n",
       "        ></iframe>\n",
       "        "
      ],
      "text/plain": [
       "<IPython.lib.display.YouTubeVideo at 0x10639da90>"
      ]
     },
     "execution_count": 2,
     "metadata": {},
     "output_type": "execute_result"
    }
   ],
   "source": [
    "from IPython.lib.display import YouTubeVideo\n",
    "YouTubeVideo('HW29067qVWk')"
   ]
  },
  {
   "cell_type": "markdown",
   "metadata": {},
   "source": [
    "# 2. The Cart-Pole System\n",
    "The cart-pole system, as shown in the figure is a common control theory benchmark system, and has different attributes, that make it particular interesting for teaching control theoretic principles and methods. \n",
    "\n",
    "The pole is attached to a cart at its end. By applying a force $F$ to the cart through a moment $M$, the cart can be moved in the $x$-direction. The objective is to control the cart, such that the pole, starting in the upright position, doesn't fall over. Another objective is the swing-up manover, where the pole starts from the downright position and has to be brought in the upright position and kept there. The second objective involves nonlinear control theory and is much harder to accomplish than the first."
   ]
  },
  {
   "cell_type": "markdown",
   "metadata": {},
   "source": [
    "![Cart-Pole System](img/cart-pole.png)"
   ]
  },
  {
   "cell_type": "markdown",
   "metadata": {},
   "source": [
    "## 2.1 Derivation of the equations of motion\n",
    "To derive the equations of motion, Lagrangian mechanics are used. At first the position vectors $\\mathbf{p}_i$ of all $i$ rigid bodies' center of mass have to be defined (in this case $i=0,1$). Then the velocities $\\dot{\\mathbf{p}}_i$ are derived by differentiation. After that the kinetic energy $T$ and potential energy $V$ are described to form the Lagrangian $L$. In the last step the equations of motions are derived by Lagrange's equations of the second kind."
   ]
  },
  {
   "cell_type": "markdown",
   "metadata": {},
   "source": [
    "At first the necessary Python libraries are imported."
   ]
  },
  {
   "cell_type": "code",
   "execution_count": 52,
   "metadata": {},
   "outputs": [],
   "source": [
    "import numpy as np\n",
    "import sympy as sp\n",
    "from sympy import sin, cos, pi, Function\n",
    "from sympy.interactive import printing\n",
    "printing.init_printing()"
   ]
  },
  {
   "cell_type": "markdown",
   "metadata": {},
   "source": [
    "Then symbolic expressions for all system parameters, time and force are defined."
   ]
  },
  {
   "cell_type": "code",
   "execution_count": 53,
   "metadata": {},
   "outputs": [],
   "source": [
    "t = sp.Symbol('t') # time\n",
    "params = sp.symbols('m0, m1, J1, l1, a1, g, d0, d1') # system parameters\n",
    "m0, m1, J1, l1, a1, g, d0, d1 = params\n",
    "params_values = [(m0, 3.34), (m1, 0.3583), (J1, 0.0379999),\n",
    "                 (l1, 0.5), (a1, 0.43), (g, 9.81), (d0, 0.1), (d1, 0.006588)]\n",
    "# force\n",
    "F = sp.Symbol('F')"
   ]
  },
  {
   "cell_type": "markdown",
   "metadata": {},
   "source": [
    "The system has 2 degrees of freedom, $x_0$ and $\\varphi_1$. The generelized coordinates $q_i$ are therefore:\n",
    "\\begin{align}\n",
    "&q_0 =  x_0 &q_1 =  \\varphi_1\n",
    "\\end{align}\n",
    "Because these are time dependent, they and there derivative up to order 2 are implemented as functions."
   ]
  },
  {
   "cell_type": "code",
   "execution_count": 54,
   "metadata": {},
   "outputs": [],
   "source": [
    "q0_t = Function('q0')(t)   \n",
    "dq0_t = q0_t.diff(t)\n",
    "ddq0_t = q0_t.diff(t, 2)\n",
    "q1_t = Function('q1')(t) \n",
    "dq1_t = q1_t.diff(t)\n",
    "ddq1_t = q1_t.diff(t, 2)"
   ]
  },
  {
   "cell_type": "markdown",
   "metadata": {},
   "source": [
    "### 2.1.1 Position vectors $\\mathbf{p}_i$\n",
    "The two rigid bodies of the cart-pole system are as the name suggests, the cart and the pole. The position vectors of the center of masses is found by the follwing expressions:\n",
    "\\begin{align}\n",
    "&\\mathbf{p}_0 = \\begin{pmatrix} x_0 \\\\ 0\\end{pmatrix} =\\begin{pmatrix} q_0 \\\\ 0\\end{pmatrix} & \\mathbf{p}_1 = \\begin{pmatrix} x_0 - a_1 \\sin \\varphi_1 \\\\ a_1 \\cos \\varphi_1\\end{pmatrix} = \\begin{pmatrix} q_0 - a_1 \\sin q_1 \\\\ a_1 \\cos q_1\\end{pmatrix}\n",
    "\\end{align}\n",
    "The position vectors are functions of the generalized coordinates."
   ]
  },
  {
   "cell_type": "code",
   "execution_count": 55,
   "metadata": {},
   "outputs": [
    {
     "data": {
      "image/png": "[encoded data removed]",
      "text/latex": [
       "$$\\left ( \\left[\\begin{matrix}\\operatorname{q_{0}}{\\left (t \\right )}\\\\0\\end{matrix}\\right], \\quad \\left[\\begin{matrix}- a_{1} \\sin{\\left (\\operatorname{q_{1}}{\\left (t \\right )} \\right )} + \\operatorname{q_{0}}{\\left (t \\right )}\\\\a_{1} \\cos{\\left (\\operatorname{q_{1}}{\\left (t \\right )} \\right )}\\end{matrix}\\right]\\right )$$"
      ],
      "text/plain": [
       "⎛⎡q₀(t)⎤  ⎡-a₁⋅sin(q₁(t)) + q₀(t)⎤⎞\n",
       "⎜⎢     ⎥, ⎢                      ⎥⎟\n",
       "⎝⎣  0  ⎦  ⎣    a₁⋅cos(q₁(t))     ⎦⎠"
      ]
     },
     "execution_count": 55,
     "metadata": {},
     "output_type": "execute_result"
    }
   ],
   "source": [
    "p0 = sp.Matrix([q0_t, 0])\n",
    "p1 = sp.Matrix([q0_t - a1*sin(q1_t), a1*cos(q1_t)])\n",
    "p0, p1"
   ]
  },
  {
   "cell_type": "markdown",
   "metadata": {},
   "source": [
    "### 2.1.2  Velocity vectors $\\dot{\\mathbf{p}}_i$"
   ]
  },
  {
   "cell_type": "markdown",
   "metadata": {},
   "source": [
    "The velocity vectors can be obtained by the time derivative.\n",
    "\\begin{align}\n",
    "&\\dot{\\mathbf{p}}_0 = \\begin{pmatrix} \\dot{x}_0 \\\\ 0\\end{pmatrix} =\\begin{pmatrix} \n",
    "\\dot{q}_0 \\\\ 0\\end{pmatrix} \n",
    "& \\dot{\\mathbf{p}}_1 = \\begin{pmatrix} \\dot{x}_0 - a_1 \\dot{\\varphi}_1 \\cos \\varphi_1 \n",
    "\\\\ - a_1 \\dot{\\varphi}_1 \\sin \\varphi_1\\end{pmatrix} \n",
    "= \\begin{pmatrix} \\dot{q}_0 - a_1 \\dot{q}_1 \\cos q_1 \\\\ - a_1 \\dot{q}_1 \\sin q_1\\end{pmatrix}\n",
    "\\end{align}"
   ]
  },
  {
   "cell_type": "code",
   "execution_count": 56,
   "metadata": {},
   "outputs": [
    {
     "data": {
      "image/png": "[encoded data removed]",
      "text/latex": [
       "$$\\left ( \\left[\\begin{matrix}\\frac{d}{d t} \\operatorname{q_{0}}{\\left (t \\right )}\\\\0\\end{matrix}\\right], \\quad \\left[\\begin{matrix}- a_{1} \\cos{\\left (\\operatorname{q_{1}}{\\left (t \\right )} \\right )} \\frac{d}{d t} \\operatorname{q_{1}}{\\left (t \\right )} + \\frac{d}{d t} \\operatorname{q_{0}}{\\left (t \\right )}\\\\- a_{1} \\sin{\\left (\\operatorname{q_{1}}{\\left (t \\right )} \\right )} \\frac{d}{d t} \\operatorname{q_{1}}{\\left (t \\right )}\\end{matrix}\\right]\\right )$$"
      ],
      "text/plain": [
       "⎛             ⎡                d           d        ⎤⎞\n",
       "⎜⎡d        ⎤  ⎢- a₁⋅cos(q₁(t))⋅──(q₁(t)) + ──(q₀(t))⎥⎟\n",
       "⎜⎢──(q₀(t))⎥  ⎢                dt          dt       ⎥⎟\n",
       "⎜⎢dt       ⎥, ⎢                                     ⎥⎟\n",
       "⎜⎢         ⎥  ⎢                     d               ⎥⎟\n",
       "⎜⎣    0    ⎦  ⎢      -a₁⋅sin(q₁(t))⋅──(q₁(t))       ⎥⎟\n",
       "⎝             ⎣                     dt              ⎦⎠"
      ]
     },
     "execution_count": 56,
     "metadata": {},
     "output_type": "execute_result"
    }
   ],
   "source": [
    "dp0 = p0.diff(t)\n",
    "dp1 = p1.diff(t)\n",
    "dp0, dp1"
   ]
  },
  {
   "cell_type": "markdown",
   "metadata": {},
   "source": [
    "### 2.1.3 Kinetic energy $T$\n",
    "The total kinetic energy of the system $T$ can be found by the sum of the kinetic energies $T_0$ and $T_1$ of the rigid bodies."
   ]
  },
  {
   "cell_type": "code",
   "execution_count": 57,
   "metadata": {},
   "outputs": [
    {
     "data": {
      "image/png": "[encoded data removed]",
      "text/latex": [
       "$$\\frac{m_{0} \\left(\\frac{d}{d t} \\operatorname{q_{0}}{\\left (t \\right )}\\right)^{2}}{2}$$"
      ],
      "text/plain": [
       "              2\n",
       "   ⎛d        ⎞ \n",
       "m₀⋅⎜──(q₀(t))⎟ \n",
       "   ⎝dt       ⎠ \n",
       "───────────────\n",
       "       2       "
      ]
     },
     "execution_count": 57,
     "metadata": {},
     "output_type": "execute_result"
    }
   ],
   "source": [
    "T0 = m0/2*(dp0.T*dp0)[0]\n",
    "T0"
   ]
  },
  {
   "cell_type": "code",
   "execution_count": 58,
   "metadata": {},
   "outputs": [
    {
     "data": {
      "image/png": "[encoded data removed]",
      "text/latex": [
       "$$\\frac{J_{1} \\left(\\frac{d}{d t} \\operatorname{q_{1}}{\\left (t \\right )}\\right)^{2}}{2} + \\frac{m_{1} \\left(a_{1}^{2} \\sin^{2}{\\left (\\operatorname{q_{1}}{\\left (t \\right )} \\right )} \\left(\\frac{d}{d t} \\operatorname{q_{1}}{\\left (t \\right )}\\right)^{2} + \\left(- a_{1} \\cos{\\left (\\operatorname{q_{1}}{\\left (t \\right )} \\right )} \\frac{d}{d t} \\operatorname{q_{1}}{\\left (t \\right )} + \\frac{d}{d t} \\operatorname{q_{0}}{\\left (t \\right )}\\right)^{2}\\right)}{2}$$"
      ],
      "text/plain": [
       "              2      ⎛                           2                            \n",
       "   ⎛d        ⎞       ⎜  2    2        ⎛d        ⎞    ⎛                d       \n",
       "J₁⋅⎜──(q₁(t))⎟    m₁⋅⎜a₁ ⋅sin (q₁(t))⋅⎜──(q₁(t))⎟  + ⎜- a₁⋅cos(q₁(t))⋅──(q₁(t)\n",
       "   ⎝dt       ⎠       ⎝                ⎝dt       ⎠    ⎝                dt      \n",
       "─────────────── + ────────────────────────────────────────────────────────────\n",
       "       2                                               2                      \n",
       "\n",
       "              2⎞\n",
       "    d        ⎞ ⎟\n",
       ") + ──(q₀(t))⎟ ⎟\n",
       "    dt       ⎠ ⎠\n",
       "────────────────\n",
       "                "
      ]
     },
     "execution_count": 58,
     "metadata": {},
     "output_type": "execute_result"
    }
   ],
   "source": [
    "T1 = (m1*(dp1.T*dp1)[0] + J1*dq1_t**2)/2\n",
    "T1"
   ]
  },
  {
   "cell_type": "code",
   "execution_count": 59,
   "metadata": {},
   "outputs": [
    {
     "data": {
      "image/png": "[encoded data removed]",
      "text/latex": [
       "$$\\frac{J_{1} \\left(\\frac{d}{d t} \\operatorname{q_{1}}{\\left (t \\right )}\\right)^{2}}{2} + \\frac{m_{0} \\left(\\frac{d}{d t} \\operatorname{q_{0}}{\\left (t \\right )}\\right)^{2}}{2} + \\frac{m_{1} \\left(a_{1}^{2} \\sin^{2}{\\left (\\operatorname{q_{1}}{\\left (t \\right )} \\right )} \\left(\\frac{d}{d t} \\operatorname{q_{1}}{\\left (t \\right )}\\right)^{2} + \\left(- a_{1} \\cos{\\left (\\operatorname{q_{1}}{\\left (t \\right )} \\right )} \\frac{d}{d t} \\operatorname{q_{1}}{\\left (t \\right )} + \\frac{d}{d t} \\operatorname{q_{0}}{\\left (t \\right )}\\right)^{2}\\right)}{2}$$"
      ],
      "text/plain": [
       "              2                 2      ⎛                           2          \n",
       "   ⎛d        ⎞       ⎛d        ⎞       ⎜  2    2        ⎛d        ⎞    ⎛      \n",
       "J₁⋅⎜──(q₁(t))⎟    m₀⋅⎜──(q₀(t))⎟    m₁⋅⎜a₁ ⋅sin (q₁(t))⋅⎜──(q₁(t))⎟  + ⎜- a₁⋅c\n",
       "   ⎝dt       ⎠       ⎝dt       ⎠       ⎝                ⎝dt       ⎠    ⎝      \n",
       "─────────────── + ─────────────── + ──────────────────────────────────────────\n",
       "       2                 2                                               2    \n",
       "\n",
       "                                2⎞\n",
       "          d           d        ⎞ ⎟\n",
       "os(q₁(t))⋅──(q₁(t)) + ──(q₀(t))⎟ ⎟\n",
       "          dt          dt       ⎠ ⎠\n",
       "──────────────────────────────────\n",
       "                                  "
      ]
     },
     "execution_count": 59,
     "metadata": {},
     "output_type": "execute_result"
    }
   ],
   "source": [
    "T = T0 + T1\n",
    "T"
   ]
  },
  {
   "cell_type": "markdown",
   "metadata": {},
   "source": [
    "### 2.1.3 Potential energy $V$\n",
    "The total potential energy of the system $V$ can be found by the sum of the kinetic energies $V_0$ and $V_1$ of the rigid bodies. Because $V_0=0$, $V = V_1$."
   ]
  },
  {
   "cell_type": "code",
   "execution_count": 60,
   "metadata": {},
   "outputs": [
    {
     "data": {
      "image/png": "[encoded data removed]",
      "text/latex": [
       "$$a_{1} g m_{1} \\cos{\\left (\\operatorname{q_{1}}{\\left (t \\right )} \\right )}$$"
      ],
      "text/plain": [
       "a₁⋅g⋅m₁⋅cos(q₁(t))"
      ]
     },
     "execution_count": 60,
     "metadata": {},
     "output_type": "execute_result"
    }
   ],
   "source": [
    "V = m1*g*p1[1]\n",
    "V"
   ]
  },
  {
   "cell_type": "markdown",
   "metadata": {},
   "source": [
    "### 2.1.4 Lagrangian $L$\n",
    "The Lagrangian is defined as $L = T-V$"
   ]
  },
  {
   "cell_type": "code",
   "execution_count": null,
   "metadata": {},
   "outputs": [],
   "source": []
  },
  {
   "cell_type": "code",
   "execution_count": 61,
   "metadata": {
    "scrolled": true
   },
   "outputs": [
    {
     "data": {
      "image/png": "[encoded data removed]",
      "text/latex": [
       "$$\\frac{J_{1} \\left(\\frac{d}{d t} \\operatorname{q_{1}}{\\left (t \\right )}\\right)^{2}}{2} + \\frac{a_{1}^{2} m_{1} \\left(\\frac{d}{d t} \\operatorname{q_{1}}{\\left (t \\right )}\\right)^{2}}{2} - a_{1} g m_{1} \\cos{\\left (\\operatorname{q_{1}}{\\left (t \\right )} \\right )} - a_{1} m_{1} \\cos{\\left (\\operatorname{q_{1}}{\\left (t \\right )} \\right )} \\frac{d}{d t} \\operatorname{q_{0}}{\\left (t \\right )} \\frac{d}{d t} \\operatorname{q_{1}}{\\left (t \\right )} + \\frac{m_{0} \\left(\\frac{d}{d t} \\operatorname{q_{0}}{\\left (t \\right )}\\right)^{2}}{2} + \\frac{m_{1} \\left(\\frac{d}{d t} \\operatorname{q_{0}}{\\left (t \\right )}\\right)^{2}}{2}$$"
      ],
      "text/plain": [
       "              2                     2                                         \n",
       "   ⎛d        ⎞      2    ⎛d        ⎞                                          \n",
       "J₁⋅⎜──(q₁(t))⎟    a₁ ⋅m₁⋅⎜──(q₁(t))⎟                                          \n",
       "   ⎝dt       ⎠           ⎝dt       ⎠                                          \n",
       "─────────────── + ─────────────────── - a₁⋅g⋅m₁⋅cos(q₁(t)) - a₁⋅m₁⋅cos(q₁(t))⋅\n",
       "       2                   2                                                  \n",
       "\n",
       "                                    2                 2\n",
       "                         ⎛d        ⎞       ⎛d        ⎞ \n",
       "                      m₀⋅⎜──(q₀(t))⎟    m₁⋅⎜──(q₀(t))⎟ \n",
       "d         d              ⎝dt       ⎠       ⎝dt       ⎠ \n",
       "──(q₀(t))⋅──(q₁(t)) + ─────────────── + ───────────────\n",
       "dt        dt                 2                 2       "
      ]
     },
     "execution_count": 61,
     "metadata": {},
     "output_type": "execute_result"
    }
   ],
   "source": [
    "L = T - V\n",
    "L = L.expand()\n",
    "L = sp.trigsimp(L)\n",
    "L"
   ]
  },
  {
   "cell_type": "markdown",
   "metadata": {},
   "source": [
    "### 2.1.5 Lagrange's equation of the second kind\n",
    "To obtain the equations of motion, Lagrange's equation of the second kind is used:\n",
    "\\begin{align}\n",
    "\\frac{\\mathrm{d}}{\\mathrm{d} t}\\left(\\frac{\\partial L}{\\partial \\dot{q}_i}\\right) - \\frac{\\partial L}{\\partial q_i} = Q_i \n",
    "\\quad i = 0,1\\end{align}\n",
    "with the generalized forces $Q_i$.\n",
    "Substituting $L = T-V$ leads to:\n",
    "\\begin{align}\n",
    "\\frac{\\mathrm{d}}{\\mathrm{d} t}\\left(\\frac{\\partial T}{\\partial \\dot{q}_i} \\right) - \\frac{\\mathrm{d}}{\\mathrm{d} t}\\left(\\frac{\\partial V}{\\partial \\dot{q}_i}\\right) - \\frac{\\partial T}{\\partial q_i} + \\frac{\\partial V}{\\partial q_i} = Q_i\n",
    "\\quad i = 0,1\\end{align}\n",
    "For mechanical systems like the cart-pole system $\\frac{\\mathrm{d}}{\\mathrm{d} t}\\frac{\\partial V}{\\partial \\dot{q}_i} = 0$. The equation simplifies to:\n",
    "\\begin{align}\n",
    "\\frac{\\mathrm{d}}{\\mathrm{d} t}\\left(\\frac{\\partial T}{\\partial \\dot{q}_i}\\right) - \\frac{\\partial T}{\\partial q_i} + \\left(\\frac{\\partial V}{\\partial q_i}\\right) = Q_i\n",
    "\\quad i = 0,1 \n",
    "\\end{align}\n",
    "\n",
    "The generalized forces can be seperated to a term $B\\mathbf{\\tau}$ that expresses how the actuator forces $u$ act on the system and a term for the disspitave forces $R$:\n",
    "\\begin{align}\n",
    "(Q_0,...,Q_n)^\\textrm{T} = B\\mathbf{\\tau} - R\n",
    "\\end{align}\n",
    "\n",
    "For the cart-pole system one obtains: \n",
    "\\begin{align}\n",
    "Q_0 = F - \\frac{1}{2}d_0 \\dot{q}_0^2 \\qquad Q_1 = - \\frac{1}{2}d_1 \\dot{q}_1^2 \n",
    "\\end{align}"
   ]
  },
  {
   "cell_type": "code",
   "execution_count": 62,
   "metadata": {},
   "outputs": [],
   "source": [
    "Q0 = F - d0/2*dq0_t**2"
   ]
  },
  {
   "cell_type": "code",
   "execution_count": 63,
   "metadata": {},
   "outputs": [],
   "source": [
    "Q0 = F - d0*dq0_t"
   ]
  },
  {
   "cell_type": "code",
   "execution_count": 64,
   "metadata": {},
   "outputs": [],
   "source": [
    "Q1 =  - d1/2*dq1_t**2"
   ]
  },
  {
   "cell_type": "code",
   "execution_count": 65,
   "metadata": {},
   "outputs": [],
   "source": [
    "Q1 =  - d1*dq1_t"
   ]
  },
  {
   "cell_type": "code",
   "execution_count": 66,
   "metadata": {},
   "outputs": [],
   "source": [
    "Eq0 = L.diff(dq0_t, t) - L.diff(q0_t) - Q0 # = 0 "
   ]
  },
  {
   "cell_type": "code",
   "execution_count": 67,
   "metadata": {},
   "outputs": [],
   "source": [
    "Eq1 = L.diff(dq1_t, t) - L.diff(q1_t) - Q1 # = 0"
   ]
  },
  {
   "cell_type": "markdown",
   "metadata": {},
   "source": [
    "A mechanical system is described by the following equation:\n",
    "\\begin{align}\n",
    "M(\\mathbf{q})\\ddot{\\mathbf{q}}+C(\\mathbf{q},\\dot{\\mathbf{q}})+K(\\mathbf{q},\\dot{\\mathbf{q}}) - B(\\mathbf{q})\\mathbf{\\tau} = \\mathbf{0}\n",
    "\\end{align}\n",
    "\n",
    "$M$ - mass matrix\n",
    "\n",
    "$C$ - coriolis vector\n",
    "\n",
    "$K$ - vector containing potential energy terms and $R$\n",
    "\n",
    "This eqation is contained in the variable `Eq`."
   ]
  },
  {
   "cell_type": "code",
   "execution_count": 68,
   "metadata": {},
   "outputs": [
    {
     "data": {
      "image/png": "[encoded data removed]",
      "text/latex": [
       "$$\\left[\\begin{matrix}- F + a_{1} m_{1} \\sin{\\left (\\operatorname{q_{1}}{\\left (t \\right )} \\right )} \\left(\\frac{d}{d t} \\operatorname{q_{1}}{\\left (t \\right )}\\right)^{2} - a_{1} m_{1} \\cos{\\left (\\operatorname{q_{1}}{\\left (t \\right )} \\right )} \\frac{d^{2}}{d t^{2}} \\operatorname{q_{1}}{\\left (t \\right )} + d_{0} \\frac{d}{d t} \\operatorname{q_{0}}{\\left (t \\right )} + m_{0} \\frac{d^{2}}{d t^{2}} \\operatorname{q_{0}}{\\left (t \\right )} + m_{1} \\frac{d^{2}}{d t^{2}} \\operatorname{q_{0}}{\\left (t \\right )}\\\\J_{1} \\frac{d^{2}}{d t^{2}} \\operatorname{q_{1}}{\\left (t \\right )} + a_{1}^{2} m_{1} \\frac{d^{2}}{d t^{2}} \\operatorname{q_{1}}{\\left (t \\right )} - a_{1} g m_{1} \\sin{\\left (\\operatorname{q_{1}}{\\left (t \\right )} \\right )} - a_{1} m_{1} \\cos{\\left (\\operatorname{q_{1}}{\\left (t \\right )} \\right )} \\frac{d^{2}}{d t^{2}} \\operatorname{q_{0}}{\\left (t \\right )} + d_{1} \\frac{d}{d t} \\operatorname{q_{1}}{\\left (t \\right )}\\end{matrix}\\right]$$"
      ],
      "text/plain": [
       "⎡                                 2                      2                    \n",
       "⎢                      ⎛d        ⎞                      d              d      \n",
       "⎢-F + a₁⋅m₁⋅sin(q₁(t))⋅⎜──(q₁(t))⎟  - a₁⋅m₁⋅cos(q₁(t))⋅───(q₁(t)) + d₀⋅──(q₀(t\n",
       "⎢                      ⎝dt       ⎠                       2             dt     \n",
       "⎢                                                      dt                     \n",
       "⎢                                                                             \n",
       "⎢           2                   2                                             \n",
       "⎢          d             2     d                                              \n",
       "⎢      J₁⋅───(q₁(t)) + a₁ ⋅m₁⋅───(q₁(t)) - a₁⋅g⋅m₁⋅sin(q₁(t)) - a₁⋅m₁⋅cos(q₁(t\n",
       "⎢           2                   2                                             \n",
       "⎣         dt                  dt                                              \n",
       "\n",
       "          2               2       ⎤\n",
       "         d               d        ⎥\n",
       ")) + m₀⋅───(q₀(t)) + m₁⋅───(q₀(t))⎥\n",
       "          2               2       ⎥\n",
       "        dt              dt        ⎥\n",
       "                                  ⎥\n",
       "     2                            ⎥\n",
       "    d              d              ⎥\n",
       "))⋅───(q₀(t)) + d₁⋅──(q₁(t))      ⎥\n",
       "     2             dt             ⎥\n",
       "   dt                             ⎦"
      ]
     },
     "execution_count": 68,
     "metadata": {},
     "output_type": "execute_result"
    }
   ],
   "source": [
    "Eq = sp.Matrix([Eq0, Eq1])\n",
    "Eq"
   ]
  },
  {
   "cell_type": "markdown",
   "metadata": {},
   "source": [
    "The mass matrix $M$ can be found by applying the differential operator \n",
    "$\\frac{\\mathrm{d}}{\\mathrm{d}\\mathbf{\\ddot{q}}}$ to `Eq`."
   ]
  },
  {
   "cell_type": "code",
   "execution_count": 69,
   "metadata": {},
   "outputs": [
    {
     "data": {
      "image/png": "[encoded data removed]",
      "text/latex": [
       "$$\\left[\\begin{matrix}m_{0} + m_{1} & - a_{1} m_{1} \\cos{\\left (\\operatorname{q_{1}}{\\left (t \\right )} \\right )}\\\\- a_{1} m_{1} \\cos{\\left (\\operatorname{q_{1}}{\\left (t \\right )} \\right )} & J_{1} + a_{1}^{2} m_{1}\\end{matrix}\\right]$$"
      ],
      "text/plain": [
       "⎡     m₀ + m₁       -a₁⋅m₁⋅cos(q₁(t))⎤\n",
       "⎢                                    ⎥\n",
       "⎢                             2      ⎥\n",
       "⎣-a₁⋅m₁⋅cos(q₁(t))     J₁ + a₁ ⋅m₁   ⎦"
      ]
     },
     "execution_count": 69,
     "metadata": {},
     "output_type": "execute_result"
    }
   ],
   "source": [
    "ddq_t = sp.Matrix([ddq0_t, ddq1_t])\n",
    "M = Eq.jacobian(ddq_t)\n",
    "M"
   ]
  },
  {
   "cell_type": "markdown",
   "metadata": {},
   "source": [
    "The mass matrix of mechanical systems is always symmetric and invertible. Therefore an equation for $\\ddot{\\mathbf{q}}$ always exists.\n",
    "\\begin{align}\n",
    "\\ddot{\\mathbf{q}} = M^{-1}(\\mathbf{q})\\left(-C(\\mathbf{q},\\dot{\\mathbf{q}})-K(\\mathbf{q},\\dot{\\mathbf{q}}) + B(\\mathbf{q})\\mathbf{\\tau} \\right)\n",
    "\\end{align}"
   ]
  },
  {
   "cell_type": "code",
   "execution_count": 70,
   "metadata": {},
   "outputs": [
    {
     "data": {
      "image/png": "[encoded data removed]",
      "text/latex": [
       "$$\\left[\\begin{matrix}\\frac{a_{1} m_{1} \\left(a_{1} g m_{1} \\sin{\\left (\\operatorname{q_{1}}{\\left (t \\right )} \\right )} - d_{1} \\frac{d}{d t} \\operatorname{q_{1}}{\\left (t \\right )}\\right) \\cos{\\left (\\operatorname{q_{1}}{\\left (t \\right )} \\right )}}{- a_{1}^{2} m_{1}^{2} \\cos^{2}{\\left (\\operatorname{q_{1}}{\\left (t \\right )} \\right )} + \\left(J_{1} + a_{1}^{2} m_{1}\\right) \\left(m_{0} + m_{1}\\right)} + \\frac{\\left(J_{1} + a_{1}^{2} m_{1}\\right) \\left(F - a_{1} m_{1} \\sin{\\left (\\operatorname{q_{1}}{\\left (t \\right )} \\right )} \\left(\\frac{d}{d t} \\operatorname{q_{1}}{\\left (t \\right )}\\right)^{2} - d_{0} \\frac{d}{d t} \\operatorname{q_{0}}{\\left (t \\right )}\\right)}{- a_{1}^{2} m_{1}^{2} \\cos^{2}{\\left (\\operatorname{q_{1}}{\\left (t \\right )} \\right )} + \\left(J_{1} + a_{1}^{2} m_{1}\\right) \\left(m_{0} + m_{1}\\right)}\\\\\\frac{a_{1} m_{1} \\left(F - a_{1} m_{1} \\sin{\\left (\\operatorname{q_{1}}{\\left (t \\right )} \\right )} \\left(\\frac{d}{d t} \\operatorname{q_{1}}{\\left (t \\right )}\\right)^{2} - d_{0} \\frac{d}{d t} \\operatorname{q_{0}}{\\left (t \\right )}\\right) \\cos{\\left (\\operatorname{q_{1}}{\\left (t \\right )} \\right )}}{- a_{1}^{2} m_{1}^{2} \\cos^{2}{\\left (\\operatorname{q_{1}}{\\left (t \\right )} \\right )} + \\left(J_{1} + a_{1}^{2} m_{1}\\right) \\left(m_{0} + m_{1}\\right)} + \\frac{\\left(m_{0} + m_{1}\\right) \\left(a_{1} g m_{1} \\sin{\\left (\\operatorname{q_{1}}{\\left (t \\right )} \\right )} - d_{1} \\frac{d}{d t} \\operatorname{q_{1}}{\\left (t \\right )}\\right)}{- a_{1}^{2} m_{1}^{2} \\cos^{2}{\\left (\\operatorname{q_{1}}{\\left (t \\right )} \\right )} + \\left(J_{1} + a_{1}^{2} m_{1}\\right) \\left(m_{0} + m_{1}\\right)}\\end{matrix}\\right]$$"
      ],
      "text/plain": [
       "⎡                                                                     ⎛       \n",
       "⎢      ⎛                        d        ⎞              ⎛       2   ⎞ ⎜       \n",
       "⎢a₁⋅m₁⋅⎜a₁⋅g⋅m₁⋅sin(q₁(t)) - d₁⋅──(q₁(t))⎟⋅cos(q₁(t))   ⎝J₁ + a₁ ⋅m₁⎠⋅⎜F - a₁⋅\n",
       "⎢      ⎝                        dt       ⎠                            ⎝       \n",
       "⎢──────────────────────────────────────────────────── + ──────────────────────\n",
       "⎢      2   2    2          ⎛       2   ⎞                            2   2    2\n",
       "⎢  - a₁ ⋅m₁ ⋅cos (q₁(t)) + ⎝J₁ + a₁ ⋅m₁⎠⋅(m₀ + m₁)              - a₁ ⋅m₁ ⋅cos \n",
       "⎢                                                                             \n",
       "⎢       ⎛                                2               ⎞                    \n",
       "⎢       ⎜                     ⎛d        ⎞       d        ⎟                    \n",
       "⎢ a₁⋅m₁⋅⎜F - a₁⋅m₁⋅sin(q₁(t))⋅⎜──(q₁(t))⎟  - d₀⋅──(q₀(t))⎟⋅cos(q₁(t))    (m₀ +\n",
       "⎢       ⎝                     ⎝dt       ⎠       dt       ⎠                    \n",
       "⎢ ─────────────────────────────────────────────────────────────────── + ──────\n",
       "⎢               2   2    2          ⎛       2   ⎞                           2 \n",
       "⎣           - a₁ ⋅m₁ ⋅cos (q₁(t)) + ⎝J₁ + a₁ ⋅m₁⎠⋅(m₀ + m₁)             - a₁ ⋅\n",
       "\n",
       "                         2               ⎞⎤\n",
       "              ⎛d        ⎞       d        ⎟⎥\n",
       "m₁⋅sin(q₁(t))⋅⎜──(q₁(t))⎟  - d₀⋅──(q₀(t))⎟⎥\n",
       "              ⎝dt       ⎠       dt       ⎠⎥\n",
       "──────────────────────────────────────────⎥\n",
       "          ⎛       2   ⎞                   ⎥\n",
       "(q₁(t)) + ⎝J₁ + a₁ ⋅m₁⎠⋅(m₀ + m₁)         ⎥\n",
       "                                          ⎥\n",
       "                                          ⎥\n",
       "     ⎛                        d        ⎞  ⎥\n",
       " m₁)⋅⎜a₁⋅g⋅m₁⋅sin(q₁(t)) - d₁⋅──(q₁(t))⎟  ⎥\n",
       "     ⎝                        dt       ⎠  ⎥\n",
       "───────────────────────────────────────── ⎥\n",
       "  2    2          ⎛       2   ⎞           ⎥\n",
       "m₁ ⋅cos (q₁(t)) + ⎝J₁ + a₁ ⋅m₁⎠⋅(m₀ + m₁) ⎦"
      ]
     },
     "execution_count": 70,
     "metadata": {},
     "output_type": "execute_result"
    }
   ],
   "source": [
    "q_zeros = [(ddq0_t, 0), (ddq1_t, 0)]\n",
    "ddq = M.inv() * -Eq.subs(q_zeros)\n",
    "ddq"
   ]
  },
  {
   "cell_type": "markdown",
   "metadata": {},
   "source": [
    "## 2.2 State Space Model\n",
    "An input-affine, nonlinear system is given by the following equation:\n",
    "\\begin{align}\n",
    "\\dot{\\mathbf{x}}=\\mathbf{f}(\\mathbf{x})+\\mathbf{g}(\\mathbf{x})\\mathbf{u} \\qquad \\mathbf{x} \\textrm{ - state vector}, \\mathbf{u} \\textrm{ - control vector}\n",
    "\\end{align}\n",
    "\n",
    "To transform the system equations in state space form, the system equations $\\ddot{\\mathbf{q}}= \\mathbf{f}_{\\ddot{\\mathbf{q}}}(\\mathbf{q},\\dot{\\mathbf{q}}) + \\mathbf{g}_{\\ddot{\\mathbf{q}}}(\\mathbf{q})\\mathbf{\\tau}$, which are second order differential equations each have to be seperated to two differential equations of first order. This is done by introducing a state vector $\\mathbf{x}$ and a control vector $\\mathbf{u}$.\n",
    "\\begin{align}\n",
    "&\\mathbf{x} := \\begin{pmatrix} \\mathbf{q} \\\\ \\dot{\\mathbf{q}} \\end{pmatrix}\n",
    "&\\dot{\\mathbf{x}} = \\begin{pmatrix} \\dot{\\mathbf{q}} \\\\ \\ddot{\\mathbf{q}} \\end{pmatrix} \n",
    "&\\qquad \\mathbf{u} := \\mathbf{\\tau}\n",
    "\\end{align}\n",
    "Substituting $\\ddot{\\mathbf{q}}$, one obtains:\n",
    "\\begin{align}\n",
    "\\dot{\\mathbf{x}} = \\underbrace{\\begin{pmatrix} \\dot{\\mathbf{q}} \\\\ \\mathbf{f}_{\\ddot{\\mathbf{q}}}(\\mathbf{q},\\dot{\\mathbf{q}}) \\end{pmatrix}}_{=:\\mathbf{f}(\\mathbf{x})} + \\underbrace{\\begin{pmatrix} \\mathbf{0} \\\\ \\mathbf{g}_{\\ddot{\\mathbf{q}}}(\\mathbf{q}) \\end{pmatrix}}_{=:\\mathbf{g}(\\mathbf{x})}\\underbrace{\\mathbf{\\tau}}_{=:\\mathbf{u}}\n",
    "\\end{align}\n",
    "The result is an input-affine system, an inhomogenous, multi-dimensional first order differential equation in $\\mathbf{x}$."
   ]
  },
  {
   "cell_type": "markdown",
   "metadata": {},
   "source": [
    "### 2.2.1 Nonlinear system"
   ]
  },
  {
   "cell_type": "markdown",
   "metadata": {},
   "source": [
    "In the cart-pole case, $\\mathbf{q}$ is two dimensional, the state vector $\\mathbf{x}$ is therefore four dimensional:\n",
    "\\begin{align}\n",
    "\\mathbf{x} = \\begin{pmatrix}x_1 \\\\ x_2 \\\\ x_3 \\\\ x_4 \\end{pmatrix} = \n",
    "\\begin{pmatrix}q_0 \\\\ q_1 \\\\ \\dot q_0 \\\\ \\dot q_1 \\end{pmatrix}\n",
    "=\\begin{pmatrix}x_0 \\\\ \\varphi_1 \\\\ \\dot x_0 \\\\ \\dot \\varphi_1 \\end{pmatrix}\n",
    "\\end{align}"
   ]
  },
  {
   "cell_type": "code",
   "execution_count": 71,
   "metadata": {},
   "outputs": [],
   "source": [
    "x1_t = sp.Function('x1')(t)\n",
    "x2_t = sp.Function('x2')(t)\n",
    "x3_t = sp.Function('x3')(t)\n",
    "x4_t = sp.Function('x4')(t)\n",
    "x_t = sp.Matrix([x1_t, x2_t, x3_t, x4_t])\n",
    "\n",
    "u_t = sp.Function('u')(t)"
   ]
  },
  {
   "cell_type": "markdown",
   "metadata": {},
   "source": [
    "$q_0,q_1$ and $\\dot q_0,\\dot q_1$ in $\\ddot{\\mathbf{q}}$ are replaced by $x_1, x_2$ and $x_3, x_4$. The force $F$ is replaced by the control input $u$."
   ]
  },
  {
   "cell_type": "code",
   "execution_count": 72,
   "metadata": {},
   "outputs": [
    {
     "data": {
      "image/png": "[encoded data removed]",
      "text/latex": [
       "$$\\left[\\begin{matrix}\\frac{- a_{1} m_{1} \\left(a_{1} g m_{1} \\sin{\\left (\\operatorname{x_{2}}{\\left (t \\right )} \\right )} - d_{1} \\operatorname{x_{4}}{\\left (t \\right )}\\right) \\cos{\\left (\\operatorname{x_{2}}{\\left (t \\right )} \\right )} + \\left(J_{1} + a_{1}^{2} m_{1}\\right) \\left(a_{1} m_{1} \\operatorname{x_{4}}^{2}{\\left (t \\right )} \\sin{\\left (\\operatorname{x_{2}}{\\left (t \\right )} \\right )} + d_{0} \\operatorname{x_{3}}{\\left (t \\right )} - u{\\left (t \\right )}\\right)}{a_{1}^{2} m_{1}^{2} \\cos^{2}{\\left (\\operatorname{x_{2}}{\\left (t \\right )} \\right )} - \\left(J_{1} + a_{1}^{2} m_{1}\\right) \\left(m_{0} + m_{1}\\right)}\\\\\\frac{a_{1} m_{1} \\left(a_{1} m_{1} \\operatorname{x_{4}}^{2}{\\left (t \\right )} \\sin{\\left (\\operatorname{x_{2}}{\\left (t \\right )} \\right )} + d_{0} \\operatorname{x_{3}}{\\left (t \\right )} - u{\\left (t \\right )}\\right) \\cos{\\left (\\operatorname{x_{2}}{\\left (t \\right )} \\right )} - \\left(m_{0} + m_{1}\\right) \\left(a_{1} g m_{1} \\sin{\\left (\\operatorname{x_{2}}{\\left (t \\right )} \\right )} - d_{1} \\operatorname{x_{4}}{\\left (t \\right )}\\right)}{a_{1}^{2} m_{1}^{2} \\cos^{2}{\\left (\\operatorname{x_{2}}{\\left (t \\right )} \\right )} - \\left(J_{1} + a_{1}^{2} m_{1}\\right) \\left(m_{0} + m_{1}\\right)}\\end{matrix}\\right]$$"
      ],
      "text/plain": [
       "⎡                                                    ⎛       2   ⎞ ⎛        2 \n",
       "⎢-a₁⋅m₁⋅(a₁⋅g⋅m₁⋅sin(x₂(t)) - d₁⋅x₄(t))⋅cos(x₂(t)) + ⎝J₁ + a₁ ⋅m₁⎠⋅⎝a₁⋅m₁⋅x₄ (\n",
       "⎢─────────────────────────────────────────────────────────────────────────────\n",
       "⎢                                  2   2    2          ⎛       2   ⎞          \n",
       "⎢                                a₁ ⋅m₁ ⋅cos (x₂(t)) - ⎝J₁ + a₁ ⋅m₁⎠⋅(m₀ + m₁)\n",
       "⎢                                                                             \n",
       "⎢        ⎛        2                                ⎞                          \n",
       "⎢  a₁⋅m₁⋅⎝a₁⋅m₁⋅x₄ (t)⋅sin(x₂(t)) + d₀⋅x₃(t) - u(t)⎠⋅cos(x₂(t)) - (m₀ + m₁)⋅(a\n",
       "⎢  ───────────────────────────────────────────────────────────────────────────\n",
       "⎢                                 2   2    2          ⎛       2   ⎞           \n",
       "⎣                               a₁ ⋅m₁ ⋅cos (x₂(t)) - ⎝J₁ + a₁ ⋅m₁⎠⋅(m₀ + m₁) \n",
       "\n",
       "                               ⎞⎤\n",
       "t)⋅sin(x₂(t)) + d₀⋅x₃(t) - u(t)⎠⎥\n",
       "────────────────────────────────⎥\n",
       "                                ⎥\n",
       "                                ⎥\n",
       "                                ⎥\n",
       "                                ⎥\n",
       "₁⋅g⋅m₁⋅sin(x₂(t)) - d₁⋅x₄(t))   ⎥\n",
       "─────────────────────────────   ⎥\n",
       "                                ⎥\n",
       "                                ⎦"
      ]
     },
     "execution_count": 72,
     "metadata": {},
     "output_type": "execute_result"
    }
   ],
   "source": [
    "xu_subs = [(dq0_t, x3_t), (dq1_t, x4_t), (q0_t, x1_t), (q1_t, x2_t), (F, u_t)]\n",
    "ddq = ddq.subs(xu_subs)\n",
    "ddq = sp.simplify(ddq)\n",
    "ddq"
   ]
  },
  {
   "cell_type": "code",
   "execution_count": 73,
   "metadata": {},
   "outputs": [],
   "source": [
    "dx_t = sp.Matrix([x3_t, x4_t, ddq[0], ddq[1]])\n",
    "ff = dx_t.subs([(u_t, 0)])\n",
    "gg = dx_t.diff(u_t)"
   ]
  },
  {
   "cell_type": "markdown",
   "metadata": {},
   "source": [
    "## 2.3 System Analysis\n",
    "### 2.3.1 Equilibria\n",
    "An equilibrium is a point in the state space, where the trajectory of the system dynamics is constant. To find such a point, $\\dot{\\mathbf{x}}$ is set equal to the zero vector. The result is a nonlinear equation system:\n",
    "\\begin{align}\n",
    "\\mathbf{0} = \\mathbf{f}(\\mathbf{x}) + \\mathbf{g}(\\mathbf{x})\\mathbf{u}\n",
    "\\end{align}\n",
    "The equation is dependent on the control vector $\\mathbf{u}$. But for now, only the equlibria of the autonomous system $\\mathbf{f}(\\mathbf{x})$ are of interest, therefore we set $\\mathbf{u}:= \\mathbf{0}$.\n",
    "To find the equilibria $\\mathbf{x}_{0,i}(i = 1,2,...)$ of the autonoums system, the following nonlinear equation system has to be solved:\n",
    "\\begin{align}\n",
    "\\mathbf{0} = \\mathbf{f}(\\mathbf{x})\n",
    "\\end{align}"
   ]
  },
  {
   "cell_type": "code",
   "execution_count": 74,
   "metadata": {},
   "outputs": [
    {
     "data": {
      "image/png": "[encoded data removed]",
      "text/latex": [
       "$$\\left [ \\left ( \\operatorname{x_{1}}{\\left (t \\right )}, \\quad 0, \\quad 0, \\quad 0\\right ), \\quad \\left ( \\operatorname{x_{1}}{\\left (t \\right )}, \\quad \\pi, \\quad 0, \\quad 0\\right )\\right ]$$"
      ],
      "text/plain": [
       "[(x₁(t), 0, 0, 0), (x₁(t), π, 0, 0)]"
      ]
     },
     "execution_count": 74,
     "metadata": {},
     "output_type": "execute_result"
    }
   ],
   "source": [
    "x0 = sp.solve(ff, x_t)\n",
    "x0"
   ]
  },
  {
   "cell_type": "markdown",
   "metadata": {},
   "source": [
    "The result are two equilbria $\\mathbf{x}_{0,1}$ and $\\mathbf{x}_{0,2}$ that are independent of the state variable $x_1$, the position of the cart. The two eqilibria are the pole in the upright and downright position at zero velocity of both cart and pole, as one would intuitively guess. But the equilibria of a system can not always be simply found by intuition, like in the cart-pole case, therefore the equilibria should always be found by the shown method."
   ]
  },
  {
   "cell_type": "markdown",
   "metadata": {},
   "source": [
    "### 2.3.2 Obtaining a linear state space model\n",
    "To obtain a linear state space model, a taylor expansion of the nonlinear equation is used. \n",
    "\\begin{align}\n",
    "\\dot{\\mathbf{x}}-\\dot{\\mathbf{x}}_{0,i} &\\approx \\underbrace{\\mathbf{f}(\\mathbf{x}_{0,i}) +\\mathbf{g}(\\mathbf{x}_{0,i})\\mathbf{u}_0}_{=0}\n",
    "+ \\underbrace{\\frac{\\partial}{\\partial \\mathbf{x}}\\left(\\mathbf{f}(\\mathbf{x}) +\\mathbf{g}(\\mathbf{x})\\mathbf{u}\\right)\\Big|_{\\substack{\\mathbf{u} = \\mathbf{u}_0 \\\\\\mathbf{x}=\\mathbf{x}_{0,i}}}}_{=:A_i}(\\mathbf{x}-\\mathbf{x}_{0,i})\n",
    "+ \\underbrace{\\frac{\\partial}{\\partial \\mathbf{u}}\\left(\\mathbf{f}(\\mathbf{x}) +\\mathbf{g}(\\mathbf{x})\\mathbf{u}\\right)\\Big|_{\\substack{\\mathbf{u} = \\mathbf{u}_0 \\\\\\mathbf{x}=\\mathbf{x}_{0,i}}}}_{=:B_i}(\\mathbf{u}-\\mathbf{u}_0)+\\mathcal{O}(2)\n",
    "\\end{align}\n",
    "First the linearization is done for the general case. Then, specific linear system matrices at the eqilibria are evaluated."
   ]
  },
  {
   "cell_type": "code",
   "execution_count": 78,
   "metadata": {},
   "outputs": [
    {
     "data": {
      "image/png": "[encoded data removed]",
      "text/latex": [
       "$$\\left ( \\left[\\begin{matrix}0 & 0 & 1 & 0\\\\0 & 0 & 0 & 1\\\\0 & - \\frac{a_{1}^{2} g m_{1}^{2}}{a_{1}^{2} m_{1}^{2} - \\left(J_{1} + a_{1}^{2} m_{1}\\right) \\left(m_{0} + m_{1}\\right)} & \\frac{d_{0} \\left(J_{1} + a_{1}^{2} m_{1}\\right)}{a_{1}^{2} m_{1}^{2} - \\left(J_{1} + a_{1}^{2} m_{1}\\right) \\left(m_{0} + m_{1}\\right)} & \\frac{a_{1} d_{1} m_{1}}{a_{1}^{2} m_{1}^{2} - \\left(J_{1} + a_{1}^{2} m_{1}\\right) \\left(m_{0} + m_{1}\\right)}\\\\0 & \\frac{a_{1} g m_{1} \\left(- m_{0} - m_{1}\\right)}{a_{1}^{2} m_{1}^{2} - \\left(J_{1} + a_{1}^{2} m_{1}\\right) \\left(m_{0} + m_{1}\\right)} & \\frac{a_{1} d_{0} m_{1}}{a_{1}^{2} m_{1}^{2} - \\left(J_{1} + a_{1}^{2} m_{1}\\right) \\left(m_{0} + m_{1}\\right)} & - \\frac{d_{1} \\left(- m_{0} - m_{1}\\right)}{a_{1}^{2} m_{1}^{2} - \\left(J_{1} + a_{1}^{2} m_{1}\\right) \\left(m_{0} + m_{1}\\right)}\\end{matrix}\\right], \\quad \\left[\\begin{matrix}0 & 0 & 1 & 0\\\\0 & 0 & 0 & 1\\\\0 & - \\frac{a_{1}^{2} g m_{1}^{2}}{a_{1}^{2} m_{1}^{2} - \\left(J_{1} + a_{1}^{2} m_{1}\\right) \\left(m_{0} + m_{1}\\right)} & \\frac{d_{0} \\left(J_{1} + a_{1}^{2} m_{1}\\right)}{a_{1}^{2} m_{1}^{2} - \\left(J_{1} + a_{1}^{2} m_{1}\\right) \\left(m_{0} + m_{1}\\right)} & - \\frac{a_{1} d_{1} m_{1}}{a_{1}^{2} m_{1}^{2} - \\left(J_{1} + a_{1}^{2} m_{1}\\right) \\left(m_{0} + m_{1}\\right)}\\\\0 & - \\frac{a_{1} g m_{1} \\left(- m_{0} - m_{1}\\right)}{a_{1}^{2} m_{1}^{2} - \\left(J_{1} + a_{1}^{2} m_{1}\\right) \\left(m_{0} + m_{1}\\right)} & - \\frac{a_{1} d_{0} m_{1}}{a_{1}^{2} m_{1}^{2} - \\left(J_{1} + a_{1}^{2} m_{1}\\right) \\left(m_{0} + m_{1}\\right)} & - \\frac{d_{1} \\left(- m_{0} - m_{1}\\right)}{a_{1}^{2} m_{1}^{2} - \\left(J_{1} + a_{1}^{2} m_{1}\\right) \\left(m_{0} + m_{1}\\right)}\\end{matrix}\\right], \\quad \\left[\\begin{matrix}0\\\\0\\\\\\frac{- J_{1} - a_{1}^{2} m_{1}}{a_{1}^{2} m_{1}^{2} - \\left(J_{1} + a_{1}^{2} m_{1}\\right) \\left(m_{0} + m_{1}\\right)}\\\\- \\frac{a_{1} m_{1}}{a_{1}^{2} m_{1}^{2} - \\left(J_{1} + a_{1}^{2} m_{1}\\right) \\left(m_{0} + m_{1}\\right)}\\end{matrix}\\right], \\quad \\left[\\begin{matrix}0\\\\0\\\\\\frac{- J_{1} - a_{1}^{2} m_{1}}{a_{1}^{2} m_{1}^{2} - \\left(J_{1} + a_{1}^{2} m_{1}\\right) \\left(m_{0} + m_{1}\\right)}\\\\\\frac{a_{1} m_{1}}{a_{1}^{2} m_{1}^{2} - \\left(J_{1} + a_{1}^{2} m_{1}\\right) \\left(m_{0} + m_{1}\\right)}\\end{matrix}\\right]\\right )$$"
      ],
      "text/plain": [
       "⎛⎡0                  0                                  1                     \n",
       "⎜⎢                                                                            \n",
       "⎜⎢0                  0                                  0                     \n",
       "⎜⎢                                                                            \n",
       "⎜⎢                 2     2                          ⎛       2   ⎞             \n",
       "⎜⎢              -a₁ ⋅g⋅m₁                        d₀⋅⎝J₁ + a₁ ⋅m₁⎠             \n",
       "⎜⎢0  ─────────────────────────────────  ─────────────────────────────────  ───\n",
       "⎜⎢     2   2   ⎛       2   ⎞              2   2   ⎛       2   ⎞              2\n",
       "⎜⎢   a₁ ⋅m₁  - ⎝J₁ + a₁ ⋅m₁⎠⋅(m₀ + m₁)  a₁ ⋅m₁  - ⎝J₁ + a₁ ⋅m₁⎠⋅(m₀ + m₁)  a₁ \n",
       "⎜⎢                                                                            \n",
       "⎜⎢           a₁⋅g⋅m₁⋅(-m₀ - m₁)                      a₁⋅d₀⋅m₁                 \n",
       "⎜⎢0  ─────────────────────────────────  ─────────────────────────────────  ───\n",
       "⎜⎢     2   2   ⎛       2   ⎞              2   2   ⎛       2   ⎞              2\n",
       "⎝⎣   a₁ ⋅m₁  - ⎝J₁ + a₁ ⋅m₁⎠⋅(m₀ + m₁)  a₁ ⋅m₁  - ⎝J₁ + a₁ ⋅m₁⎠⋅(m₀ + m₁)  a₁ \n",
       "\n",
       "             0                ⎤  ⎡0                  0                        \n",
       "                              ⎥  ⎢                                            \n",
       "             1                ⎥  ⎢0                  0                        \n",
       "                              ⎥  ⎢                                            \n",
       "                              ⎥  ⎢                 2     2                    \n",
       "          a₁⋅d₁⋅m₁            ⎥  ⎢              -a₁ ⋅g⋅m₁                     \n",
       "──────────────────────────────⎥  ⎢0  ─────────────────────────────────  ──────\n",
       "   2   ⎛       2   ⎞          ⎥, ⎢     2   2   ⎛       2   ⎞              2   \n",
       "⋅m₁  - ⎝J₁ + a₁ ⋅m₁⎠⋅(m₀ + m₁)⎥  ⎢   a₁ ⋅m₁  - ⎝J₁ + a₁ ⋅m₁⎠⋅(m₀ + m₁)  a₁ ⋅m₁\n",
       "                              ⎥  ⎢                                            \n",
       "      -d₁⋅(-m₀ - m₁)          ⎥  ⎢          -a₁⋅g⋅m₁⋅(-m₀ - m₁)               \n",
       "──────────────────────────────⎥  ⎢0  ─────────────────────────────────  ──────\n",
       "   2   ⎛       2   ⎞          ⎥  ⎢     2   2   ⎛       2   ⎞              2   \n",
       "⋅m₁  - ⎝J₁ + a₁ ⋅m₁⎠⋅(m₀ + m₁)⎦  ⎣   a₁ ⋅m₁  - ⎝J₁ + a₁ ⋅m₁⎠⋅(m₀ + m₁)  a₁ ⋅m₁\n",
       "\n",
       "          1                                  0                ⎤  ⎡            \n",
       "                                                              ⎥  ⎢            \n",
       "          0                                  1                ⎥  ⎢            \n",
       "                                                              ⎥  ⎢            \n",
       "      ⎛       2   ⎞                                           ⎥  ⎢            \n",
       "   d₀⋅⎝J₁ + a₁ ⋅m₁⎠                      -a₁⋅d₁⋅m₁            ⎥  ⎢           -\n",
       "───────────────────────────  ─────────────────────────────────⎥  ⎢────────────\n",
       "2   ⎛       2   ⎞              2   2   ⎛       2   ⎞          ⎥, ⎢  2   2   ⎛ \n",
       "  - ⎝J₁ + a₁ ⋅m₁⎠⋅(m₀ + m₁)  a₁ ⋅m₁  - ⎝J₁ + a₁ ⋅m₁⎠⋅(m₀ + m₁)⎥  ⎢a₁ ⋅m₁  - ⎝J\n",
       "                                                              ⎥  ⎢            \n",
       "      -a₁⋅d₀⋅m₁                       -d₁⋅(-m₀ - m₁)          ⎥  ⎢            \n",
       "───────────────────────────  ─────────────────────────────────⎥  ⎢────────────\n",
       "2   ⎛       2   ⎞              2   2   ⎛       2   ⎞          ⎥  ⎢  2   2   ⎛ \n",
       "  - ⎝J₁ + a₁ ⋅m₁⎠⋅(m₀ + m₁)  a₁ ⋅m₁  - ⎝J₁ + a₁ ⋅m₁⎠⋅(m₀ + m₁)⎦  ⎣a₁ ⋅m₁  - ⎝J\n",
       "\n",
       "    0                ⎤  ⎡                0                ⎤⎞\n",
       "                     ⎥  ⎢                                 ⎥⎟\n",
       "    0                ⎥  ⎢                0                ⎥⎟\n",
       "                     ⎥  ⎢                                 ⎥⎟\n",
       "       2             ⎥  ⎢                   2             ⎥⎟\n",
       "J₁ - a₁ ⋅m₁          ⎥  ⎢           -J₁ - a₁ ⋅m₁          ⎥⎟\n",
       "─────────────────────⎥  ⎢─────────────────────────────────⎥⎟\n",
       "      2   ⎞          ⎥, ⎢  2   2   ⎛       2   ⎞          ⎥⎟\n",
       "₁ + a₁ ⋅m₁⎠⋅(m₀ + m₁)⎥  ⎢a₁ ⋅m₁  - ⎝J₁ + a₁ ⋅m₁⎠⋅(m₀ + m₁)⎥⎟\n",
       "                     ⎥  ⎢                                 ⎥⎟\n",
       " -a₁⋅m₁              ⎥  ⎢              a₁⋅m₁              ⎥⎟\n",
       "─────────────────────⎥  ⎢─────────────────────────────────⎥⎟\n",
       "      2   ⎞          ⎥  ⎢  2   2   ⎛       2   ⎞          ⎥⎟\n",
       "₁ + a₁ ⋅m₁⎠⋅(m₀ + m₁)⎦  ⎣a₁ ⋅m₁  - ⎝J₁ + a₁ ⋅m₁⎠⋅(m₀ + m₁)⎦⎠"
      ]
     },
     "execution_count": 78,
     "metadata": {},
     "output_type": "execute_result"
    }
   ],
   "source": [
    "# separate (\"unpack\") equilibrium points\n",
    "x01, x02 = x0\n",
    "\n",
    "A = dx_t.jacobian(x_t)\n",
    "B = dx_t.diff(u_t)\n",
    "\n",
    "eql1_rplmts = list(zip(x_t, x01))\n",
    "eql2_rplmts = list(zip(x_t, x02))\n",
    "\n",
    "\n",
    "A1 = A.subs(eql1_rplmts) # pole upright\n",
    "B1 = B.subs(eql1_rplmts) # pole upright\n",
    "A2 = A.subs(eql2_rplmts) # pole downright\n",
    "B2 = B.subs(eql2_rplmts) # pole upright\n",
    "A1, A2, B1, B2"
   ]
  },
  {
   "cell_type": "markdown",
   "metadata": {},
   "source": [
    "### 2.3.3 Controllability and observability"
   ]
  },
  {
   "cell_type": "markdown",
   "metadata": {},
   "source": [
    "A linear time-invariant (LTI) system \n",
    "\\begin{align}\n",
    "\\dot{\\mathbf{x}} = A \\mathbf{x} + B \\mathbf{u},\n",
    "\\end{align}\n",
    "with \n",
    "\\begin{align}\n",
    "\\mathbf{x} \\in \\mathbb{R}^n, \\mathbf{u} \\in \\mathbb{R}^m  \\quad A \\in \\mathbb{R}^{n \\times n}, B \\in \\mathbb{R}^{n\\times m}\n",
    "\\end{align}\n",
    "is controlable if and only if the system states $\\mathbf{x}$ can be changed by changing the system input $\\mathbf{u}$.\n",
    "To investigate the controllability of the system, we use the Kalman criterion of controllabilty, which says that a LTI system is controllable if the Kalman controllabilty matrix $Q_c$ is full rank.\n",
    "\\begin{align}\n",
    "Q_c := \\begin{pmatrix}B, AB,..., A^{n-1}B\\end{pmatrix}\n",
    "\\end{align}\n",
    "\\begin{align}\n",
    "\\mathrm{rank} (Q_c) = n\n",
    "\\end{align}"
   ]
  },
  {
   "cell_type": "markdown",
   "metadata": {},
   "source": [
    "### Concatenating column vectors to a matrix with SymPy\n",
    "Given the to column vectors $a, b \\in \\mathbb{R}^n$, concatenating them to a matrix $(a,b)\\in \\mathbb{R}^{n\\times2}$ is not trivial in SymPy. Have a look at the following example:"
   ]
  },
  {
   "cell_type": "code",
   "execution_count": 79,
   "metadata": {},
   "outputs": [
    {
     "data": {
      "image/png": "[encoded data removed]",
      "text/latex": [
       "$$\\left ( \\left[\\begin{matrix}1\\\\2\\\\3\\end{matrix}\\right], \\quad \\left[\\begin{matrix}4\\\\5\\\\6\\end{matrix}\\right]\\right )$$"
      ],
      "text/plain": [
       "⎛⎡1⎤  ⎡4⎤⎞\n",
       "⎜⎢ ⎥  ⎢ ⎥⎟\n",
       "⎜⎢2⎥, ⎢5⎥⎟\n",
       "⎜⎢ ⎥  ⎢ ⎥⎟\n",
       "⎝⎣3⎦  ⎣6⎦⎠"
      ]
     },
     "execution_count": 79,
     "metadata": {},
     "output_type": "execute_result"
    }
   ],
   "source": [
    "a = sp.Matrix([1, 2, 3])\n",
    "b = sp.Matrix([4, 5, 6])\n",
    "a, b"
   ]
  },
  {
   "cell_type": "markdown",
   "metadata": {},
   "source": [
    "The resulting matrix should have two columns and three rows. But calling `sp.Matrix([a,b])` returns a column vector:"
   ]
  },
  {
   "cell_type": "code",
   "execution_count": 28,
   "metadata": {},
   "outputs": [
    {
     "data": {
      "image/png": "[encoded data removed]",
      "text/latex": [
       "$$\\left[\\begin{matrix}1\\\\2\\\\3\\\\4\\\\5\\\\6\\end{matrix}\\right]$$"
      ],
      "text/plain": [
       "⎡1⎤\n",
       "⎢ ⎥\n",
       "⎢2⎥\n",
       "⎢ ⎥\n",
       "⎢3⎥\n",
       "⎢ ⎥\n",
       "⎢4⎥\n",
       "⎢ ⎥\n",
       "⎢5⎥\n",
       "⎢ ⎥\n",
       "⎣6⎦"
      ]
     },
     "execution_count": 28,
     "metadata": {},
     "output_type": "execute_result"
    }
   ],
   "source": [
    "sp.Matrix([a,b])"
   ]
  },
  {
   "cell_type": "markdown",
   "metadata": {},
   "source": [
    "Instead sympy provides `row_join`:"
   ]
  },
  {
   "cell_type": "code",
   "execution_count": 90,
   "metadata": {},
   "outputs": [
    {
     "data": {
      "image/png": "[encoded data removed]",
      "text/latex": [
       "$$\\left[\\begin{matrix}1 & 4\\\\2 & 5\\\\3 & 6\\end{matrix}\\right]$$"
      ],
      "text/plain": [
       "⎡1  4⎤\n",
       "⎢    ⎥\n",
       "⎢2  5⎥\n",
       "⎢    ⎥\n",
       "⎣3  6⎦"
      ]
     },
     "execution_count": 90,
     "metadata": {},
     "output_type": "execute_result"
    }
   ],
   "source": [
    "a.row_join(b)"
   ]
  },
  {
   "cell_type": "markdown",
   "metadata": {},
   "source": [
    "A workaround to get the desired 3-by-2 matrix, is to concatenate the transpose of the vectors `a` and `b` and transpose the result:"
   ]
  },
  {
   "cell_type": "code",
   "execution_count": 29,
   "metadata": {},
   "outputs": [
    {
     "data": {
      "image/png": "[encoded data removed]",
      "text/latex": [
       "$$\\left[\\begin{matrix}1 & 4\\\\2 & 5\\\\3 & 6\\end{matrix}\\right]$$"
      ],
      "text/plain": [
       "⎡1  4⎤\n",
       "⎢    ⎥\n",
       "⎢2  5⎥\n",
       "⎢    ⎥\n",
       "⎣3  6⎦"
      ]
     },
     "execution_count": 29,
     "metadata": {},
     "output_type": "execute_result"
    }
   ],
   "source": [
    "sp.Matrix([a.T,b.T]).T"
   ]
  },
  {
   "cell_type": "markdown",
   "metadata": {},
   "source": [
    "With the shown workaround, the Kalman controllability matrix can be computed."
   ]
  },
  {
   "cell_type": "code",
   "execution_count": 91,
   "metadata": {},
   "outputs": [],
   "source": [
    "Q_c1 = sp.Matrix([B1.T,(A1*B1).T, (A1**2*B1).T, (A1**3*B1).T]).T"
   ]
  },
  {
   "cell_type": "markdown",
   "metadata": {},
   "source": [
    "To obtain a real valued matrix, the previously defined parameter values are substituted."
   ]
  },
  {
   "cell_type": "code",
   "execution_count": 92,
   "metadata": {},
   "outputs": [
    {
     "data": {
      "image/png": "[encoded data removed]",
      "text/latex": [
       "$$\\left[\\begin{matrix}0 & 0.288134321573856 & -0.00949674711378129 & 0.274455180960422\\\\0 & 0.425829735226365 & -0.0409452108698814 & 6.58190759357528\\\\0.288134321573856 & -0.00949674711378129 & 0.274455180960422 & -0.0527252512517845\\\\0.425829735226365 & -0.0409452108698814 & 6.58190759357528 & -1.08748858374126\\end{matrix}\\right]$$"
      ],
      "text/plain": [
       "⎡        0           0.288134321573856    -0.00949674711378129   0.27445518096\n",
       "⎢                                                                             \n",
       "⎢        0           0.425829735226365    -0.0409452108698814    6.58190759357\n",
       "⎢                                                                             \n",
       "⎢0.288134321573856  -0.00949674711378129   0.274455180960422    -0.05272525125\n",
       "⎢                                                                             \n",
       "⎣0.425829735226365  -0.0409452108698814     6.58190759357528     -1.0874885837\n",
       "\n",
       "0422 ⎤\n",
       "     ⎥\n",
       "528  ⎥\n",
       "     ⎥\n",
       "17845⎥\n",
       "     ⎥\n",
       "4126 ⎦"
      ]
     },
     "execution_count": 92,
     "metadata": {},
     "output_type": "execute_result"
    }
   ],
   "source": [
    "Q_c1 = Q_c1.subs(params_values)\n",
    "Q_c1"
   ]
  },
  {
   "cell_type": "markdown",
   "metadata": {},
   "source": [
    "Then the rank of $Q_{c,1}$ is computed:"
   ]
  },
  {
   "cell_type": "code",
   "execution_count": 94,
   "metadata": {},
   "outputs": [
    {
     "data": {
      "image/png": "[encoded data removed]",
      "text/latex": [
       "$$4$$"
      ],
      "text/plain": [
       "4"
      ]
     },
     "execution_count": 94,
     "metadata": {},
     "output_type": "execute_result"
    }
   ],
   "source": [
    "Q_c1.rank(simplify=True)"
   ]
  },
  {
   "cell_type": "markdown",
   "metadata": {},
   "source": [
    "**Note**: Calculating the rank of a numerical matrix can be tricky, due to the fact that the computer has to decide whether a small numerical value is equal to or different from zero.\n",
    "\n",
    "For the (educated) user to be sure the best is to have a look at the singular values."
   ]
  },
  {
   "cell_type": "code",
   "execution_count": 97,
   "metadata": {},
   "outputs": [
    {
     "data": {
      "image/png": "[encoded data removed]",
      "text/latex": [
       "$$\\left[\\begin{matrix}7.18812305476381 + 8.0 \\cdot 10^{-34} i\\\\6.05778976963889 + 8.0 \\cdot 10^{-34} i\\\\0.27301999353394 - 1.0 \\cdot 10^{-32} i\\\\0.266169200379219 - 1.0 \\cdot 10^{-32} i\\end{matrix}\\right]$$"
      ],
      "text/plain": [
       "⎡7.18812305476381 + 0.e-33⋅ⅈ ⎤\n",
       "⎢                            ⎥\n",
       "⎢6.05778976963889 + 0.e-33⋅ⅈ ⎥\n",
       "⎢                            ⎥\n",
       "⎢0.27301999353394 - 0.e-32⋅ⅈ ⎥\n",
       "⎢                            ⎥\n",
       "⎣0.266169200379219 - 0.e-32⋅ⅈ⎦"
      ]
     },
     "execution_count": 97,
     "metadata": {},
     "output_type": "execute_result"
    }
   ],
   "source": [
    "sp.Matrix(Q_c1.singular_values()).evalf()"
   ]
  },
  {
   "cell_type": "markdown",
   "metadata": {},
   "source": [
    "We see the smalles singular value is $\\approx 0.27 >> 0$ which means the matrix is regular. The very small imaginary \n",
    "parts are result of numerical calculation and can be neglected.\n",
    "\n",
    "---"
   ]
  },
  {
   "cell_type": "markdown",
   "metadata": {},
   "source": [
    "$\\mathrm{rank} (Q_{c,1}) = 4 = n$, the system is controllable in the upper equilibrium."
   ]
  },
  {
   "cell_type": "markdown",
   "metadata": {},
   "source": [
    "## 2.4 Linear Quadratic Regulator (LQR)"
   ]
  },
  {
   "cell_type": "markdown",
   "metadata": {},
   "source": [
    "The linear quadratic regulator (LQR) is a linear control scheme often used in pracitcal applications. With this method, an optimal state feedback of the closed loop system can be designed. Instead of placing the poles of the closed loop system manually (i.e. by Ackermann's formula), a linear feedback control law $\\mathbf{u}=-K\\mathbf{x}$ can be derived, such that the cost function $J$ is minimized.\n",
    "\n",
    "\\begin{align}\n",
    "J &= \\int_{t_0=0}^\\infty \\mathbf{x}(t)^\\textrm{T}Q\\mathbf{x}(t)+\\mathbf{u}(t)^\\textrm{T}R\\mathbf{u}(t) \\mathrm{d}t \\\\\n",
    "Q &\\in \\mathbb{R}^{n\\times n}, R \\in \\mathbb{R}^{m\\times m} - \\textrm{ diagonal weight matrices}\n",
    "\\end{align}\n",
    "\n",
    "$K=R^{-1}B^\\textrm{T}P$, where $P$ is the solution to the continuous time algebraic Riccati equation (ARE):\n",
    "\n",
    "\\begin{align}\n",
    "A^\\textrm{T}P+PA-PBR^{-1}B^\\textrm{T}P + Q = 0\n",
    "\\end{align}\n",
    "$A, B$ are the system matrices.\n",
    "\n",
    "The ARE can be solved in Python with the SciPy package:\n",
    "At first, the weight matrices are choosen. A high value stands for high cost of the corresponding signal.\n",
    "\n",
    "Note that if $Q >= 0$ and $R > 0$ then the control law $\\mathbf{u}=-K\\mathbf{x}$ places the poles of the closed loop always in the open left half-plane."
   ]
  },
  {
   "cell_type": "code",
   "execution_count": 98,
   "metadata": {},
   "outputs": [
    {
     "data": {
      "text/plain": [
       "(array([[ 10.,   0.,   0.,   0.],\n",
       "        [  0.,  10.,   0.,   0.],\n",
       "        [  0.,   0.,  10.,   0.],\n",
       "        [  0.,   0.,   0.,  10.]]), 0.1)"
      ]
     },
     "execution_count": 98,
     "metadata": {},
     "output_type": "execute_result"
    }
   ],
   "source": [
    "Q = 10*np.eye(4)\n",
    "R = 0.1\n",
    "Q, R"
   ]
  },
  {
   "cell_type": "markdown",
   "metadata": {},
   "source": [
    "The parameters are substituted into the system matrices of the upper equilibrium and the resulting matrices are converted to the correct type."
   ]
  },
  {
   "cell_type": "code",
   "execution_count": 99,
   "metadata": {},
   "outputs": [
    {
     "data": {
      "text/plain": [
       "(array([[  0.00000000e+00,   0.00000000e+00,   1.00000000e+00,\n",
       "           0.00000000e+00],\n",
       "        [  0.00000000e+00,   0.00000000e+00,   0.00000000e+00,\n",
       "           1.00000000e+00],\n",
       "        [  0.00000000e+00,   6.43606254e-01,  -2.88134322e-02,\n",
       "          -2.80536630e-03],\n",
       "        [  0.00000000e+00,   1.54492403e+01,  -4.25829735e-02,\n",
       "          -6.73405174e-02]]), array([[ 0.        ],\n",
       "        [ 0.        ],\n",
       "        [ 0.28813432],\n",
       "        [ 0.42582974]]))"
      ]
     },
     "execution_count": 99,
     "metadata": {},
     "output_type": "execute_result"
    }
   ],
   "source": [
    "A = A1.subs(params_values)\n",
    "B = B1.subs(params_values)\n",
    "A = np.array(A).astype(np.float64)\n",
    "B = np.array(B).astype(np.float64)\n",
    "A, B"
   ]
  },
  {
   "cell_type": "markdown",
   "metadata": {},
   "source": [
    "The SciPy package is imported and the ARE is solved to obtain $P$."
   ]
  },
  {
   "cell_type": "code",
   "execution_count": 100,
   "metadata": {},
   "outputs": [],
   "source": [
    "import scipy as sci\n",
    "from scipy import linalg"
   ]
  },
  {
   "cell_type": "code",
   "execution_count": 101,
   "metadata": {},
   "outputs": [
    {
     "data": {
      "text/plain": [
       "array([[  18.64638492,  -42.32305222,   12.38388353,  -10.72781326],\n",
       "       [ -42.32305222,  343.63231708,  -68.00490028,   83.06410971],\n",
       "       [  12.38388353,  -68.00490028,   18.74020643,  -17.0827318 ],\n",
       "       [ -10.72781326,   83.06410971,  -17.0827318 ,   21.3363659 ]])"
      ]
     },
     "execution_count": 101,
     "metadata": {},
     "output_type": "execute_result"
    }
   ],
   "source": [
    "P = sci.linalg.solve_continuous_are(A, B, Q, R)\n",
    "P"
   ]
  },
  {
   "cell_type": "markdown",
   "metadata": {},
   "source": [
    "The feedback matrix $K$ is computed."
   ]
  },
  {
   "cell_type": "code",
   "execution_count": 102,
   "metadata": {},
   "outputs": [
    {
     "data": {
      "text/plain": [
       "array([[ -10.        ,  157.76622042,  -18.74638492,   41.63537705]])"
      ]
     },
     "execution_count": 102,
     "metadata": {},
     "output_type": "execute_result"
    }
   ],
   "source": [
    "K = 1/R*B.T.dot(P)\n",
    "K"
   ]
  },
  {
   "cell_type": "markdown",
   "metadata": {},
   "source": [
    "## Simulation"
   ]
  },
  {
   "cell_type": "markdown",
   "metadata": {},
   "source": [
    "For the simulation SciPy's integrate package is used."
   ]
  },
  {
   "cell_type": "code",
   "execution_count": 103,
   "metadata": {},
   "outputs": [],
   "source": [
    "from scipy import integrate"
   ]
  },
  {
   "cell_type": "markdown",
   "metadata": {},
   "source": [
    "At first, all relevant simulation parameters are defined."
   ]
  },
  {
   "cell_type": "code",
   "execution_count": 104,
   "metadata": {
    "scrolled": true
   },
   "outputs": [],
   "source": [
    "t0 = 0 # start time\n",
    "tf = 10 # final time\n",
    "dt = 0.04 # stepsize\n",
    "tt = np.arange(t0,tf,dt) # simulation time\n",
    "x0 = np.array([1, 1.3, 0, 0]) # initial value\n",
    "dx_t = dx_t.subs(params_values) # substitute the parameters in dx_t"
   ]
  },
  {
   "cell_type": "markdown",
   "metadata": {},
   "source": [
    "The right hand side of $\\dot x=f(x)$ has to be converted from a symbolic expression to a (fast) callable python function."
   ]
  },
  {
   "cell_type": "code",
   "execution_count": 113,
   "metadata": {},
   "outputs": [],
   "source": [
    "x1, x2, x3, x4, u = sp.symbols(\"x1, x2, x3, x4, u\")\n",
    "dx_t_with_symbols = dx_t.subs(list(zip(x_t, xx))).subs(u_t, u)\n",
    "\n",
    "dx_func = sp.lambdify((x1, x2, x3, x4, u), dx_t_with_symbols, modules=\"numpy\")"
   ]
  },
  {
   "cell_type": "code",
   "execution_count": 112,
   "metadata": {},
   "outputs": [
    {
     "data": {
      "image/png": "[encoded data removed]",
      "text/latex": [
       "$$\\left[\\begin{matrix}x_{3}\\\\x_{4}\\\\\\frac{- 0.10424957 u + 0.010424957 x_{3} + 0.01606162700033 x_{4}^{2} \\sin{\\left (x_{2} \\right )} - 0.154069 \\left(- 0.006588 x_{4} + 1.51141689 \\sin{\\left (x_{2} \\right )}\\right) \\cos{\\left (x_{2} \\right )}}{0.023737256761 \\cos^{2}{\\left (x_{2} \\right )} - 0.385546184731}\\\\\\frac{0.0243644004 x_{4} + 0.154069 \\left(- u + 0.1 x_{3} + 0.154069 x_{4}^{2} \\sin{\\left (x_{2} \\right )}\\right) \\cos{\\left (x_{2} \\right )} - 5.589673084287 \\sin{\\left (x_{2} \\right )}}{0.023737256761 \\cos^{2}{\\left (x_{2} \\right )} - 0.385546184731}\\end{matrix}\\right]$$"
      ],
      "text/plain": [
       "⎡                                                         x₃                  \n",
       "⎢                                                                             \n",
       "⎢                                                         x₄                  \n",
       "⎢                                                                             \n",
       "⎢                                                    2                        \n",
       "⎢-0.10424957⋅u + 0.010424957⋅x₃ + 0.01606162700033⋅x₄ ⋅sin(x₂) - 0.154069⋅(-0.\n",
       "⎢─────────────────────────────────────────────────────────────────────────────\n",
       "⎢                                                        2                    \n",
       "⎢                                      0.023737256761⋅cos (x₂) - 0.38554618473\n",
       "⎢                                                                             \n",
       "⎢                                     ⎛                         2        ⎞    \n",
       "⎢          0.0243644004⋅x₄ + 0.154069⋅⎝-u + 0.1⋅x₃ + 0.154069⋅x₄ ⋅sin(x₂)⎠⋅cos\n",
       "⎢          ───────────────────────────────────────────────────────────────────\n",
       "⎢                                                        2                    \n",
       "⎣                                      0.023737256761⋅cos (x₂) - 0.38554618473\n",
       "\n",
       "                                       ⎤\n",
       "                                       ⎥\n",
       "                                       ⎥\n",
       "                                       ⎥\n",
       "                                       ⎥\n",
       "006588⋅x₄ + 1.51141689⋅sin(x₂))⋅cos(x₂)⎥\n",
       "───────────────────────────────────────⎥\n",
       "                                       ⎥\n",
       "1                                      ⎥\n",
       "                                       ⎥\n",
       "                                       ⎥\n",
       "(x₂) - 5.589673084287⋅sin(x₂)          ⎥\n",
       "─────────────────────────────          ⎥\n",
       "                                       ⎥\n",
       "1                                      ⎦"
      ]
     },
     "execution_count": 112,
     "metadata": {},
     "output_type": "execute_result"
    }
   ],
   "source": [
    "dx_t_with_symbols"
   ]
  },
  {
   "cell_type": "code",
   "execution_count": 117,
   "metadata": {},
   "outputs": [
    {
     "data": {
      "text/plain": [
       "array([[ 0.],\n",
       "       [ 0.],\n",
       "       [-0.],\n",
       "       [-0.]])"
      ]
     },
     "execution_count": 117,
     "metadata": {},
     "output_type": "execute_result"
    }
   ],
   "source": [
    "# plausibility check1: equilibrium\n",
    "dx_func(0, 0, 0, 0, 0)"
   ]
  },
  {
   "cell_type": "code",
   "execution_count": 118,
   "metadata": {},
   "outputs": [
    {
     "data": {
      "text/plain": [
       "array([[ 0.        ],\n",
       "       [ 0.        ],\n",
       "       [ 0.57626864],\n",
       "       [ 0.85165947]])"
      ]
     },
     "execution_count": 118,
     "metadata": {},
     "output_type": "execute_result"
    }
   ],
   "source": [
    "# plausibility check1: equilibrium + initial force\n",
    "dx_func(0, 0, 0, 0, 2)"
   ]
  },
  {
   "cell_type": "markdown",
   "metadata": {},
   "source": [
    "Wrapper function to evaluate the control algorithm and have the right argument-signature (t, x) for simulation.\n",
    "\n",
    "Then, the differential equation of the system is implemented in a function `fbODE(t, x)` (feedback ODE)."
   ]
  },
  {
   "cell_type": "code",
   "execution_count": 60,
   "metadata": {},
   "outputs": [],
   "source": [
    "def fbODE(t, x):\n",
    "    '''Nonlinear system of equations dx/dt = f(x,u) = f(x,-K*x) = f(x)'''\n",
    "    u = -K.dot(x) # define the control law\n",
    "    dx = dx_t.subs([(x_t[i], x[i]) for i in range(0,4)]) #substitute the current state x in dx_t\n",
    "    dx = dx.subs([(u_t, u)]) # substitute the current control u for the symbolic expression u_t in dx_t\n",
    "    dx = np.array(dx).astype(np.float64) # convert the resulting vector to a float data type\n",
    "    dx = dx[:,0] # return the correct shape of the vector\n",
    "    return dx"
   ]
  },
  {
   "cell_type": "markdown",
   "metadata": {},
   "source": [
    "Finally the initial value problem is solved."
   ]
  },
  {
   "cell_type": "code",
   "execution_count": 61,
   "metadata": {},
   "outputs": [
    {
     "ename": "KeyboardInterrupt",
     "evalue": "",
     "output_type": "error",
     "traceback": [
      "\u001b[0;31m---------------------------------------------------------------------------\u001b[0m",
      "\u001b[0;31mKeyboardInterrupt\u001b[0m                         Traceback (most recent call last)",
      "\u001b[0;32m<ipython-input-61-1e58f445c553>\u001b[0m in \u001b[0;36m<module>\u001b[0;34m()\u001b[0m\n\u001b[0;32m----> 1\u001b[0;31m \u001b[0msol\u001b[0m \u001b[0;34m=\u001b[0m \u001b[0msci\u001b[0m\u001b[0;34m.\u001b[0m\u001b[0mintegrate\u001b[0m\u001b[0;34m.\u001b[0m\u001b[0msolve_ivp\u001b[0m\u001b[0;34m(\u001b[0m\u001b[0mfbODE\u001b[0m\u001b[0;34m,\u001b[0m \u001b[0;34m(\u001b[0m\u001b[0mt0\u001b[0m\u001b[0;34m,\u001b[0m \u001b[0mtf\u001b[0m\u001b[0;34m)\u001b[0m\u001b[0;34m,\u001b[0m \u001b[0mx0\u001b[0m\u001b[0;34m,\u001b[0m \u001b[0mmethod\u001b[0m\u001b[0;34m=\u001b[0m\u001b[0;34m'RK45'\u001b[0m\u001b[0;34m,\u001b[0m \u001b[0mt_eval\u001b[0m\u001b[0;34m=\u001b[0m\u001b[0mtt\u001b[0m\u001b[0;34m)\u001b[0m\u001b[0;34m\u001b[0m\u001b[0m\n\u001b[0m",
      "\u001b[0;32m/Library/Frameworks/Python.framework/Versions/3.6/lib/python3.6/site-packages/scipy/integrate/_ivp/ivp.py\u001b[0m in \u001b[0;36msolve_ivp\u001b[0;34m(fun, t_span, y0, method, t_eval, dense_output, events, vectorized, **options)\u001b[0m\n\u001b[1;32m    474\u001b[0m     \u001b[0mstatus\u001b[0m \u001b[0;34m=\u001b[0m \u001b[0;32mNone\u001b[0m\u001b[0;34m\u001b[0m\u001b[0m\n\u001b[1;32m    475\u001b[0m     \u001b[0;32mwhile\u001b[0m \u001b[0mstatus\u001b[0m \u001b[0;32mis\u001b[0m \u001b[0;32mNone\u001b[0m\u001b[0;34m:\u001b[0m\u001b[0;34m\u001b[0m\u001b[0m\n\u001b[0;32m--> 476\u001b[0;31m         \u001b[0mmessage\u001b[0m \u001b[0;34m=\u001b[0m \u001b[0msolver\u001b[0m\u001b[0;34m.\u001b[0m\u001b[0mstep\u001b[0m\u001b[0;34m(\u001b[0m\u001b[0;34m)\u001b[0m\u001b[0;34m\u001b[0m\u001b[0m\n\u001b[0m\u001b[1;32m    477\u001b[0m \u001b[0;34m\u001b[0m\u001b[0m\n\u001b[1;32m    478\u001b[0m         \u001b[0;32mif\u001b[0m \u001b[0msolver\u001b[0m\u001b[0;34m.\u001b[0m\u001b[0mstatus\u001b[0m \u001b[0;34m==\u001b[0m \u001b[0;34m'finished'\u001b[0m\u001b[0;34m:\u001b[0m\u001b[0;34m\u001b[0m\u001b[0m\n",
      "\u001b[0;32m/Library/Frameworks/Python.framework/Versions/3.6/lib/python3.6/site-packages/scipy/integrate/_ivp/base.py\u001b[0m in \u001b[0;36mstep\u001b[0;34m(self)\u001b[0m\n\u001b[1;32m    180\u001b[0m         \u001b[0;32melse\u001b[0m\u001b[0;34m:\u001b[0m\u001b[0;34m\u001b[0m\u001b[0m\n\u001b[1;32m    181\u001b[0m             \u001b[0mt\u001b[0m \u001b[0;34m=\u001b[0m \u001b[0mself\u001b[0m\u001b[0;34m.\u001b[0m\u001b[0mt\u001b[0m\u001b[0;34m\u001b[0m\u001b[0m\n\u001b[0;32m--> 182\u001b[0;31m             \u001b[0msuccess\u001b[0m\u001b[0;34m,\u001b[0m \u001b[0mmessage\u001b[0m \u001b[0;34m=\u001b[0m \u001b[0mself\u001b[0m\u001b[0;34m.\u001b[0m\u001b[0m_step_impl\u001b[0m\u001b[0;34m(\u001b[0m\u001b[0;34m)\u001b[0m\u001b[0;34m\u001b[0m\u001b[0m\n\u001b[0m\u001b[1;32m    183\u001b[0m \u001b[0;34m\u001b[0m\u001b[0m\n\u001b[1;32m    184\u001b[0m             \u001b[0;32mif\u001b[0m \u001b[0;32mnot\u001b[0m \u001b[0msuccess\u001b[0m\u001b[0;34m:\u001b[0m\u001b[0;34m\u001b[0m\u001b[0m\n",
      "\u001b[0;32m/Library/Frameworks/Python.framework/Versions/3.6/lib/python3.6/site-packages/scipy/integrate/_ivp/rk.py\u001b[0m in \u001b[0;36m_step_impl\u001b[0;34m(self)\u001b[0m\n\u001b[1;32m    137\u001b[0m \u001b[0;34m\u001b[0m\u001b[0m\n\u001b[1;32m    138\u001b[0m             y_new, f_new, error = rk_step(self.fun, t, y, self.f, h, self.A,\n\u001b[0;32m--> 139\u001b[0;31m                                           self.B, self.C, self.E, self.K)\n\u001b[0m\u001b[1;32m    140\u001b[0m             \u001b[0mscale\u001b[0m \u001b[0;34m=\u001b[0m \u001b[0matol\u001b[0m \u001b[0;34m+\u001b[0m \u001b[0mnp\u001b[0m\u001b[0;34m.\u001b[0m\u001b[0mmaximum\u001b[0m\u001b[0;34m(\u001b[0m\u001b[0mnp\u001b[0m\u001b[0;34m.\u001b[0m\u001b[0mabs\u001b[0m\u001b[0;34m(\u001b[0m\u001b[0my\u001b[0m\u001b[0;34m)\u001b[0m\u001b[0;34m,\u001b[0m \u001b[0mnp\u001b[0m\u001b[0;34m.\u001b[0m\u001b[0mabs\u001b[0m\u001b[0;34m(\u001b[0m\u001b[0my_new\u001b[0m\u001b[0;34m)\u001b[0m\u001b[0;34m)\u001b[0m \u001b[0;34m*\u001b[0m \u001b[0mrtol\u001b[0m\u001b[0;34m\u001b[0m\u001b[0m\n\u001b[1;32m    141\u001b[0m             \u001b[0merror_norm\u001b[0m \u001b[0;34m=\u001b[0m \u001b[0mnorm\u001b[0m\u001b[0;34m(\u001b[0m\u001b[0merror\u001b[0m \u001b[0;34m/\u001b[0m \u001b[0mscale\u001b[0m\u001b[0;34m)\u001b[0m\u001b[0;34m\u001b[0m\u001b[0m\n",
      "\u001b[0;32m/Library/Frameworks/Python.framework/Versions/3.6/lib/python3.6/site-packages/scipy/integrate/_ivp/rk.py\u001b[0m in \u001b[0;36mrk_step\u001b[0;34m(fun, t, y, f, h, A, B, C, E, K)\u001b[0m\n\u001b[1;32m     68\u001b[0m     \u001b[0;32mfor\u001b[0m \u001b[0ms\u001b[0m\u001b[0;34m,\u001b[0m \u001b[0;34m(\u001b[0m\u001b[0ma\u001b[0m\u001b[0;34m,\u001b[0m \u001b[0mc\u001b[0m\u001b[0;34m)\u001b[0m \u001b[0;32min\u001b[0m \u001b[0menumerate\u001b[0m\u001b[0;34m(\u001b[0m\u001b[0mzip\u001b[0m\u001b[0;34m(\u001b[0m\u001b[0mA\u001b[0m\u001b[0;34m,\u001b[0m \u001b[0mC\u001b[0m\u001b[0;34m)\u001b[0m\u001b[0;34m)\u001b[0m\u001b[0;34m:\u001b[0m\u001b[0;34m\u001b[0m\u001b[0m\n\u001b[1;32m     69\u001b[0m         \u001b[0mdy\u001b[0m \u001b[0;34m=\u001b[0m \u001b[0mnp\u001b[0m\u001b[0;34m.\u001b[0m\u001b[0mdot\u001b[0m\u001b[0;34m(\u001b[0m\u001b[0mK\u001b[0m\u001b[0;34m[\u001b[0m\u001b[0;34m:\u001b[0m\u001b[0ms\u001b[0m \u001b[0;34m+\u001b[0m \u001b[0;36m1\u001b[0m\u001b[0;34m]\u001b[0m\u001b[0;34m.\u001b[0m\u001b[0mT\u001b[0m\u001b[0;34m,\u001b[0m \u001b[0ma\u001b[0m\u001b[0;34m)\u001b[0m \u001b[0;34m*\u001b[0m \u001b[0mh\u001b[0m\u001b[0;34m\u001b[0m\u001b[0m\n\u001b[0;32m---> 70\u001b[0;31m         \u001b[0mK\u001b[0m\u001b[0;34m[\u001b[0m\u001b[0ms\u001b[0m \u001b[0;34m+\u001b[0m \u001b[0;36m1\u001b[0m\u001b[0;34m]\u001b[0m \u001b[0;34m=\u001b[0m \u001b[0mfun\u001b[0m\u001b[0;34m(\u001b[0m\u001b[0mt\u001b[0m \u001b[0;34m+\u001b[0m \u001b[0mc\u001b[0m \u001b[0;34m*\u001b[0m \u001b[0mh\u001b[0m\u001b[0;34m,\u001b[0m \u001b[0my\u001b[0m \u001b[0;34m+\u001b[0m \u001b[0mdy\u001b[0m\u001b[0;34m)\u001b[0m\u001b[0;34m\u001b[0m\u001b[0m\n\u001b[0m\u001b[1;32m     71\u001b[0m \u001b[0;34m\u001b[0m\u001b[0m\n\u001b[1;32m     72\u001b[0m     \u001b[0my_new\u001b[0m \u001b[0;34m=\u001b[0m \u001b[0my\u001b[0m \u001b[0;34m+\u001b[0m \u001b[0mh\u001b[0m \u001b[0;34m*\u001b[0m \u001b[0mnp\u001b[0m\u001b[0;34m.\u001b[0m\u001b[0mdot\u001b[0m\u001b[0;34m(\u001b[0m\u001b[0mK\u001b[0m\u001b[0;34m[\u001b[0m\u001b[0;34m:\u001b[0m\u001b[0;34m-\u001b[0m\u001b[0;36m1\u001b[0m\u001b[0;34m]\u001b[0m\u001b[0;34m.\u001b[0m\u001b[0mT\u001b[0m\u001b[0;34m,\u001b[0m \u001b[0mB\u001b[0m\u001b[0;34m)\u001b[0m\u001b[0;34m\u001b[0m\u001b[0m\n",
      "\u001b[0;32m/Library/Frameworks/Python.framework/Versions/3.6/lib/python3.6/site-packages/scipy/integrate/_ivp/base.py\u001b[0m in \u001b[0;36mfun\u001b[0;34m(t, y)\u001b[0m\n\u001b[1;32m    137\u001b[0m         \u001b[0;32mdef\u001b[0m \u001b[0mfun\u001b[0m\u001b[0;34m(\u001b[0m\u001b[0mt\u001b[0m\u001b[0;34m,\u001b[0m \u001b[0my\u001b[0m\u001b[0;34m)\u001b[0m\u001b[0;34m:\u001b[0m\u001b[0;34m\u001b[0m\u001b[0m\n\u001b[1;32m    138\u001b[0m             \u001b[0mself\u001b[0m\u001b[0;34m.\u001b[0m\u001b[0mnfev\u001b[0m \u001b[0;34m+=\u001b[0m \u001b[0;36m1\u001b[0m\u001b[0;34m\u001b[0m\u001b[0m\n\u001b[0;32m--> 139\u001b[0;31m             \u001b[0;32mreturn\u001b[0m \u001b[0mself\u001b[0m\u001b[0;34m.\u001b[0m\u001b[0mfun_single\u001b[0m\u001b[0;34m(\u001b[0m\u001b[0mt\u001b[0m\u001b[0;34m,\u001b[0m \u001b[0my\u001b[0m\u001b[0;34m)\u001b[0m\u001b[0;34m\u001b[0m\u001b[0m\n\u001b[0m\u001b[1;32m    140\u001b[0m \u001b[0;34m\u001b[0m\u001b[0m\n\u001b[1;32m    141\u001b[0m         \u001b[0mself\u001b[0m\u001b[0;34m.\u001b[0m\u001b[0mfun\u001b[0m \u001b[0;34m=\u001b[0m \u001b[0mfun\u001b[0m\u001b[0;34m\u001b[0m\u001b[0m\n",
      "\u001b[0;32m/Library/Frameworks/Python.framework/Versions/3.6/lib/python3.6/site-packages/scipy/integrate/_ivp/base.py\u001b[0m in \u001b[0;36mfun_wrapped\u001b[0;34m(t, y)\u001b[0m\n\u001b[1;32m     19\u001b[0m \u001b[0;34m\u001b[0m\u001b[0m\n\u001b[1;32m     20\u001b[0m     \u001b[0;32mdef\u001b[0m \u001b[0mfun_wrapped\u001b[0m\u001b[0;34m(\u001b[0m\u001b[0mt\u001b[0m\u001b[0;34m,\u001b[0m \u001b[0my\u001b[0m\u001b[0;34m)\u001b[0m\u001b[0;34m:\u001b[0m\u001b[0;34m\u001b[0m\u001b[0m\n\u001b[0;32m---> 21\u001b[0;31m         \u001b[0;32mreturn\u001b[0m \u001b[0mnp\u001b[0m\u001b[0;34m.\u001b[0m\u001b[0masarray\u001b[0m\u001b[0;34m(\u001b[0m\u001b[0mfun\u001b[0m\u001b[0;34m(\u001b[0m\u001b[0mt\u001b[0m\u001b[0;34m,\u001b[0m \u001b[0my\u001b[0m\u001b[0;34m)\u001b[0m\u001b[0;34m,\u001b[0m \u001b[0mdtype\u001b[0m\u001b[0;34m=\u001b[0m\u001b[0mdtype\u001b[0m\u001b[0;34m)\u001b[0m\u001b[0;34m\u001b[0m\u001b[0m\n\u001b[0m\u001b[1;32m     22\u001b[0m \u001b[0;34m\u001b[0m\u001b[0m\n\u001b[1;32m     23\u001b[0m     \u001b[0;32mreturn\u001b[0m \u001b[0mfun_wrapped\u001b[0m\u001b[0;34m,\u001b[0m \u001b[0my0\u001b[0m\u001b[0;34m\u001b[0m\u001b[0m\n",
      "\u001b[0;32m<ipython-input-60-b84174b35e41>\u001b[0m in \u001b[0;36mfbODE\u001b[0;34m(t, x)\u001b[0m\n\u001b[1;32m      2\u001b[0m     \u001b[0;34m'''Nonlinear system of equations dx/dt = f(x,u) = f(x,-K*x) = f(x)'''\u001b[0m\u001b[0;34m\u001b[0m\u001b[0m\n\u001b[1;32m      3\u001b[0m     \u001b[0mu\u001b[0m \u001b[0;34m=\u001b[0m \u001b[0;34m-\u001b[0m\u001b[0mK\u001b[0m\u001b[0;34m.\u001b[0m\u001b[0mdot\u001b[0m\u001b[0;34m(\u001b[0m\u001b[0mx\u001b[0m\u001b[0;34m)\u001b[0m \u001b[0;31m# define the control law\u001b[0m\u001b[0;34m\u001b[0m\u001b[0m\n\u001b[0;32m----> 4\u001b[0;31m     \u001b[0mdx\u001b[0m \u001b[0;34m=\u001b[0m \u001b[0mdx_t\u001b[0m\u001b[0;34m.\u001b[0m\u001b[0msubs\u001b[0m\u001b[0;34m(\u001b[0m\u001b[0;34m[\u001b[0m\u001b[0;34m(\u001b[0m\u001b[0mx_t\u001b[0m\u001b[0;34m[\u001b[0m\u001b[0mi\u001b[0m\u001b[0;34m]\u001b[0m\u001b[0;34m,\u001b[0m \u001b[0mx\u001b[0m\u001b[0;34m[\u001b[0m\u001b[0mi\u001b[0m\u001b[0;34m]\u001b[0m\u001b[0;34m)\u001b[0m \u001b[0;32mfor\u001b[0m \u001b[0mi\u001b[0m \u001b[0;32min\u001b[0m \u001b[0mrange\u001b[0m\u001b[0;34m(\u001b[0m\u001b[0;36m0\u001b[0m\u001b[0;34m,\u001b[0m\u001b[0;36m4\u001b[0m\u001b[0;34m)\u001b[0m\u001b[0;34m]\u001b[0m\u001b[0;34m)\u001b[0m \u001b[0;31m#substitute the current state x in dx_t\u001b[0m\u001b[0;34m\u001b[0m\u001b[0m\n\u001b[0m\u001b[1;32m      5\u001b[0m     \u001b[0mdx\u001b[0m \u001b[0;34m=\u001b[0m \u001b[0mdx\u001b[0m\u001b[0;34m.\u001b[0m\u001b[0msubs\u001b[0m\u001b[0;34m(\u001b[0m\u001b[0;34m[\u001b[0m\u001b[0;34m(\u001b[0m\u001b[0mu_t\u001b[0m\u001b[0;34m,\u001b[0m \u001b[0mu\u001b[0m\u001b[0;34m)\u001b[0m\u001b[0;34m]\u001b[0m\u001b[0;34m)\u001b[0m \u001b[0;31m# substitute the current control u for the symbolic expression u_t in dx_t\u001b[0m\u001b[0;34m\u001b[0m\u001b[0m\n\u001b[1;32m      6\u001b[0m     \u001b[0mdx\u001b[0m \u001b[0;34m=\u001b[0m \u001b[0mnp\u001b[0m\u001b[0;34m.\u001b[0m\u001b[0marray\u001b[0m\u001b[0;34m(\u001b[0m\u001b[0mdx\u001b[0m\u001b[0;34m)\u001b[0m\u001b[0;34m.\u001b[0m\u001b[0mastype\u001b[0m\u001b[0;34m(\u001b[0m\u001b[0mnp\u001b[0m\u001b[0;34m.\u001b[0m\u001b[0mfloat64\u001b[0m\u001b[0;34m)\u001b[0m \u001b[0;31m# convert the resulting vector to a float data type\u001b[0m\u001b[0;34m\u001b[0m\u001b[0m\n",
      "\u001b[0;32m/Library/Frameworks/Python.framework/Versions/3.6/lib/python3.6/site-packages/sympy/matrices/common.py\u001b[0m in \u001b[0;36msubs\u001b[0;34m(self, *args, **kwargs)\u001b[0m\n\u001b[1;32m   1801\u001b[0m         \u001b[0mMatrix\u001b[0m\u001b[0;34m(\u001b[0m\u001b[0;34m[\u001b[0m\u001b[0;34m[\u001b[0m\u001b[0mx\u001b[0m\u001b[0;34m]\u001b[0m\u001b[0;34m]\u001b[0m\u001b[0;34m)\u001b[0m\u001b[0;34m\u001b[0m\u001b[0m\n\u001b[1;32m   1802\u001b[0m         \"\"\"\n\u001b[0;32m-> 1803\u001b[0;31m         \u001b[0;32mreturn\u001b[0m \u001b[0mself\u001b[0m\u001b[0;34m.\u001b[0m\u001b[0mapplyfunc\u001b[0m\u001b[0;34m(\u001b[0m\u001b[0;32mlambda\u001b[0m \u001b[0mx\u001b[0m\u001b[0;34m:\u001b[0m \u001b[0mx\u001b[0m\u001b[0;34m.\u001b[0m\u001b[0msubs\u001b[0m\u001b[0;34m(\u001b[0m\u001b[0;34m*\u001b[0m\u001b[0margs\u001b[0m\u001b[0;34m,\u001b[0m \u001b[0;34m**\u001b[0m\u001b[0mkwargs\u001b[0m\u001b[0;34m)\u001b[0m\u001b[0;34m)\u001b[0m\u001b[0;34m\u001b[0m\u001b[0m\n\u001b[0m\u001b[1;32m   1804\u001b[0m \u001b[0;34m\u001b[0m\u001b[0m\n\u001b[1;32m   1805\u001b[0m     \u001b[0;32mdef\u001b[0m \u001b[0mtrace\u001b[0m\u001b[0;34m(\u001b[0m\u001b[0mself\u001b[0m\u001b[0;34m)\u001b[0m\u001b[0;34m:\u001b[0m\u001b[0;34m\u001b[0m\u001b[0m\n",
      "\u001b[0;32m/Library/Frameworks/Python.framework/Versions/3.6/lib/python3.6/site-packages/sympy/matrices/common.py\u001b[0m in \u001b[0;36mapplyfunc\u001b[0;34m(self, f)\u001b[0m\n\u001b[1;32m   1544\u001b[0m             \u001b[0;32mraise\u001b[0m \u001b[0mTypeError\u001b[0m\u001b[0;34m(\u001b[0m\u001b[0;34m\"`f` must be callable.\"\u001b[0m\u001b[0;34m)\u001b[0m\u001b[0;34m\u001b[0m\u001b[0m\n\u001b[1;32m   1545\u001b[0m \u001b[0;34m\u001b[0m\u001b[0m\n\u001b[0;32m-> 1546\u001b[0;31m         \u001b[0;32mreturn\u001b[0m \u001b[0mself\u001b[0m\u001b[0;34m.\u001b[0m\u001b[0m_eval_applyfunc\u001b[0m\u001b[0;34m(\u001b[0m\u001b[0mf\u001b[0m\u001b[0;34m)\u001b[0m\u001b[0;34m\u001b[0m\u001b[0m\n\u001b[0m\u001b[1;32m   1547\u001b[0m \u001b[0;34m\u001b[0m\u001b[0m\n\u001b[1;32m   1548\u001b[0m     \u001b[0;32mdef\u001b[0m \u001b[0mas_real_imag\u001b[0m\u001b[0;34m(\u001b[0m\u001b[0mself\u001b[0m\u001b[0;34m)\u001b[0m\u001b[0;34m:\u001b[0m\u001b[0;34m\u001b[0m\u001b[0m\n",
      "\u001b[0;32m/Library/Frameworks/Python.framework/Versions/3.6/lib/python3.6/site-packages/sympy/matrices/common.py\u001b[0m in \u001b[0;36m_eval_applyfunc\u001b[0;34m(self, f)\u001b[0m\n\u001b[1;32m   1484\u001b[0m \u001b[0;34m\u001b[0m\u001b[0m\n\u001b[1;32m   1485\u001b[0m     \u001b[0;32mdef\u001b[0m \u001b[0m_eval_applyfunc\u001b[0m\u001b[0;34m(\u001b[0m\u001b[0mself\u001b[0m\u001b[0;34m,\u001b[0m \u001b[0mf\u001b[0m\u001b[0;34m)\u001b[0m\u001b[0;34m:\u001b[0m\u001b[0;34m\u001b[0m\u001b[0m\n\u001b[0;32m-> 1486\u001b[0;31m         \u001b[0mout\u001b[0m \u001b[0;34m=\u001b[0m \u001b[0mself\u001b[0m\u001b[0;34m.\u001b[0m\u001b[0m_new\u001b[0m\u001b[0;34m(\u001b[0m\u001b[0mself\u001b[0m\u001b[0;34m.\u001b[0m\u001b[0mrows\u001b[0m\u001b[0;34m,\u001b[0m \u001b[0mself\u001b[0m\u001b[0;34m.\u001b[0m\u001b[0mcols\u001b[0m\u001b[0;34m,\u001b[0m \u001b[0;34m[\u001b[0m\u001b[0mf\u001b[0m\u001b[0;34m(\u001b[0m\u001b[0mx\u001b[0m\u001b[0;34m)\u001b[0m \u001b[0;32mfor\u001b[0m \u001b[0mx\u001b[0m \u001b[0;32min\u001b[0m \u001b[0mself\u001b[0m\u001b[0;34m]\u001b[0m\u001b[0;34m)\u001b[0m\u001b[0;34m\u001b[0m\u001b[0m\n\u001b[0m\u001b[1;32m   1487\u001b[0m         \u001b[0;32mreturn\u001b[0m \u001b[0mout\u001b[0m\u001b[0;34m\u001b[0m\u001b[0m\n\u001b[1;32m   1488\u001b[0m \u001b[0;34m\u001b[0m\u001b[0m\n",
      "\u001b[0;32m/Library/Frameworks/Python.framework/Versions/3.6/lib/python3.6/site-packages/sympy/matrices/common.py\u001b[0m in \u001b[0;36m<listcomp>\u001b[0;34m(.0)\u001b[0m\n\u001b[1;32m   1484\u001b[0m \u001b[0;34m\u001b[0m\u001b[0m\n\u001b[1;32m   1485\u001b[0m     \u001b[0;32mdef\u001b[0m \u001b[0m_eval_applyfunc\u001b[0m\u001b[0;34m(\u001b[0m\u001b[0mself\u001b[0m\u001b[0;34m,\u001b[0m \u001b[0mf\u001b[0m\u001b[0;34m)\u001b[0m\u001b[0;34m:\u001b[0m\u001b[0;34m\u001b[0m\u001b[0m\n\u001b[0;32m-> 1486\u001b[0;31m         \u001b[0mout\u001b[0m \u001b[0;34m=\u001b[0m \u001b[0mself\u001b[0m\u001b[0;34m.\u001b[0m\u001b[0m_new\u001b[0m\u001b[0;34m(\u001b[0m\u001b[0mself\u001b[0m\u001b[0;34m.\u001b[0m\u001b[0mrows\u001b[0m\u001b[0;34m,\u001b[0m \u001b[0mself\u001b[0m\u001b[0;34m.\u001b[0m\u001b[0mcols\u001b[0m\u001b[0;34m,\u001b[0m \u001b[0;34m[\u001b[0m\u001b[0mf\u001b[0m\u001b[0;34m(\u001b[0m\u001b[0mx\u001b[0m\u001b[0;34m)\u001b[0m \u001b[0;32mfor\u001b[0m \u001b[0mx\u001b[0m \u001b[0;32min\u001b[0m \u001b[0mself\u001b[0m\u001b[0;34m]\u001b[0m\u001b[0;34m)\u001b[0m\u001b[0;34m\u001b[0m\u001b[0m\n\u001b[0m\u001b[1;32m   1487\u001b[0m         \u001b[0;32mreturn\u001b[0m \u001b[0mout\u001b[0m\u001b[0;34m\u001b[0m\u001b[0m\n\u001b[1;32m   1488\u001b[0m \u001b[0;34m\u001b[0m\u001b[0m\n",
      "\u001b[0;32m/Library/Frameworks/Python.framework/Versions/3.6/lib/python3.6/site-packages/sympy/matrices/common.py\u001b[0m in \u001b[0;36m<lambda>\u001b[0;34m(x)\u001b[0m\n\u001b[1;32m   1801\u001b[0m         \u001b[0mMatrix\u001b[0m\u001b[0;34m(\u001b[0m\u001b[0;34m[\u001b[0m\u001b[0;34m[\u001b[0m\u001b[0mx\u001b[0m\u001b[0;34m]\u001b[0m\u001b[0;34m]\u001b[0m\u001b[0;34m)\u001b[0m\u001b[0;34m\u001b[0m\u001b[0m\n\u001b[1;32m   1802\u001b[0m         \"\"\"\n\u001b[0;32m-> 1803\u001b[0;31m         \u001b[0;32mreturn\u001b[0m \u001b[0mself\u001b[0m\u001b[0;34m.\u001b[0m\u001b[0mapplyfunc\u001b[0m\u001b[0;34m(\u001b[0m\u001b[0;32mlambda\u001b[0m \u001b[0mx\u001b[0m\u001b[0;34m:\u001b[0m \u001b[0mx\u001b[0m\u001b[0;34m.\u001b[0m\u001b[0msubs\u001b[0m\u001b[0;34m(\u001b[0m\u001b[0;34m*\u001b[0m\u001b[0margs\u001b[0m\u001b[0;34m,\u001b[0m \u001b[0;34m**\u001b[0m\u001b[0mkwargs\u001b[0m\u001b[0;34m)\u001b[0m\u001b[0;34m)\u001b[0m\u001b[0;34m\u001b[0m\u001b[0m\n\u001b[0m\u001b[1;32m   1804\u001b[0m \u001b[0;34m\u001b[0m\u001b[0m\n\u001b[1;32m   1805\u001b[0m     \u001b[0;32mdef\u001b[0m \u001b[0mtrace\u001b[0m\u001b[0;34m(\u001b[0m\u001b[0mself\u001b[0m\u001b[0;34m)\u001b[0m\u001b[0;34m:\u001b[0m\u001b[0;34m\u001b[0m\u001b[0m\n",
      "\u001b[0;32m/Library/Frameworks/Python.framework/Versions/3.6/lib/python3.6/site-packages/sympy/core/basic.py\u001b[0m in \u001b[0;36msubs\u001b[0;34m(self, *args, **kwargs)\u001b[0m\n\u001b[1;32m    876\u001b[0m             \u001b[0;32mfor\u001b[0m \u001b[0mj\u001b[0m\u001b[0;34m,\u001b[0m \u001b[0msi\u001b[0m \u001b[0;32min\u001b[0m \u001b[0menumerate\u001b[0m\u001b[0;34m(\u001b[0m\u001b[0ms\u001b[0m\u001b[0;34m)\u001b[0m\u001b[0;34m:\u001b[0m\u001b[0;34m\u001b[0m\u001b[0m\n\u001b[1;32m    877\u001b[0m                 \u001b[0;32mtry\u001b[0m\u001b[0;34m:\u001b[0m\u001b[0;34m\u001b[0m\u001b[0m\n\u001b[0;32m--> 878\u001b[0;31m                     \u001b[0msi\u001b[0m \u001b[0;34m=\u001b[0m \u001b[0msympify\u001b[0m\u001b[0;34m(\u001b[0m\u001b[0msi\u001b[0m\u001b[0;34m,\u001b[0m \u001b[0mstrict\u001b[0m\u001b[0;34m=\u001b[0m\u001b[0;32mTrue\u001b[0m\u001b[0;34m)\u001b[0m\u001b[0;34m\u001b[0m\u001b[0m\n\u001b[0m\u001b[1;32m    879\u001b[0m                 \u001b[0;32mexcept\u001b[0m \u001b[0mSympifyError\u001b[0m\u001b[0;34m:\u001b[0m\u001b[0;34m\u001b[0m\u001b[0m\n\u001b[1;32m    880\u001b[0m                     \u001b[0;32mif\u001b[0m \u001b[0mtype\u001b[0m\u001b[0;34m(\u001b[0m\u001b[0msi\u001b[0m\u001b[0;34m)\u001b[0m \u001b[0;32mis\u001b[0m \u001b[0mstr\u001b[0m\u001b[0;34m:\u001b[0m\u001b[0;34m\u001b[0m\u001b[0m\n",
      "\u001b[0;32m/Library/Frameworks/Python.framework/Versions/3.6/lib/python3.6/site-packages/sympy/core/sympify.py\u001b[0m in \u001b[0;36msympify\u001b[0;34m(a, locals, convert_xor, strict, rational, evaluate)\u001b[0m\n\u001b[1;32m    285\u001b[0m         \u001b[0;32mimport\u001b[0m \u001b[0mnumpy\u001b[0m \u001b[0;32mas\u001b[0m \u001b[0mnp\u001b[0m\u001b[0;34m\u001b[0m\u001b[0m\n\u001b[1;32m    286\u001b[0m         \u001b[0;32mif\u001b[0m \u001b[0mnp\u001b[0m\u001b[0;34m.\u001b[0m\u001b[0misscalar\u001b[0m\u001b[0;34m(\u001b[0m\u001b[0ma\u001b[0m\u001b[0;34m)\u001b[0m\u001b[0;34m:\u001b[0m\u001b[0;34m\u001b[0m\u001b[0m\n\u001b[0;32m--> 287\u001b[0;31m             \u001b[0;32mreturn\u001b[0m \u001b[0m_convert_numpy_types\u001b[0m\u001b[0;34m(\u001b[0m\u001b[0ma\u001b[0m\u001b[0;34m)\u001b[0m\u001b[0;34m\u001b[0m\u001b[0m\n\u001b[0m\u001b[1;32m    288\u001b[0m \u001b[0;34m\u001b[0m\u001b[0m\n\u001b[1;32m    289\u001b[0m     \u001b[0;32mtry\u001b[0m\u001b[0;34m:\u001b[0m\u001b[0;34m\u001b[0m\u001b[0m\n",
      "\u001b[0;32m/Library/Frameworks/Python.framework/Versions/3.6/lib/python3.6/site-packages/sympy/core/sympify.py\u001b[0m in \u001b[0;36m_convert_numpy_types\u001b[0;34m(a)\u001b[0m\n\u001b[1;32m     62\u001b[0m     \u001b[0;32melse\u001b[0m\u001b[0;34m:\u001b[0m\u001b[0;34m\u001b[0m\u001b[0m\n\u001b[1;32m     63\u001b[0m         \u001b[0;32mtry\u001b[0m\u001b[0;34m:\u001b[0m\u001b[0;34m\u001b[0m\u001b[0m\n\u001b[0;32m---> 64\u001b[0;31m             \u001b[0;32mfrom\u001b[0m \u001b[0msympy\u001b[0m\u001b[0;34m.\u001b[0m\u001b[0mcore\u001b[0m\u001b[0;34m.\u001b[0m\u001b[0mnumbers\u001b[0m \u001b[0;32mimport\u001b[0m \u001b[0mFloat\u001b[0m\u001b[0;34m\u001b[0m\u001b[0m\n\u001b[0m\u001b[1;32m     65\u001b[0m             \u001b[0mprec\u001b[0m \u001b[0;34m=\u001b[0m \u001b[0mnp\u001b[0m\u001b[0;34m.\u001b[0m\u001b[0mfinfo\u001b[0m\u001b[0;34m(\u001b[0m\u001b[0ma\u001b[0m\u001b[0;34m)\u001b[0m\u001b[0;34m.\u001b[0m\u001b[0mnmant\u001b[0m \u001b[0;34m+\u001b[0m \u001b[0;36m1\u001b[0m\u001b[0;34m\u001b[0m\u001b[0m\n\u001b[1;32m     66\u001b[0m             \u001b[0;31m# E.g. double precision means prec=53 but nmant=52\u001b[0m\u001b[0;34m\u001b[0m\u001b[0;34m\u001b[0m\u001b[0m\n",
      "\u001b[0;32m/Library/Frameworks/Python.framework/Versions/3.6/lib/python3.6/importlib/_bootstrap.py\u001b[0m in \u001b[0;36m_handle_fromlist\u001b[0;34m(module, fromlist, import_)\u001b[0m\n",
      "\u001b[0;31mKeyboardInterrupt\u001b[0m: "
     ]
    }
   ],
   "source": [
    "sol = sci.integrate.solve_ivp(fbODE, (t0, tf), x0, method='RK45', t_eval=tt)"
   ]
  },
  {
   "cell_type": "code",
   "execution_count": null,
   "metadata": {},
   "outputs": [],
   "source": [
    "xt = sol.y.T "
   ]
  },
  {
   "cell_type": "markdown",
   "metadata": {},
   "source": [
    "## Plotting the results"
   ]
  },
  {
   "cell_type": "code",
   "execution_count": null,
   "metadata": {},
   "outputs": [],
   "source": [
    "import matplotlib as mpl\n",
    "import matplotlib.pyplot as plt"
   ]
  },
  {
   "cell_type": "code",
   "execution_count": null,
   "metadata": {},
   "outputs": [],
   "source": [
    "def cartPolePlot(xt):\n",
    "    fig1, (ax1, ax2) = plt.subplots(2, 1, sharex=True)\n",
    "    fig2, (ax3, ax4) = plt.subplots(2, 1, sharex=True)\n",
    "    ax1.plot(tt, xt[:,0])\n",
    "    ax2.plot(tt, xt[:,1])\n",
    "    ax3.plot(tt, xt[:,2])\n",
    "    ax4.plot(tt, xt[:,3])\n",
    "\n",
    "    ax1.set(ylabel=r'$x_0$')\n",
    "    ax2.set(ylabel=r'$\\varphi_1$')\n",
    "    ax3.set(ylabel=r'$\\dot x_0$')\n",
    "    ax4.set(ylabel=r'$\\dot \\varphi_1$')\n",
    "    ax2.set(xlabel=r't in s')\n",
    "    ax4.set(xlabel=r't in s')\n",
    "    ax1.grid('on')\n",
    "    ax2.grid('on')\n",
    "    ax3.grid('on')\n",
    "    ax4.grid('on')"
   ]
  },
  {
   "cell_type": "code",
   "execution_count": null,
   "metadata": {},
   "outputs": [],
   "source": [
    "cartPolePlot(xt)"
   ]
  },
  {
   "cell_type": "markdown",
   "metadata": {},
   "source": [
    "## Animating the results"
   ]
  },
  {
   "cell_type": "code",
   "execution_count": null,
   "metadata": {},
   "outputs": [],
   "source": [
    "from matplotlib import animation\n",
    "from IPython.display import HTML\n",
    "# equivalent to rcParams['animation.html'] = 'html5'\n",
    "mpl.rc('animation', html='html5')\n",
    "import matplotlib.patches as patches"
   ]
  },
  {
   "cell_type": "code",
   "execution_count": null,
   "metadata": {},
   "outputs": [],
   "source": [
    "def cartPoleAnimation(xt):\n",
    "    # mapping from theta and s to the x,y-plane (definition of the line points, that represent the pole)\n",
    "    def cart_pole_plot(l, xt):\n",
    "        x_pole_end = -l * np.sin(xt[:, 1]) + xt[:, 0]\n",
    "        x_cart = xt[:, 0]\n",
    "        y_pole_end = l * np.cos(xt[:, 1])\n",
    "        return x_pole_end, y_pole_end, x_cart\n",
    "\n",
    "    # line and text\n",
    "    def animate(t):\n",
    "        thisx = [x_cart[t], x_pole_end[t]]\n",
    "        thisy = [0, y_pole_end[t]]\n",
    "    \n",
    "        pole.set_data(thisx, thisy)\n",
    "        cart.set_xy([x_cart[t]-0.1, -0.05])\n",
    "        time_text.set_text(time_template % (t * dt))\n",
    "        return pole, cart, time_text,\n",
    "    \n",
    "    [x_pole_end, y_pole_end, x_cart] = cart_pole_plot(0.5, xt)\n",
    "    fig, ax = plt.subplots()\n",
    "    ax.set_aspect('equal')\n",
    "    ax.set(xlabel='x_1')\n",
    "    plt.ylim((-0.1,0.6))\n",
    "    plt.title('Cart-Pole LQR')\n",
    "    time_template = 'time = %.1fs'\n",
    "    time_text = ax.text(0.05, 1.2, '', transform=ax.transAxes)\n",
    "    rail, = ax.plot([min(-1,1.2*min(x_cart)), max(1,1.2*max(x_cart))], [0,0],'ks-', zorder=0)\n",
    "    pole, = ax.plot([], [], 'b-', zorder=1, lw=3)\n",
    "    cart = patches.Rectangle((-0.1, -0.05), 0.2, 0.1, fc='b', zorder=1)\n",
    "    ax.add_artist(cart)\n",
    "    ani = animation.FuncAnimation(fig, animate, np.arange(0,len(xt)), interval=dt*1000, \n",
    "                          blit=True)\n",
    "    return ani"
   ]
  },
  {
   "cell_type": "code",
   "execution_count": null,
   "metadata": {},
   "outputs": [],
   "source": [
    "cartPoleAnimation(xt)"
   ]
  },
  {
   "cell_type": "markdown",
   "metadata": {},
   "source": [
    "An animation can sometimes be a helpful tool to check, wether the model equations are implemented correctly. A strange behaviour is much easier to detect in a visual animation, compared to looking at the plotted state trajectories."
   ]
  },
  {
   "cell_type": "markdown",
   "metadata": {},
   "source": [
    "## Excercise\n",
    "Change the initial value of the angle $\\varphi$ and try to find out, when the controller can't stabilize the system anymore."
   ]
  },
  {
   "cell_type": "markdown",
   "metadata": {},
   "source": [
    "## Feedforward control\n",
    "The designed feedback controller successfully stabilizes the system in the unstable equilibrium $(0, 0, 0, 0)^\\textrm{T}$. To stabilize the cart at another $x_0$-position, it is necessary to design a feedforward control. \n",
    "\n",
    "Recapture the linearized feedback control system dynamics:\n",
    "\\begin{align}\n",
    "\\dot x(t) &= (A -BK)x(t) \\\\\n",
    "y(t) &= Cx(t)\n",
    "\\end{align}\n",
    "A feedforward input $u_{ff}$ is introduced:\n",
    "\\begin{align}\n",
    "\\dot x(t) &= (A -BK)x(t) + B u_{ff}(t) \\\\\n",
    "y(t) &= Cx(t)\n",
    "\\end{align}\n",
    "with\n",
    "\\begin{align}\n",
    "u_{ff}(t) = - V y_d\n",
    "\\end{align}\n",
    "where $V$ is the feedforward filter and $y_d$ is the stationary desired system output.\n",
    "\n",
    "This leads to new dynamics:\n",
    "\\begin{align}\n",
    "\\dot x(t) &= (A -BK)x(t) - B V y_d \\\\\n",
    "y(t) &= Cx(t)\n",
    "\\end{align}"
   ]
  },
  {
   "cell_type": "markdown",
   "metadata": {},
   "source": [
    "The Laplace transform of this new system is given by:\n",
    "\\begin{align}\n",
    "sX(s) &= (A -BK)X(s) - B V Y_d \\\\\n",
    "Y(s) &= CX(s)\n",
    "\\end{align}\n",
    "\n",
    "Now it is easy to solve for $X(s)$\n",
    "\\begin{align}\n",
    "&& sX(s) &= (A -BK)X(s) - B V Y_d \\\\\n",
    "\\Leftrightarrow \\quad &&(sI - A +BK)X(s) &= - B V Y_d \\\\\n",
    "\\Leftrightarrow \\quad &&X(s) &= - (sI - A +BK)^{-1}(B V Y_d) \\\\\n",
    "\\end{align}\n",
    "\n",
    "Substituting the equation for $X(s)$ in the output equation of the system results in:\n",
    "\\begin{align}\n",
    "Y(s) &= - C(sI - A +BK)^{-1}(B V Y_d)\n",
    "\\end{align}\n",
    "\n",
    "If $t$ goes to infinity, the system output $y$ should be equal to the desired system output $y_d$:\n",
    "$$\\lim_{t\\to\\infty}y(t) \\overset{!}{=} y_d$$\n",
    "\n",
    "In the s-Domain this corresponds to:\n",
    "$$\\lim_{s\\to0}Y(s) \\overset{!}{=} Y_d$$\n",
    "(An intuition: If $s=0$, the derivatives are equal to zero, which means the system is in steady state)\n",
    "\n",
    "$$Y(0)=Y_d = - C(- A +BK)^{-1}(B V Y_d)$$\n",
    "\n",
    "Solving for V results in:\n",
    "$$V = [C(A - BK)^{-1}B]^{-1}$$ "
   ]
  },
  {
   "cell_type": "markdown",
   "metadata": {},
   "source": [
    "By setting $C$, the output is defined as $y=x_0$ (position of the cart)."
   ]
  },
  {
   "cell_type": "code",
   "execution_count": 50,
   "metadata": {},
   "outputs": [],
   "source": [
    "C = np.array([1, 0, 0, 0])"
   ]
  },
  {
   "cell_type": "markdown",
   "metadata": {},
   "source": [
    "Finally the feedforward filter $V$ is computed:"
   ]
  },
  {
   "cell_type": "code",
   "execution_count": 51,
   "metadata": {},
   "outputs": [
    {
     "data": {
      "text/plain": [
       "array([ 10.])"
      ]
     },
     "execution_count": 51,
     "metadata": {},
     "output_type": "execute_result"
    }
   ],
   "source": [
    "V = ((C.dot(np.linalg.inv((A-B.dot(K))))).dot(B))**(-1)\n",
    "V"
   ]
  },
  {
   "cell_type": "markdown",
   "metadata": {},
   "source": [
    "The function of the control system (feedback and feedforward control) is defined:"
   ]
  },
  {
   "cell_type": "code",
   "execution_count": 52,
   "metadata": {},
   "outputs": [],
   "source": [
    "def ffODE(t, x, yd):\n",
    "    '''Nonlinear system of equations dx/dt = f(x,u) = f(x,-K*x) = f(x)'''\n",
    "    u = -K.dot(x) - V*yd # define the control law (feedback / feedforward)\n",
    "    dx = dx_t.subs([(x_t[i], x[i]) for i in range(0,4)]) #substitute the current state x in dx_t\n",
    "    dx = dx.subs([(u_t, u)]) # substitute the current control u for the symbolic expression u_t in dx_t\n",
    "    dx = np.array(dx).astype(np.float64) # convert the resulting vector to a float data type\n",
    "    dx = dx[:,0] # return the correct shape of the vector\n",
    "    return dx"
   ]
  },
  {
   "cell_type": "code",
   "execution_count": 53,
   "metadata": {},
   "outputs": [],
   "source": [
    "sol = sci.integrate.solve_ivp(lambda t, x: ffODE(t, x, yd=2), (t0, tf), x0, method='RK45', t_eval=tt)"
   ]
  },
  {
   "cell_type": "code",
   "execution_count": 54,
   "metadata": {},
   "outputs": [],
   "source": [
    "xt = sol.y.T"
   ]
  },
  {
   "cell_type": "code",
   "execution_count": 55,
   "metadata": {},
   "outputs": [
    {
     "data": {
      "image/png": "[encoded data removed]",
      "text/plain": [
       "<matplotlib.figure.Figure at 0x114eebf60>"
      ]
     },
     "metadata": {},
     "output_type": "display_data"
    },
    {
     "data": {
      "image/png": "[encoded data removed]",
      "text/plain": [
       "<matplotlib.figure.Figure at 0x114f49390>"
      ]
     },
     "metadata": {},
     "output_type": "display_data"
    }
   ],
   "source": [
    "cartPolePlot(xt)"
   ]
  },
  {
   "cell_type": "code",
   "execution_count": 56,
   "metadata": {},
   "outputs": [
    {
     "data": {
      "text/html": [
       "<video width=\"432\" height=\"288\" controls autoplay loop>\n",
       "  <source type=\"video/mp4\" src=\"data:video/mp4;base64,AAAAHGZ0eXBNNFYgAAACAGlzb21pc28yYXZjMQAAAAhmcmVlAABVvm1kYXQAAAKuBgX//6rcRem9\n",
       "5tlIt5Ys2CDZI+7veDI2NCAtIGNvcmUgMTQ4IHIyNzk1IGFhYTlhYTggLSBILjI2NC9NUEVHLTQg\n",
       "QVZDIGNvZGVjIC0gQ29weWxlZnQgMjAwMy0yMDE3IC0gaHR0cDovL3d3dy52aWRlb2xhbi5vcmcv\n",
       "eDI2NC5odG1sIC0gb3B0aW9uczogY2FiYWM9MSByZWY9MyBkZWJsb2NrPTE6MDowIGFuYWx5c2U9\n",
       "MHgzOjB4MTEzIG1lPWhleCBzdWJtZT03IHBzeT0xIHBzeV9yZD0xLjAwOjAuMDAgbWl4ZWRfcmVm\n",
       "PTEgbWVfcmFuZ2U9MTYgY2hyb21hX21lPTEgdHJlbGxpcz0xIDh4OGRjdD0xIGNxbT0wIGRlYWR6\n",
       "b25lPTIxLDExIGZhc3RfcHNraXA9MSBjaHJvbWFfcXBfb2Zmc2V0PS0yIHRocmVhZHM9NiBsb29r\n",
       "YWhlYWRfdGhyZWFkcz0xIHNsaWNlZF90aHJlYWRzPTAgbnI9MCBkZWNpbWF0ZT0xIGludGVybGFj\n",
       "ZWQ9MCBibHVyYXlfY29tcGF0PTAgY29uc3RyYWluZWRfaW50cmE9MCBiZnJhbWVzPTMgYl9weXJh\n",
       "bWlkPTIgYl9hZGFwdD0xIGJfYmlhcz0wIGRpcmVjdD0xIHdlaWdodGI9MSBvcGVuX2dvcD0wIHdl\n",
       "aWdodHA9MiBrZXlpbnQ9MjUwIGtleWludF9taW49MjUgc2NlbmVjdXQ9NDAgaW50cmFfcmVmcmVz\n",
       "aD0wIHJjX2xvb2thaGVhZD00MCByYz1jcmYgbWJ0cmVlPTEgY3JmPTIzLjAgcWNvbXA9MC42MCBx\n",
       "cG1pbj0wIHFwbWF4PTY5IHFwc3RlcD00IGlwX3JhdGlvPTEuNDAgYXE9MToxLjAwAIAAAA1NZYiE\n",
       "ADf//vbw/gU2O5jQlxHN6J0zH78VuLo0N73OAAADAAA33OZE/sqTBubAAALgAAnhEVeG/kZHT7MB\n",
       "Rc1m75m+10Aeb2I5L98h2MGW4GNUoQo6i2Czm/JVWBf+KYDJThSzQJzC0VtrMIMXvmzoZ1tMuO9e\n",
       "YsbbyDj7eG/VhLVT6yPESitYDMrYylv0eUzXSjMO3zGYZWkc07hq+MHkOmg2KTAaK8cDim5fsVOk\n",
       "jVfZUWa2QHtm/Ic4fe8l8yd2ZB/lC2yyFvLVBKm/42I+bkYTw7RfOEu0Ht5vuuC9fS+lMy0/v403\n",
       "6oHX/wRXmkvv8W+8WizuO1OKR2hCJF/N4rbJqxaVj5ey+WtQtH/Po3FS0JjC8uqukEhGsjl6YpgM\n",
       "svk0CUqn29zyf4iyXadSfzS969awvkqLwEjWlLimzcwcj7dEXQKlzRyKpWjD19BPgUggbrSzKTLK\n",
       "E/9CzP4AsJES8zwtb8g782RM4+UWbOuaa0m+ZtJDOfzHEdxZIOMCd+RYL4qh2HjwKfy4jhcAv56U\n",
       "TeY5gZU1Ra2vqhuS9Da8/GfIubkXP/ja/Rz9EmXq6+LKnWs7LuppVRy0Yzdx/fRw7z9N2F3diHnb\n",
       "mmQ1YWOsv9YnMC15qMK6IalhaVtWbuugTo930IxOiuS078tXdfa8VwiBiD56rCsu4ckXY3ZX6z56\n",
       "8gw0U3rRMtmpFvlUeK1FmjbY0xLDnY28WHzVSsZeGmy6KCpo+W5v7Uo6QZ3lRCaZeCO1guSam2Ej\n",
       "yfqOYhClijvrYLMtwsYAXKFwpJASzTPu4MrnKiaolzSfvGIdUKAj4+FeQLpZMy31zPSQk9ZF66KG\n",
       "RRCqs+Pp6B2h1/jaLQiQXWj527jr4BdUwI5y/P1MWUsTAU3+wgBl1ogeulsoOS70SFSfzBrLLZiC\n",
       "o/NCoNNdtdiWvu4ft1xz3kFMsLd9TVH3JosWMLH8Slwb4mtvwD0+9LjqPBEAK3rTxCe3ZapwcDhn\n",
       "oraFJKWO/QZgF5w1g+AcsPz0i56D3HBa79JWpErzB6pJPVRMLNJ0kki5jV3hFm7drZd9ro+mp7L0\n",
       "cghuv/23kkiRhdccmaf6CGxuSv/JPAlWyjsHq5JlHWuIxYNCauYQcjqs/tHbexv3u/mq/Sj6jnv1\n",
       "V2jQyAt40r4JiDn0rDCzCJqpIWMLEYz7qbvLLsmtxk7mIOT/5ajnqDNdzuZAVggj6N7XBg3FGTi0\n",
       "3+BXjHkDzqj86apC4wklL6mh9UO17Qj9Yd7bZLVQ3gWpfPkZPiAg1yghTOtfzcE8n3M6YfmDY30W\n",
       "arpJ/cv+wJEYFxzDzbL53ZvMc7iL+fkb/NzUm60/sNovprqATOA2d2u0tFVcveKrIJ3yxyiNUWGD\n",
       "NrJDMCLaCMGDHoiFSTZBTToynYzjWR/G5YirYOyZk027LrF0XEs4FWD3YG1wfF6iUYVuOQyAWT7D\n",
       "HFn7KCgSg0CSrwrgEWy0yBOL3gmr061T3+gjeMibCSJ7/RAA1kmbNAgIgOoYMeTp6ghc2oG9f8Fe\n",
       "Xcz35KnsL74tNqkWBjFca21BXnI11T8np7JJIhJupGRWzJVwhDPSpnDxUOhbCgm4HKrMwUs8/jcd\n",
       "3y9Qa2BRCA14xNfjcVbKARJ0839u4x98t7bbgMMQl9VG87BujjM27I4y3dVJf84D5/kucySbz10q\n",
       "ll/vCHR10BxVbkbvvvSi11NBvTXUu609GlPbKEkM7SODJylmY5PlOHMaWpT9tT7o00CFPF5nRG7I\n",
       "eYtgrBs2WLBaHbIVlyoxFa4QCaMdQSDDxvchx4Bvbxnk9FJ0T35GOk3vIzqgFpj5ztyt00QzA1gI\n",
       "PAWnOQwlRjjTxWWLjsJorRCVc5YyTkdNKbJUh5hlCCs+izscWUGoAMBwjE58gofTTi+N4jMzpgob\n",
       "tt+NJj3T1h5UxkE0O4bL0rLm17ahkQmTp/JU8ukMB2w3QKq649pWM9bP/qy1yAjKZdTSh4AzNsNB\n",
       "kEbU4/3E+83DVOxy6hlEpGY1S8phSfditqSTWgMEU16xeLgB1HL0UHXyMpRHQYhMe9+z4Nf+MIT3\n",
       "IWpaEeiP/OK2mSh/OHwuQVpQ/Ms8aCMgAffDQzvgO/UF9hBQA/J+bUsW1SyDgucL0hu/z+UgAwBk\n",
       "+fQgZPhsXXYXBc13TyO5MP6doMzWF21xJlmiJh15W65GcFgozmjNHqAYWiHHKVQsfC56NngRrNL9\n",
       "V1ulUtpoQBB1Y47J0oUWL136YcxkXe0BVpOGVU80w0v3Xdru562h7xUauBwTZVzlEFD5z+AJsG5b\n",
       "C9pBJ+ENBkfmsSE+xqjBSURBLEyhL5A3+RZGQvuRbCRrlLsSG7Rny2CyB1wJNCJ1zo2ou/oBK+tD\n",
       "2phJgQUYeCWNJj1Jfc7HZz7TvlQ1mpGW7GEGFP8QBqAToj/9Kz/MdxBTpmdSDiK4yHerDr5PKT9p\n",
       "2EtrIDpDN4eif+PTM9zFfd8Q2dzaYdSm2OK3Q3X1zKjteNTlhGdnqsoPyzM9LpXKUmP91ZZRP8I6\n",
       "soUy+tIlc59+oUa8bFnQsh6ILgL8sWArJtNOBnZLIHMfqJKpKem8jiATiIuCuWqJYuvDhXoCulLW\n",
       "gxJP8HoLdcVPeqSkjsp0JVhK523vE8BTU41ErRGigbiZS6jq/hWZaKnTMdMcyYAFz+zg2yp+eOBB\n",
       "S5ydpoM5hjJDnl15IEhyPQiDnei6PdGg/nJwWf/Te7f81pMbeo7f95V0GQKwWhNXLkHqtwHPPhrI\n",
       "vQKRJx6nEVRnyYDjdE1rTyjvv+w22Gr1RhMMvAoisOzBEuw7aM3Die/lWPELEjUqVoT/gzStXqAF\n",
       "jQDz8iXDmE2ynKbklTAwo57/NQkzKFwrYWI238n3XRU7rICJ/oPiW2wD9ifHnd3t7xRD2lgMi7S4\n",
       "rmreoApps4ZKJxujZ5T7rpE5Zhensdmw9Rh4GotoHV0zYJlA6dhGfZLInY8NXYqQxLbRwmzKN+A/\n",
       "hE87sV7SkE5cWLXW22YbzJMwZOdo5TFY56uUZZXQ/TObGe8GeYMRCzsBHeQsCiComlqtskddu3ZT\n",
       "bwhaSYs4POnCLTDAGHQo+AayoQYnFQ51vdRkwcMX69cKBzCPp6ouMJWsP+/unTPZi4HooUfgDYeN\n",
       "dt8BW1H2bJ7L7hyfDQsGTTLkTsk9CwOMBjyplaQD8duElCf7FSLRDMhoLK7u48uRZTdPb/G4AT0V\n",
       "C3X4A6ySOJjQ8pc8UmpR/wqtfzx9dzJLYM+zpBCMQxd+Y3D45P8mAwWH50W/DAhcSh5R1rjCJK1A\n",
       "pfeNauVCmR/+DqveNKJyU0m5EEGvkCbfO6VbUUxDfEZwRYtpLzUjZkTzpC6BpO/+1iC6jjiofyTg\n",
       "jB2JQtkEPqq4FWqj0bxlk1mPMi/+74+lBJDf3Nf2/Rt7yT48/GHfeQP1iY2PKUhz1ETVK2nhW9IL\n",
       "qO0geD5CeEfsNRF8/t7IGy9mVAJUG1YkU/5VfA0SWqMNI2O/f86ckQ+WtRKuAqWQoTWWiiAmOIFs\n",
       "BHWNWKWjX1Y9RU9ZnhNGWRdCQx4SOFdjCKV/T6A4KJ4Ww3ukMp7qjEkYShxNyTm6LjKLQYVqNe/3\n",
       "e3rg9ateJs41cnGqvvokLzwHHYr1/L3ZwE7Sp+O1vlpb3vefa/E/rondLweKwqRXTqOCLnXSLgs9\n",
       "KXzT3LXk8lPyJfdpnYKQENwd1J1DbWIfhHYChCL6jaFwtyP2ySUbFknTTbEpH8VdflwD5SSGB09e\n",
       "CQPXLOXU6BsfvbavoH4lrRdNB8vyUPZrll9xhMHgGbxc/+arHznMolF/EPmfX3LFFUBZ0qsBjsk8\n",
       "lK3HdRUL3YdcjgLZieer7luAENGfHrC3ZfQA/uAZEI1TM28uy9r4hCjQNr3lV47IQReY9P8aFMtE\n",
       "4CQplfTn9wi7RIz5mMyYRkEaBFZDxHmMo1utbfa/Lhn/2M4BpUpxtMDWf7Yhp1sH08F1eAalJbB+\n",
       "NvD7MoK2JZDt9mKMvh3zEDnY6gO6KIrmImybsj21GOYfX1ULEzZg7sd1a48EZsZhC++GPdW98+e7\n",
       "Hx5stkMsJEKReS1WO0DRlJiyZhWTTrtMr0oWMtbSIMUAGxGVPKPV7kXoOA7SMoEmggAxuEXrjRWv\n",
       "odx1x7/hRVZoWZcIbeAI7AGSYO4zxua4YmHjqJ0sc4Txpy7BKHsTjb4hXisry4FnZ2OD1f7fJG6R\n",
       "ECTSMvcMclDNIZT3RTK6/T5w5bJRvyIKafn0YOm1ZibWya7F5AeNuWGGmcrR578gmaXOH4JqzaHG\n",
       "mffeXAfXWUzJhA9B4H6cTAxi+fnYRkhkWawjHbftwmBIcTcVg1NRmeFQsw8jwf4S6fEeMK0zpYYC\n",
       "sm4fR/Lm3X/97BGDqReoACqaZPbUabhKcU5Ar9HycWBpXZGOLpB1bsJnp3W3vsFHjx7RgMmFZDdr\n",
       "kbePR0CqlIHDbYd9Nyx1jVz6K84eqZBE7dEu7jVZ4XGS8o1gU8miz0A3VBW+QBeVpmpo8o76Ykx6\n",
       "MmJiBgcLYYIZG3Up94Rneuf81YLCKADzrhqlKoBdAAADAAADABbxAAABQUGaI2xDf/6nhAA19xcg\n",
       "J8CzX4/A4zZNDBkxd9b/78qzUZ1KHc7I382YOWpeIaRNGB5L5cLM6QH/MP7A45Ue81zyaQiYDgUn\n",
       "izNhEq3WNruGpMWD2K2JXu09nOQDnlgVyk3vk8hwdkKvlfv2S9+baUeTixG5unj0NRCyBBNirN+y\n",
       "czdUyufayfhGRFrH0j56TeHS+AlInJk0qnLatDXwfxCSNX7GBtUscJL0xJ8KT4vOk57+GmFQHeQy\n",
       "Sfx+rWEwmjQYSU6FX3EDvKLrksw0rSaE8roct467RCJQvhRgqTzUig1pDo958ACce0PRb0i5ABXV\n",
       "ZHn2kdZA/FQf3LvC0MeTHr2owQmr3qArqJywvCuk7ccoLHRq2pjcHjGA2lbrxQBqul/YoK+90rTB\n",
       "uSaUyT1Er8QoKCr09baNpKLqkrQQ8AAAAFtBnkF4hX8AKPkMiA+bvZDtJ02mXX/GqEAH2iv2d5ON\n",
       "4eQBsGUOHJALRiEPxJ9Uh2ZNwzIT46Zqv2T8nVVrAZdTUNMZQgsfbJXsa7kE3w/i8O8/FmzWdiDY\n",
       "T0+FAAAAQQGeYmpCvwAo7RP3Sc0uFLy9EYgjWBXmaryKlu4gHNuvEN7mc4ajQAkucsri1kN+UDcj\n",
       "/mcKNKbB0j6sg01KdRuAAAAAqUGaZEmoQWiZTAh3//6plgAZSWRQAXAdz+hcDwTs/g6rWhgvih6M\n",
       "+7FrTmOpIKC3yvQ0jTkKuBMCKHO0fr7JMT7stcJ+kSAxt5lRa+BEKoLs2l9BXN7tW+DbyC9OOxrg\n",
       "Scwdh3BtW9fW3JAgc1LaR3ow8xWXR1771KvFsjAlxHZQKsTPyhkxd5HymwHenUvKn9waPX41gvkF\n",
       "Zztm15ZhFVsQVSAVenbOodUAAACnQZqISeEKUmUwId/+qZYAGUlkUAEQJQZ73dk6Idm4VBS2rual\n",
       "0LMMJetgi+hdm4Ep/GOLrzKubT4qu5NMwAzfLmU1EgZaf2JXbLfPevvupeP62OOW9tof58LPyifm\n",
       "tiq1an4vrH4q53WYrqTBKPIkLimWeQJaqgOQNgDOZlpfjasedn/UyQaWzwDTeTNKCmot18CEK5ka\n",
       "nk2c8Xp1S31mqLTGo9G53FkAAAB9QZ6mRTRML/8AHbS+IuEurmtW/+KcRNh8WmQAfZsPPn02vnSd\n",
       "nOC9xabmcPwFiNNWEfRchieyO9ih4Mi9DZZziPpy4VBx/iFDQ0mB9bJNcGk703LfJ33S4ug79DOX\n",
       "44DSrUjjGv3mSZCek924FeyffZwHkg3lzqJ0YGFGKWUAAABEAZ7FdEK/ACOubFCTvect0oj8I9AB\n",
       "tFJRTIv+qDQHvyP6Evn+jCDoQ2vsThw6ecrwOAUUG0fKu9ZqgOSPEm038PoA7oEAAABHAZ7HakK/\n",
       "ACjtE/lv+kuTbPE0wddAABEAwMo5vqk1E90VmrMc58klYoGpl+5/Yr97nvlOiYnDexCbVJldK5jY\n",
       "8QumnyaSFlAAAADQQZrKSahBaJlMFPDv/qmWABlJZFABOSUpHVvmxKSzMa3iklBYPIn1CybY40ww\n",
       "xcG3yQh+1u7eiK1wGXdNMr0KsGxAp/ugfGoCfUpLtRv3JkubioDQf8mmMlHPq/Vb8lQJHZvkkd3A\n",
       "F7k/27HtdRVVeZeinZfu/uixNhWH+gt+IPnY/3UzRndz0xx0NUJnLCr/chpujlolfdK5peBSoIPZ\n",
       "TaP8uydeBbE8opPYVaC7Vc76hKUl+izP0ABizCQbwLA1D42Tu1A9uNBZQAbFeVh8WAAAAEEBnulq\n",
       "Qr8AKO1gS15SqVkk3F3q+7/hAfokllaADdh2sxI9YCG3+8UsJK6vtLbgjeG7dQmLXVlpcnuYizHv\n",
       "/wB3QQAAANdBmu5J4QpSZTAh3/6plgAZSWRQATdfPkGzuJU3GPPSptJMbwIcvRaxotH4j+ty4ivQ\n",
       "NZrAoc7uSnotsEd/zb5c0SkvtjX4SfqKX/Q51wBYJztiEjcRanpvkc8jqYk1ac3ad85h3nJ7+rwf\n",
       "71lMyX6dIhzSdVLpPmeHXnDRbAYBzxXTopXRqdGz2UDEy1EQFjhtrF/xU6CEIwgNHY7apZzgLREz\n",
       "79lceBN6DuUYfC2WAPJblZ5s2UtdsGJ/3LJjmt/fjI/HDGCqgyxTOqL2v5Y5ZPlvyKvUwAAAAGdB\n",
       "nwxFNEwv/wAdoWzpsALePXCl9EfKp0kUqzQtOyorP1/+DfPfGxZ21m74gRzGUsEJ2ZiuKq/UHC7F\n",
       "Nry3+2K0oOfEsQzLkYkHlJ14DEFv/zVcnmOMID0aLesBFcNFZs+QZB3P4ZTQAAAAQAGfK3RCvwAo\n",
       "+QyrH/EN+2E7KLWtVZQh3xUQv/LZUSBJXYoAfbmhrUaI0doKjBAAccO1nvCKENj5r9PRCymLycEA\n",
       "AABGAZ8takK/ACj2Dx8waP6ZgaYojjzoQAQnVwMA+hFw2L/HRvKNdkrmq3LlRvf0JZTj1Eh6jm/j\n",
       "JYE4aMhIESzbtfX2EAdbQQAAAJtBmzJJqEFomUwId//+qZYAGVm47QAO0ugFSAD4rU+1Q0N8fKTA\n",
       "XigHjOcLeEo0z/cVYPuyijL17ZwQM1S12f+7w8W/j3ewqNBSmTyQ5FKiGXp9/8putZJudBw2YW4f\n",
       "c0sAdyFVJp2yXPtzLhf5if0bFgcEvRgg9ZMpXWbo79Q8EOT5UP1LpQcE9dF2667Kezah7ePbHrkO\n",
       "P/0deQAAADlBn1BFESwv/wAdtMvFHRqRXc6+p3AgQaAALXnuRN4Ki5/CO3fqX+M4HXGh3Q6TmmNO\n",
       "lc+hPbcgsoAAAABDAZ9vdEK/ACOunUveOntw32ADPCrTfcDiLifKK8kVk0Zw7MEGKwhJDpcKpQXy\n",
       "gYKu44juv2ujfY+PZ+vVcBamD0gCbgAAACcBn3FqQr8AKO1gKSNMV7sIpuOLVuXhLFtbOZVnlAIC\n",
       "99rk3OkAyoEAAACaQZt1SahBbJlMCHf//qmWABlYK95UAEugVSIn5W+qeGoeT5I93t8r/gl9q2b5\n",
       "6fY9U77oJzAD4K2UrTZ/M7irBYs3uWqn/cnZYAJR6K75zP1ANCCFb1yHQyGnJzu5PWx3ozfWU7PV\n",
       "IFH3y3j5rubGoUBD5v/hpJXQfnUkZ8DVwOwKzNxlV1JbfRwXegvbg7rhWId7Q/yLUYopJAAAAC5B\n",
       "n5NFFSwr/wAo7RP5l52VoIxBpWyIK3rjszz5/tZmSdqW6oflX8vTlci0KwOAAAAALgGftGpCvwAj\n",
       "uxX35jnmeVIDQAfTGeOVzbAwJiXxjxsXlfjm1PKOmJcMxo+cAqcAAADTQZu5SahBbJlMCG///qeE\n",
       "ADOCjQcOAaWPzPx1K6byn+R15jfVLINacLNq9YWFjC9zmeao+LxUiarq+uv7UHO2XOyy9dXIKp+V\n",
       "FkZoqkF3lh96eM2sGFNwg9k933xBz8vr3SSBNSNSJtVogYAXe9BCjrvD4CQOsB3qTcocw/IHRGOb\n",
       "DxMFRPAJoIGPBDCJk6GqdEdMRateJBFGhxWETAi1NQrVqXQP+z07/b/LdepRItATqrLocSZ+lavR\n",
       "Kr1haa/1n7/0zIUgobeEp2f4EvpAA34gWwAAAG9Bn9dFFSwv/wAeZLa38NAC3WDZKmnghy082S7h\n",
       "j+owXcDJm8qwipIOshrk+4TQN0B5MCPZy9++5nIumPC8uPvyWlAwdpdd811f784NGAuptc92Le3e\n",
       "aVRH7nEHAZQJEdSvq8Y15Esq904gzNaAi4EAAABBAZ/2dEK/ACjpbH2pax/tbczfQDwFKLgBAMZb\n",
       "ULnGLLosKQqYRysfd0R/DeYrStsXpJtillUWThUpEnjMeSk2IekAAAAvAZ/4akK/ACoNE/PL1kP0\n",
       "BeEUKJdA/MK0WwbPngv8SJ/22QB/b1VC6Uz1X9T0BDwAAACZQZv7SahBbJlMFEw3//6nhAAyJv+/\n",
       "bJADaIVeZM9RUsZXeEJN6v9rLTaDnt0+out8Y4t5H5udpbwu7WowBsJYxqE4EqOott6w1WEG8r8G\n",
       "mfDgMsjYYf+wJh/PPzSjlKpXlrTy5kV2Eq6FpPYfJz10lNyB6/U9gmhNgHeaVQUgCA/IffsWyepo\n",
       "sRHPl8zv2sZXfpKfeRoNCWqBAAAAMgGeGmpCvwAo9e5pwsjSdP9BJqFGrg0/2aeG2pjqV2EsTsAv\n",
       "54YtzBNsgUniI6KTQJeAAAAAtEGaHUnhClJlMFLDv/6plgAZSWRQAcJHir3OJs/3fUIBVKm67HB2\n",
       "Z/ueNSlACYAEX8r0NHNECdzzNI54veL9e9j2z2P3qHehViQdVH1PmEDiK1EbZ0k6yEr9EBJ3fs8x\n",
       "xn5CVu6U94ueouM7yCqeQin5uqISNFkbV2XKlgR1SaJGYODms6wpO4O6zVCbbo7gKKR2gubUXceP\n",
       "WcQ25dAN1ROw3rg+aGcGwulhUKka5UHF7WoZMQAAACcBnjxqQr8AKPX+I0UFFFda/9iyuqclDOgm\n",
       "HeeYwt58bBg7hnRJVxcAAACUQZohSeEOiZTAhv/+p4QAMjHH4ASz2WVBQuukyXUj55qptL1fTWd+\n",
       "LoNp3sxBdQdueEV/4fKWQZX2DybQdMcVAMxtIM3Tr/8LKxvs6Fogr5Ybf2Eq5GXeKPwDOp9OABn8\n",
       "ZBnxfhDUZ0+BGj7kshx59QvrnECaFrRNkiolG7T2/aaazuzNNyHEkLv3cDiuCAjlkUsHAgAAAFBB\n",
       "nl9FFTwv/wAdtL4eqFZdG7jcIAIBbHyu+UUtRbQNV9ijMb7CtXd6DC9VPmchk0tnDYi9LkDdyQ8u\n",
       "iEGK6hSi7ZsZDvLC7j38a0FN5Z1Q/wAAACwBnn50Qr8ACKo12aKf32WHVDCn9nxrLwAHFFNil1X6\n",
       "qTbjQvQq0hx9z5tjQQAAAEEBnmBqQr8AKO0Ty8Odba3k0doANoYbjCdKPixYtm59lHmb+82UswI9\n",
       "A/WhqjXrACy5rnrlGhbapqKb7bfA5Lg7oAAAAJNBmmJJqEFomUwId//+qZYAGUU9zzgWoALquSYd\n",
       "8a9cnXz9YCnAjcCgmjjbtpC2BNd9NeAar8F1520gILsW3177b9LkmgdVqtb6w+77ElOAste8f3m/\n",
       "2jK8CBDsvw4WOjcFB2KFScYJPKmpOGtrVXtn3AK9MgoQL1cIDIurvMxkEVlD5CnhhtxIN4rBvhmO\n",
       "bu7TKKEAAAB8QZqGSeEKUmUwIb/+p4QAMjbBIADje8zlanXOtCjANdfWH25e1nfzP1vv5qcc6dJI\n",
       "Otcc8+2dkkgQ7RGQ7lM9+vPBFYpUojWUekGfmyrX6Vff0IpHPhgWvfHxNWLwCwxHXUF+DqSji86D\n",
       "7LRpK6V5zPiqZRqXDCUkHMG8wAAAAEBBnqRFNEwv/wAdtL4eqFZcsKkq7GNrbULpROWavdhaS8X0\n",
       "AJScQPGwrihcfYXHM5n1yhpncl81Bv9hfFWQwDehAAAAOAGew3RCvwAIbXu6bCAEJ5DvfoW+fO45\n",
       "5lil71Lkbnx1GRXjd59hbulkTb+b88lBUlo/VYrv++UhAAAAQwGexWpCvwAo7RPLw51bd27gAzxB\n",
       "08O08hEeu5RC1F5Z5etXtVi8KYO94+sul2Z+nROCRoLzON7fuuLltOsL3vX9goMAAAB8QZrISahB\n",
       "aJlMFPDv/qmWABlPYG/0AF1XLwpkZ2xTPLjq1zGjmY16L6rRZLi9c2UocOXOuim3ATN9jIr6WIld\n",
       "0MYg8yZqUaVL18PtOstdJfA/wUdB5/POIBvQfgYLJUe+sorWmowIiGxs8JlcYgoVqjaCgd8XPlpR\n",
       "dkK0+QAAACkBnudqQr8AKO07aCPmQj+gAIfUu02s4jd8Wu9dreMjnJaNAyYeLhANmAAAAJFBmuxJ\n",
       "4QpSZTAhv/6nhAAyTpLuf4AWmtBdOcNuBQ/cegE58Bey0x96wh7O626qljHo9tITZGYyeNTc/ntO\n",
       "M0uldECTHj+V933p5/hkMSlQ8SX9fRULjSiPCDgXmr8ojYsdCOVQaGyPSVaG1t+OizEClwtZ9Pp5\n",
       "FFv68yNgbsO6oKv/qixCjT6v9t1GjnXbG7tqAAAAfEGfCkU0TC//AB1UHwMDVgAuMTovIHvehj0b\n",
       "xcvlEBXfh76/BPyKZ4SOyZnaOhkJ6+Zy2CSGid9gW4fk2Q1vNdyMyQaB46uAxOwfZsmKEj0CftK8\n",
       "Tkros4GyBQ3G9RuIiz51851VCIZdxUsoqxdfUXiXadhexIJlJp6wwIEAAAAoAZ8pdEK/ACj5I8Fd\n",
       "sZ7z1ABtIqQDGegmae1e9RWSuTmOeltk58hJwAAAAEEBnytqQr8AKPXx0cRXaI75E65ecyoCgAav\n",
       "7779vtlVucfD31xZFCsAmj8aexHjPViBYBy0AAWiKS4IP3i8Oi4b0AAAAJxBmy9JqEFomUwIb//+\n",
       "p4QAMkO2yQAt4ZvtrBIkPYtj0LG3B6hxpeBiQkpNdAog6Hy720YvAnTyRsM15VvPAROKTx+FUEvZ\n",
       "78Wx08/WeYJZskgVo3VzL80IsDiXqkXzzq6N9dveAsrIxn2Pie0Wd2gFoJ3mxXzlET1Hl8/NNxgf\n",
       "A0yy4CKR7ivMshQubqbYZqEM5XMnFmhOS7acWmEAAAA3QZ9NRREsK/8AKPXkRgSsR+YQaML6kYAP\n",
       "CeXUySBwevTFCkW78JUn/SBdAQC2UFl/5le8f6ePSQAAAEUBn25qQr8AKPXuXzUMswU3hXgWgBCi\n",
       "jnckA8oZuteq4C4SfT3x7t58xM9jF7c8a5lLlaa9giqsTDKMDDgmtgBZE89jYfMAAACdQZtxSahB\n",
       "bJlMFEw7//6plgAZ6ULQBrA92KADm/szcz4bTiho00QXDx+9aC2gycXBsKoxJ0tOKmvkXfhik+Uu\n",
       "AlHXxV0078iTGDFshHsgFqNkO9cHRC8u99Fjc0ZXPdOusq8Oib94Zlhx3rAtwiZfZFvofqr1NUKU\n",
       "0piT6oLd9HjbsJLvVzeJHvk1SOaYGFDY1upCDRa06g5yW/s8eAAAACwBn5BqQr8AKhXuVHMuVvjP\n",
       "2kJBAZ/gLX01kRIosnnhArmxHmdI5nL67KDccAAAAI9Bm5RJ4QpSZTAh3/6plgAZSWRQAXKBzqM4\n",
       "8Z+mL2w4jkKhkmIqwHFTkl5BYNnh3xGXGvLFr7yaMKW+Dvh5sw5VKgPyE9pjIPb6M3v19usQ2vlE\n",
       "5ojr8j1DjgIn6eMG3MNeHnBg6QJiVL2SVXVkYBGj7WhaNlD6PszZfa+i4T6831iABGF4glgT/nBQ\n",
       "WmXzLwAAAE9Bn7JFNEwr/wAo9e5fNQyzL5DAON0AASbXuOGjSFAEtPlAPgRlUTh2ShDaDhtEUAHm\n",
       "LM6SXb8UkF6rsW3pH5x3pfSweuSwr+qyEDXZ0zZgAAAAKQGf02pCvwAo9e5fNQyzOtIW+JLHlC41\n",
       "BCYvmVO26mU5qnqwt0VydaIuAAAAkUGb2EmoQWiZTAhv//6nhAAyMcfgBKo0kfEVWKG2r84IXgK5\n",
       "N0HiMZrl75eEBlXuS9ZppShU25fcebOc2y3w7O1POwkBHPSHskInLAbcZK89NP3iuddx4/FSh8Ve\n",
       "Dj/zLpjoQ06vLS5EpHjYdinTCd2a9HSf/7l7+W0tfR+ZEOzNf8DdvGt6icPU+w4G3TBdvWEAAAA1\n",
       "QZ/2RREsL/8AHa+NPPQ/7aGAAiAiAlC0tRLYPWPlSJif7uCdt+M7TUe/LMnL74/hAaCmO6AAAAAl\n",
       "AZ4VdEK/ACj5I8FVsYIwHxg3rOkXv07Bu9sZLwH+xv+q8/4XcQAAAB4BnhdqQr8AB8OgkpmxE3XK\n",
       "neYsFx74dVhdaIj7D0kAAACiQZobSahBbJlMCG///qeEADI4KZAAcJEzlQZcZDGxiaJCI29JuLpY\n",
       "FphAWfD4v1KYIQ3oK49XZ/6RR3gKmXz2tYzyyXRWUj5rch8jHbdq7QvihuUlH6eGStm/Oaycu/yO\n",
       "kWvj95B5001AVGHoq3xe/+f8Z3AUZaOTZPtZBfkq6BC3xMhfjtszzweXyokrevp38ei+HfL/ZFwe\n",
       "QIerroXefYpnAAAAUkGeOUUVLCv/ACj2oRADdBxQBeH2n28oqkRg+8Fxz+vwgqovRFNnj5+m5kuG\n",
       "FeaprcleAwij5CoFT3TcmvNDNc8fm6hBFk4jFKRpJ/btpmh+MWEAAAAnAZ5aakK/ACj1/iM/xsYH\n",
       "eo+18vF2kWr0oPbxG0F08IJVFpc/N2d0AAAAT0GaXEmoQWyZTAh3//6plgAE5/YyrfeLfLO6IF+4\n",
       "safqKmk8OqTwIrTD6OuDwm/P7p+4h486QCINbGAmzwPn+SFH9OsoxGi6MubhOxJFT60AAACQQZpg\n",
       "SeEKUmUwIb/+p4QAMjHH4AWfTuwp7vfqTYgP7IZqoW5Id6ml0EFdvOdqZKBGHQMZKuRkfpuk2CZi\n",
       "F/OXMXMW9DSEa4yilPXlux0sWwwnG7AragNcVNY/PIivlvyTVhA/cAhajwQPX3PaWEk9/8sCIq5h\n",
       "I4xrSU5tr3g8eH+MN2qBe+vE/QDcX8hVzi6bAAAATEGenkU0TC//AB2XGr1YALqPXCO5300pFC19\n",
       "9ekNFSYiy7Jji+w37HJJKc3Yiz/32b0nw+yDRDrB8OGGBEa2jYwMbzgBz+Mqizpemj4AAAAkAZ69\n",
       "dEK/ACj5I74ijzgBLQ87XXLPoR7DH1NGmhRiib5ZF51QAAAAKgGev2pCvwAo9f4jPgy6flL4EABx\n",
       "gA3YT32S1Qq7dPemEjDP5yE38c96XwAAADVBmqJJqEFomUwU8O/+qZYABMCbf/QAg2qU7L3kCGe6\n",
       "hSkhUZ26sOawhpba0y7J1+DXK3xbQAAAAEUBnsFqQr8AB5lkbuAAzXd7t/np6QFwRIHQn30yDmQ4\n",
       "Z3poWcgpKJNppXuCPU2USS8Z6JWA9wGVbd/sghRC/igNXA0Id0EAAAB5QZrGSeEKUmUwIb/+p4QA\n",
       "MmePXIAbfC15Vj/t5Aocrz1oZDRArDpVIx+MEacPvzjFlYzeuD4Fz4bp3kd6BWGpnEMa/vC5t7cb\n",
       "d4Tflvz49DQ8knmR8V4kX+X3HpelXHl92P46oodISuM7nAig4i0YILXZV4WJkWOXwAAAAHlBnuRF\n",
       "NEwv/wAdxKkAFxhWmS40egwTeSVZaYpNynlSdW59HuH/J/bNaBkoMtPK6rKah4MClZwZGVL08fPO\n",
       "YdrlhhctEqC65iEV6bsFxbZ1YF+vH8Em6qcvlf3iubmZlV2XdeNkeR2d1IX94ry6uzJAtWveEcXl\n",
       "YOJvAAAAOQGfA3RCvwAo6YUFAhepB+GreTSSwAmrus9E00lpfQ7PU1tUN8zHKHLSaeHlkFxEihjw\n",
       "8M7/UCHHZwAAACMBnwVqQr8AKO0Tx9ctp3PuR7337kj9QAkQW0lNMjXKZ8BJwQAAAE1BmwdJqEFo\n",
       "mUwId//+qZYABMfpZqZ8vjAC4pneb46lUkmHC/0NoxSAmeUVj4fwp/5wYDWAbzE89rVfMczYFnUL\n",
       "k+IkUMH75yWGIzXv3QAAALRBmytJ4QpSZTAh3/6plgAZ6ULQBuEMSuREf8/jhRf+lZ1FtNUjCZkK\n",
       "45hWhjYtqY+SM039nqwQqaxFw3w6mjS0VjPhI0CWHJ8Y/Hijfdnn4d3lZn951ed6EzJcnZ07FatK\n",
       "/fHiBSvcmKwzOjXBuso++GIjpD6SYZyQ3EUpLXIFicJRIj+6ERaNgGTBJiRodSd2N5NrTLXHHdC4\n",
       "TAQi8DwgHLxv/wHfYnn9raThy3IOah+4geAAAABSQZ9JRTRML/8AHmS1IOuSACWbIygkG9XjFWQb\n",
       "HU453uNhr7kqF2RoUSn9QJk/jWr2xsRjGIO66q05hpsg3pfreZ5t71QkZc/4+1aP7JWihk1NBwAA\n",
       "ADsBn2h0Qr8AKOlsazBdoDJqBpYAEPz3ajyfy1UJOsDnndFPAYOr7rtvMhKmVS8xHjG7Hu19RPEB\n",
       "dtSggQAAADUBn2pqQr8AKg0TktJzbEXdxOADPEJlwiofyBjQ6oOAB4fc1IPVoMEpj5jxvst+28XZ\n",
       "XA4nYAAAAIJBm29JqEFomUwId//+qZYAGVQQ4wAWnF3GDuiPtSTNh1l6zMoIEGSgODufku9Nwumg\n",
       "FoAa3IPunxcg/ai6BVQVvlATOsBXerp+8dlkG9kfwEv0M4bvEafLtU46cusMT5JULRXNfdVbyOz/\n",
       "RamG4HgbEhwHnw65auyo1KR5Stve5yrYAAAATUGfjUURLC//AB2wErACSNO/ivsk9X1muCDLb9I+\n",
       "T1K6ZWIW3LFXUR8VMEa3BcytF9cV3sGkr1XoHYF8VxCEbiA+qTy0g/6C9kOALk3BAAAALwGfrHRC\n",
       "vwAo+SO+Ioz41MwAZ4ZnaGtlNI7VWao99+K5AOQQJa408p6Gf6kPByCBAAAALgGfrmpCvwAo9f4j\n",
       "PUPMyrWADOyrOj/MT1mhKcZ0ktIuiCHkYJ9LnrQ6fznAB3UAAABoQZuzSahBbJlMCHf//qmWABlJ\n",
       "ZFABOyYl2fH/ky83YVymR7Vs9kMmXJAwPErTOnJslP0scdbee0xF6wrD3aqKFP3vBDfcrLgSfpeL\n",
       "2rRpxnncnlc5mox7REj8E2SYQXHAduJwgUselTgAAABGQZ/RRRUsL/8AHbS+HqhWWxr3DJGzAS3d\n",
       "jHhYeADXFSDlqZir5lscB+dD0OLNhE+OO0O5TRnYJtSKLSMNnO/vhoKv79+soAAAAEMBn/B0Qr8A\n",
       "B23bP2gA2kSzIk6GBKRZrgTthqt7Q37SZplJ/6o02HZcHd9qp0JVRYTIlXynr6zqBDe3/TlaoE+Z\n",
       "vTChAAAAPQGf8mpCvwAo7RPLw5z4osHgwji54APwLvZqtcl+5JakAlBogPUXcU0hm0rmBlsZv50E\n",
       "dF6gf+uM0gZxjKgAAABsQZv3SahBbJlMCHf//qmWABlRrCoALZTDn5Myrk8cv3iuyhfw83YpHd9f\n",
       "EB46azTSPt2HCvQGtEFYBKnFGr8W81ngpm2qtkZ/8dpTI580Q6IefN2jTX2qRrMH8ufS9K2r4f3h\n",
       "ZPqkwNsDlEqcAAAAe0GeFUUVLC//AB3EqQAcHgYVUNxuuDFsGNXS35d8o0apA5ALvhJYfdnshcsA\n",
       "ZhAVHC/4PRXQSLiEcIuzrOwvbbFtpI+FhvFohU/un8tR2ceenIqUQsjF5PrFK6aMWMHOYouCNqj7\n",
       "vefYQuIO5sj0J5KLYwt/8Ym0HIGN6QAAACIBnjR0Qr8AKOmFBP+6yoJA0bgBWotJSas71Xcpp99G\n",
       "2kwIAAAAHAGeNmpCvwAo9e5fNQyuZN2Te0FXTekSbO2kBqUAAACIQZo7SahBbJlMCHf//qmWABlk\n",
       "unUAE5JSkc0+hhoGCwwAJ76vLLTS7+3uSBwDN8j7dYctB2dLL5QWYHCU84vB5njJSymXS8bFOfZW\n",
       "Y9+jpVQfQv+7VlqvninQOozu0CMxPTEFH3jYngDuB3im0ENU9WWGIxKHSt/rrf3GGXZs05VWe5/6\n",
       "B3D6QQAAADxBnllFFSwv/wAdr4087a3H8OwAQ+rJKFXsQRL57O8htcouoNIqe7steoV0n7FqGhRM\n",
       "1YIZfpQ+fhg9MwoAAABAAZ54dEK/ACj5I8FHsdyEdgAgQvmDDRfghjur+17r/LJeFYWgi2v9N0zP\n",
       "jH5hsnYsxu1pd6XPzSC+0KsJkFjmLQAAACoBnnpqQr8AA6FVWYkBHAc3VAAvJceBURvqADnkBmBn\n",
       "PZv/fH1RvAQciYAAAABvQZp/SahBbJlMCHf//qmWABlMegoALlAR4lu62umbtn8sGVVb97SctPS6\n",
       "TkKdsUgQjWew60PKh2PiywvcF2jeJ87ZexGJxofvh7vd3N0IycNjtKx65Pl1ddkWdWFYa+H5B190\n",
       "ojQByZWveZf2a+nBAAAAb0GenUUVLC//AB3EqQAXGHlDATQbShxXMyobUOafmACFsDMqXk+ByJsc\n",
       "7KSheAZGWd/zeFOWy0AalfS0JzmIlTlqOq5u3jPJdL0Hao7C2sJSse0uMDb7B8HM7SbGZUkzJDrm\n",
       "4nUAq96/7gcF+z2GDQAAADgBnrx0Qr8AKOmFBNS8HvH+XIAOTrWGQobTjCyKU7GKbUjvCGXGqWYB\n",
       "GwkhZpPr/nwvmnf975wGpAAAADYBnr5qQr8AKO0Ty8ObdeFLABywNO/npWJBXa17o1m8HQp0LeNz\n",
       "UOWKem4s+yuFCcvGPydmBLwAAACyQZqjSahBbJlMCHf//qmWABn2yXPpaAWYL1Th0jze3Levm02a\n",
       "ZwLuXT/DNaOq5X28PezZ9EjXK4tNXjorZVbCjc6+NgUTlulKWE7vVU2kjuIJ8oI1GGVpsSdS/1ZS\n",
       "Xcqj0FxGqONkHqYg0cEYpRXIwuP1prUC/sEJmcHCtyPRnG8AiAbUmcDoZfrW34IEsq0lJBrF8c0V\n",
       "ytjq4xxpDo2v83W/3J829LyKQDVIlebdV3DUFwAAAGlBnsFFFSwv/wAeZLUg65IAJaFiwqadBtvk\n",
       "unifilsAMb1fcro7+qOjSJQzXwZbOXX0gkRHlLp1Fz6/peZkrXIfmllwmjFRJ4pK0KLhJweN1B/P\n",
       "rKG4p1KIKNlXog8OoN4917CGmSFM8IAAAAAqAZ7gdEK/ACj5DIgPjVy6jnOUwgA2ySwXmMI2oBBd\n",
       "nCQDAu/5Pzi61GEPAAAAHQGe4mpCvwAqFe5Ucy5W9LKcsxWLy6Rw3i5ojNWAAAAAjkGa5kmoQWyZ\n",
       "TAh3//6plgAZSWRQAXHRw7LUMcm67vrlEe7lMHfcHPMa6joUkQAc7oZrLE+GsACOPyxKWykzaWyg\n",
       "aVc9hwTqO6EOe2MwqvD6QpygA8j8ZoTZKwtoK2OArWlFf8OhOXzdNSoKRQU8ONV53fkKFpH8wL6X\n",
       "t/fKSP4Dwni0dfksXxMiMVX/FfEAAAAiQZ8ERRUsK/8AKPX+IzwxLRceCzwOAVoe8qvybVrIdp4h\n",
       "4QAAABcBnyVqQr8AKPXuXzWTaXMFVKZ3mHLDewAAAIJBmypJqEFsmUwId//+qZYAGVGsKgAhixtS\n",
       "73804SWAAhmv5arKJQSqxGLdCJQK+Jr4VvdOX9wuceUG9ucs4+/OPkVlD7QdJo5kh4tdO1zIR+5d\n",
       "uyXGDZ10/tEBjj8zWnxi2gceBh5MGw7m/hqxIkTBRhSEEY1DJDJwqiTUgcWxEoXBAAAAQUGfSEUV\n",
       "LC//AB2vjTzt4XQAE6/bEu34jzf8IHYu18DnqNx/LV3vx6tj4vYlO4NrK7qDoskG0uLjOuwVeG2U\n",
       "TKSAAAAAIgGfZ3RCvwAo+SPBSbKY6gACGWCMDA92k0d6yq/SheGQN6AAAAAgAZ9pakK/AAOLXqLW\n",
       "jVeAC26KzQCGsDpwQf7/87VpsaEAAAB7QZtuSahBbJlMCHf//qmWABlMegoAIcSlVUizzqNiWxie\n",
       "g4dJUEM1Jm9Ruv96wKY4PI3S/snzXKEA3ZHA7Atvc7+akt8NgyCoyP8A+Fbk6yvDbXFJc8R80096\n",
       "XbGLxzf5gR4E141gNZ8+8lI8I4HpYtXxru7B65nWzzCgAAAASkGfjEUVLC//AB21FdgBbpPZ2mIY\n",
       "RlqXRQ8vVSpzouuLB7Ncpw647psisKeUxGBc3RAdTM7wrA7RyAuxMmW9Svx51OB2UoJ4/gI2AAAA\n",
       "FwGfq3RCvwAo6WxrMF0O96w/UkU3NZUxAAAAKgGfrWpCvwAo7TtnUOJ7tQKAC+VkBUcEpggHKiww\n",
       "9jYUU1GSCbbSShp6QQAAAHhBm7JJqEFsmUwId//+qZYAGUlkUAENohsXVzON7n8LtnDc5YF02CBA\n",
       "RU8vuUXjUPtrruIKW6ZbBHf82zwVwOpfluM+0VwJzxowTY8D6xI0yIAvP77FO9+oQ9DJMSK1B917\n",
       "9BO/7BisTC1GI5+pBzpd3riVOh+3Nr8AAAAzQZ/QRRUsL/8AHaFs6bAC3j1wm1Pr8yB/mhNU/riP\n",
       "bJdKmGz2AuDIpDJw7w1mxSRoqNWAAAAAFAGf73RCvwAo+QyID40ROxNpBFtqAAAAFwGf8WpCvwAo\n",
       "9f4jEe6TB80SwSO60H3HAAAAbUGb9kmoQWyZTAh3//6plgAZWCb7QAO0ufMVGCgl/NRLzgmXj9Ko\n",
       "mQgV+JtDpPBUv9lJy2+9Zi+l2ewgmEWYW7oUH6RY+5xPxu8P0w15If9LWPBRA9eovs21VexrFCpH\n",
       "sSTda1HKQnGFpg2pNfcAAAAgQZ4URRUsL/8AHbTExVtnCBAAJwXOTciU2XuiNGfyKggAAAATAZ4z\n",
       "dEK/AABXrc3gkzA8qhutIQAAABsBnjVqQr8AKO07Z1E8poWcOJdrmlKV7Xm2Qf4AAACbQZo6SahB\n",
       "bJlMCHf//qmWABlJZFABN3Tu+IICqs13enH5YT1hPqWXY3kf8uv5uC1qy4vg795+GRjsaAQtRJSS\n",
       "88kVWfmso7AqV4tmceZBNXtJ02UOMOhoq9vl/gcggJNefNP9QpFNv8T/wP4U5SC8F+0bqtMSWqod\n",
       "r7uxX35vaK2TIPl45FmfscXqvCkMd2yXqEi4i0P2ofOIaBkAAABrQZ5YRRUsL/8AHcSpABxueXW8\n",
       "wxwDSjk/O8rItOzRLtVw3LSqPFYwo9UXiQdHCM6XN+EJVuijm4fUwOLKwPotKHn7oSEkdm+WYve8\n",
       "Vb8MmMHkhFKV6x8cw3HBCxvj3GTX4N9BWbfiCbwQi4EAAAAgAZ53dEK/ACjphQTUJKr/OWP6oOYQ\n",
       "b+JQUbaXI2cAI+AAAAAVAZ55akK/ACj1/iM68Ss+BUdWmBLBAAAAqkGafkmoQWyZTAh3//6plgAZ\n",
       "5Nja/QBOtM+E1mNXJ3xiiUNFXQ1zD92fAE+MEHkVORxvD1FsFjyezYKwGWXov/HNTQAe/V7RcvrT\n",
       "uTnFFfSRBBT8Zn6edenMsMhQN5ic4cQ2shQrrS/GM6lSpzh0N/29WKDDM5JHwkwnl6Jyqx5v6lsJ\n",
       "Anc2qBpX4+zn9anda2j7MKpsMPvM9g7imgQWwthgGWm8Z3F46eOAAAAAGUGenEUVLC//AB5fevAV\n",
       "y7Dr84wa7q9ZL4sAAAATAZ67dEK/ACoZDIgPjRDWFFyc5wAAAA8Bnr1qQr8AAFisK+/KDiAAAACH\n",
       "QZqiSahBbJlMCHf//qmWABlJZFABcoCQNEPdEmcsmJ/eXjub+1BOrdi5eGaiOPSVcDmokgrQz0sE\n",
       "hDLbSr9DU+I45cBrCHQTM6qWohrd5d9lRYY4ErbNvp5mlgJeuWtNIQzOl6T4L92/hOy9vBJHArNn\n",
       "EuoY1C/75375KpDGzW9xUI0WHw5xAAAAT0GewEUVLC//AB1U9MYAK8SIB1ZW52dYpxGZRJlzfl/s\n",
       "dG4FH5W8ca9s/E++Piw9XX5ushVwu7UcZ1JH7ALjDYj0nuey/7GFlH8RfmTtAg8AAAAdAZ7/dEK/\n",
       "ACjpbGswXVIqkhABolt4C/65g9CAsoAAAAAXAZ7hakK/ACjtO2cEiwgaGy9pB1MYoIEAAAB+QZrm\n",
       "SahBbJlMCHf//qmWABlMegoAJyS0q61WFjz3xWlTp7Ov0Z8THMlrzxKIBeKh1dC2sei5A0MRtYCg\n",
       "G8OYHDXix0rCHpxV9UtlDrPNUhYE4n5pWV2mza0e1+Y1mUQH0wvs3Ofye4y5pCb6rjvpY+euOtyN\n",
       "cniuILvCU9ziAAAAN0GfBEUVLC//AB21FdgBbpLBksAqtusE8vHiE7j66SORDq0FpPnfZWOa3WXB\n",
       "2nLacUDXsvP4B3UAAAAZAZ8jdEK/ACj5DIgPjVrODCHDLGPigmz0gQAAABgBnyVqQr8AKPX+Ixe4\n",
       "9KGI91m7kmsYu4EAAABsQZsqSahBbJlMCHf//qmWABlLsJgAfN1wcRHy2NPoHO4ucQp8WJ9L/qMu\n",
       "voUcc6phOJ47AFANisocjrfxHX3quqqx7hIiYNnwcY5EBWoX+pmOUu1Aq08FbPSHe8A8CLRZeN/y\n",
       "4EVJ1ub5No+PAAAAGkGfSEUVLC//AB20vh6oVk8TY+taNLEVk2KAAAAAEgGfZ3RCvwABz99Xdbn+\n",
       "NHEUIAAAABMBn2lqQr8AKO0Ty8OaIrOCbJznAAAArEGbbkmoQWyZTAh3//6plgAZU2qSgAukvrKz\n",
       "fXSC+fHO4JHEWHAI8TpeDGA6nYUsbO7qGRYVHlYuAUdBHYFO+dSZLgO7ZRy8HkysxEnB+DMIH9L/\n",
       "2ZosKrzEEyWxydXQUZtW3zF+rVzT9+GA+4foeb8mKxZeC7pofflybOYibt+r9NeLh2Ssd5tf6zhc\n",
       "eIAkbJdss1I1KRdnOEFdGXeinZER8tdkWAZyAvL3aBgAAABDQZ+MRRUsL/8AHcSpABweBhNV0ldK\n",
       "gIxhud40RZx/QbdDdA3pW3ZhLtHa3O/yWf6mpAbfOce5wwNOh9ho3cOCHigi4AAAABQBn6t0Qr8A\n",
       "KOmFBMCR/UPphUfdjQAAABcBn61qQr8AKPX+IxgGGu1ZimdLRPkZcQAAAH9Bm7JJqEFsmUwId//+\n",
       "qZYAGVgm+0AFyheAU7cHjiYujejXMwKpLxArJWzeHGDieFgiy6tHjGDcwefPu6Rg+p5UBS3X8ZCT\n",
       "EB/iBFM86JARp7SfsPgP/M0xW5u6b+NdZVEJZam09ewLCrbORe4Z6R14AcNorkqCl76SUZbUKVeB\n",
       "AAAAGUGf0EUVLC//AB2vevAVy7Er84wa7q9ZL4oAAAATAZ/vdEK/ACj5DIgPjRFWFFyc5gAAABEB\n",
       "n/FqQr8AAcUDdt0kj6R/wQAAAJpBm/ZJqEFsmUwId//+qZYAGfJ5dQBBEtK5Cov/sGHF+hH05rbF\n",
       "Pbkp84HP0dHxxgq+aZZYYvh5iwcjAwtFPDs5I2/fm+6Vn+fXQoia3AecNaaKi/KInSZ8P3NSirWn\n",
       "yoG9L6d/rKr109lUQzBE5kglhrv7Ad5d/yBblSavhtNErXdI1qG3/VwIzblf8aHqjyAr7j4mi7wq\n",
       "UaVeAAAAPkGeFEUVLC//AB5ktSviGgBbmnE4cYAiC+xZm6MZ2fXYs/LxN+Qujz8xuNx+ZSxq6wLw\n",
       "JjLhqCqNIBGeEOywAAAAFgGeM3RCvwAo6WxrMF0tD+eUKSi98pEAAAAVAZ41akK/ACoNE5LSc2ts\n",
       "ft+7sRihAAAAeEGaOkmoQWyZTAh3//6plgAZSWRQAcJE7jnOJbeXw/KRYnZF3UcbEnbmtUrd7QSt\n",
       "5DkZD6AmZWyBwTSNicTKZP/iqI+t4SJmvt8/Srn+MLK5PH4+EXaaIMGaE0kOfLigt/mT/dhizilY\n",
       "dqryKESZ5sVBEnrYnEpcCQAAAEJBnlhFFSwv/wAdWhhYALoiST07NdE58gzWYvWp9SooG5X9FwQg\n",
       "7394xAtPkCeC1yFmo0tv97tCb1zUynQq9aP9B4sAAAAXAZ53dEK/ACj5DIgPjRE7E2kIsDsw8DgA\n",
       "AAAWAZ55akK/ACj1/iMOOjgO+YvDIiIYQQAAAGJBmn5JqEFsmUwId//+qZYAGUlkUAE7JalIEFnR\n",
       "a7e/kbhw2+Z4SNWwRfQw2K0AkeGqO2CuO225tNLVi1UI7rk4BHP5Px23vSiRr4bW2EfEozqSWjoY\n",
       "H/G6uvgfDkxDuWNziAAAAB1BnpxFFSwv/wAdtL4eqFZRgd7qd1BE+W35cwLGVQAAAA8Bnrt0Qr8A\n",
       "AFiTOpe6DiEAAAATAZ69akK/ACjtE8vDmiKzgmyc5gAAAGNBmqJJqEFsmUwId//+qZYAGUlkUAFs\n",
       "oNr4vXcGa4bUTTZv1yzdvGJv+EISbs27EY2xoRCOZY37PcwThRxGyFP/fEfhHEuDgGxVpAXunBsR\n",
       "YxpMHg2Yub+CFL1VOYRfizIOc+AAAABXQZ7ARRUsL/8AHcSpABweFCYWy2UId7aHZ6fv2eAfNvI3\n",
       "2hONlbBw+75NYUszv58DdHBftJQX9Jco+hEl4EvEHPbuxNqHMZagxNtc3M6betFEQt99DGKBAAAA\n",
       "FAGe/3RCvwAo6YUE1VivI6TaLQOfAAAAFAGe4WpCvwAo9f4h/YZGsyO4yIoRAAAAdEGa5kmoQWyZ\n",
       "TAh3//6plgAZSWRQATklpV9LwXzSxS0CwIFgrp+3ptDP3xixSdBarXC2b7/jB5C4Xeyduakf7i86\n",
       "eHllGskypBv3ePRWfSySnXJ5qKc+OffhAzNnSQNDEzhRSgQm53vAo/1sdanLEp+BZTb0AAAAHEGf\n",
       "BEUVLC//AB2vjTzD0fkOj1LsWrZkFfpwHzEAAAAVAZ8jdEK/ACj5I8EH7BS117v1/EO7AAAADwGf\n",
       "JWpCvwAAWKwr78oOIQAAAG9BmypJqEFsmUwId//+qZYAGVUIuoAJySzqPr2XvuqNExB17SwsSIx/\n",
       "xVwUmDDUoBBgmOfoT4N6vw2EfP9l7YmdDIdBCwk67QwRd+ns19enSUAIJ8z7CK0Vw2A0Ibz4zjBz\n",
       "NikYaC96dW8ar237W6EAAABMQZ9IRRUsL/8AHcSpABcYVpkuNHoME3klWWmNhUu/COlmuHRGCCpM\n",
       "T1U0V0FSVbl1cMWxvlVWSks/YgqVKe6WorBkE1Z0IjrkVXAwIAAAABQBn2d0Qr8AKOmFBMCR/UPp\n",
       "hUfdjQAAABQBn2lqQr8AKO0Ty8OaIlD+6vEduQAAAKBBm25JqEFsmUwId//+qZYAGfHmBjPoA2Mx\n",
       "K5Dr5moEcDB5IKv3ntkNhz8Ef/Ir7aR+UfX9jqrLBDX9UWrpFL70dH9QZp2IOqAdf2Ebtf7vg8MQ\n",
       "nUrPzjHL9JLvJUANwXWZKC0W94RKDabxVM0IeM+Qz9Mc+/aqQuLyd4Ijx9Pa/aV2cltDe3NfeTnj\n",
       "j+B+NId+hni1P/oh/n3t+xjTM2pgAAAAREGfjEUVLC//AB5ktSviGgBbmnE4cYAiC+xZm88mdi7Q\n",
       "obko9ZCyPYsG7T7yierrJ3K7xQeHY6v3M9x47DqPg+T38BaQAAAAGwGfq3RCvwAo+QyID45zOEnW\n",
       "ZvGXJuxQN65P8QAAABkBn61qQr8AKhXuVHMuVvRiHR6orTKeC2eBAAAAbUGbskmoQWyZTAh3//6p\n",
       "lgAZSWRQATkjAVHkVM4Holuou7/SKZPCJAenV44F2lQcsNC8yxd7+1jB96sVYqTOP1w8jdPr/wsY\n",
       "SYGVH9v6jszXmXyJ0VDMROxK4hMDnu0iyZEa37OhF9+vavqbzlkAAAAdQZ/QRRUsL/8AHbS+HqhW\n",
       "VKu0i60XoVq/WrNJKmAAAAARAZ/vdEK/AAHE4DtqYP+BTuAAAAATAZ/xakK/ACjtE8vDmiKzgmyc\n",
       "5wAAAFdBm/ZJqEFsmUwId//+qZYAGUlkUAEQJIMD12H/LzFxIBEsBKZTcaxd8qT0FYWPCMsYB6Jd\n",
       "aR+0sre84zKfWCa8smYG1MbgSvabXi0fdcbwBBqWl1oQNboAAABGQZ4URRUsL/8AHY1lzWAGx6BD\n",
       "d7ub/EnLjc+R3ICIgJiI/V7Ki4KIcDuyiwzJGHTLr9rtrHjIt1Vqrfi6O3PpdLbrT6YJOAAAABUB\n",
       "njN0Qr8AKOmFBLavvozidpOx6cEAAAAVAZ41akK/ACj17l81DIInYm1L55zAAAAAX0GaOkmoQWyZ\n",
       "TAh3//6plgAZVBDjAA/OWq5wLOfySmfQJc4arD9hCE9i/nWDocMe/3UgoJXzfrEElxCfhmy+GhaL\n",
       "g9uGFOzdOThkhIcXdU7V+Av9mG7ZfVtuBTvU7LaBAAAAGEGeWEUVLC//AB2vjTygtrbmGILrbuvi\n",
       "gQAAABIBnnd0Qr8AKPkjwNAeUmhTyUAAAAAPAZ55akK/AABYrCvvyg4hAAAAcUGafkmoQWyZTAh3\n",
       "//6plgAZSWRQAXKBnMKB66i0NLrt88DGV89D7DdeG3qAZyV06t+9aukD7ecqwgR0vH/SEKpaRN6n\n",
       "0QtNDNa21jRCCrgpHZZBoLVfX4PD8zOIcWwXM/HcW/hO1u6GRrVr9vNGpqBgAAAANUGenEUVLC//\n",
       "AB2qZkwgAlSjp29gp4l5ymAqtOtmnNO6l4hQgp2kiuMKIgMSAy++M0MnvQO7AAAAFgGeu3RCvwAo\n",
       "6YUCcZrbqE6YpXUk1+cAAAASAZ69akK/ACjtO2bC2ZdrHLcfAAAAW0GaokmoQWyZTAh3//6plgAZ\n",
       "S7CYAJVFj2T5XeusT+BI6YVbx3pf+BWM/nsLQXoZCVLUGVwFARwPal7DKSaCW3Nfx6J83DF2czXr\n",
       "ZmilAzh60opKIZungFR8eWAAAABMQZ7ARRUsL/8AHcSpABcYVpkuNHsxddysaZqLrVoihxMxy4Cw\n",
       "wQVJCyZNgrkVJNdu3ngDB7i2jpCaLKfIqMiOYfbervFaMEKgg/0HiwAAABcBnv90Qr8AKPkiXHex\n",
       "dvm1K1v7B95tQAAAABcBnuFqQr8AKPXuXzUMgidibUyJwJD3pwAAAE5BmuZJqEFsmUwId//+qZYA\n",
       "GUlkUAEQCMv0LTJhhqgMM3ldDCI1O/4hl4Y2/MXQTlixoVyl8uMC0FQer9I7BgF7yxti7RLOwB91\n",
       "zyDlw+4AAAAaQZ8ERRUsL/8AHbS+HqhWTxNj61o0sRWTYoEAAAAPAZ8jdEK/AABYkzqXug4hAAAA\n",
       "EwGfJWpCvwAo7RPLw5ois4JsnOcAAACiQZsqSahBbJlMCHf//qmWABnyeXUAWYL1ThAh4fuAkYwB\n",
       "jW2Kf/r/CWmxohShJDC5qI1b/Jr0KoBsCA8LROak4fChTBaQFCxjNzuK1KKzqmXOgWX7Q/tfhb8r\n",
       "cIOMUD12hemI7Cx/JfEfLdBjVZrCXpaB8JvJwxKdFlKDmHIs890ynDmtCMNZVIWO3h44ctWomJa7\n",
       "HTxeXf25/Xj+OdKEMdwpAAAASEGfSEUVLC//AB5fRZEyACy56S4L1JNEf1Mn2zE2LXfd+zQyaWX4\n",
       "FBL3eTsmx+0uL58oR1HdkXqiNPmhTTeWH7LK1uqP76YHpAAAABgBn2d0Qr8AKglsUIySolnWjYuk\n",
       "/83szykAAAATAZ9pakK/ACj1/iMOOjgO+S3HwQAAAE1Bm25JqEFsmUwId//+qZYAGUlkUAE4phCv\n",
       "ZceeGlhUQoRf9rcpuA/hD0mA8SOdJ1BFy4O0qYEz73ddqJd7UUsEfbMNmdrtIR5jlxwb0AAAABlB\n",
       "n4xFFSwv/wAdr40861Iu9kzFsTVz/KX+AAAAEgGfq3RCvwAo+SPA0B5SaFPJQQAAAA8Bn61qQr8A\n",
       "AFisK+/KDiEAAABoQZuySahBbJlMCHf//qmWABlMegoAJySlXOB57aQ+es86BBvP1PYamuTCRyYp\n",
       "n/Xcok433MvFR1dENNk09+zJR9FK92SPSJPBr72au6T4LNS13sR1enbFMiaA+/0jyNEHU6yPx4wn\n",
       "gysAAABAQZ/QRRUsL/8AHbUV2AFulW6Fhu+CRKwRoN+Cf4bfQk5FZt99nSwImyJIwYHs6jzUx89W\n",
       "+RqXt23rjfpqTENLAQAAABQBn+90Qr8AKOlsazBdDvesP06KbgAAABIBn/FqQr8AKO07ZsLZl2sc\n",
       "tx8AAABjQZv2SahBbJlMCHf//qmWABlJZFABNpyXtHGCrJ/ZQ3EMsk5/RKQ8O2Zcxd9Yl72EfM+Z\n",
       "iaRjFYRxVI82wR3/NwCx01wUb0suaEOePa4fTdorc5lbI4dwsCMcvpkyToU8ombgAAAAMUGeFEUV\n",
       "LC//AB2hbOmwAt49cJyW7QotQ1KzcwZDe7jJHOYNIdDXqhbU5JrGZg/yLPgAAAAXAZ4zdEK/ACj5\n",
       "DIgPjRE7E2kIsDsw8DkAAAAWAZ41akK/ACj1/iMOOjgO+YvDIiIYQAAAAFdBmjpJqEFsmUwId//+\n",
       "qZYAGVkSiUAF8tthWb7PnxzZDVgeHwCyS8moYE5m8L3qlLPF3Tm7l7EVvSOSbG0K1zA3xpmVWsdC\n",
       "IFLiNvQKPBvGCGN52YZLstsAAAAZQZ5YRRUsL/8AHbTExVrUy58puLXCIcJhZQAAAA8Bnnd0Qr8A\n",
       "AFiTOpe6DiAAAAASAZ55akK/ACjtO2bDArU6CdlBAAAAV0GafkmoQWyZTAh3//6plgAZSWRQATkj\n",
       "0I8DSLRveuZOUw8/uarY6EvvR/e36Oy2GcVVpnw0Ud/gq5qtnqpHkNmh4t9gID/WdFQj9SoyLuVP\n",
       "zc0yZrDswAAAAENBnpxFFSwv/wAdU2emzeLABxjRNXSQYIrObGlYZj9o3djFx8vFmqccjxLqtAbh\n",
       "/Xv/EJKP/EulKILOgl6PMcRFIGBBAAAAFQGeu3RCvwAo6YUE1CPropStXfh/5wAAABMBnr1qQr8A\n",
       "KPX+Iw46OA75LcfAAAAAbEGaokmoQWyZTAh3//6plgAZ6ULQA6VzeZg/5f1GyT0ptSvGW/6vIZP5\n",
       "+wO+uZt5B+A0Qxsm5Z6i3zOsevjuhR+mpJm4DdhrifIrE+8IbKZsNbCW3FWQU1i+89V4K1x7axBH\n",
       "n9wBErlC6MDpgAAAABlBnsBFFSwv/wAeX3rwFcuw6/OMGu6vWS+LAAAAEwGe/3RCvwAqGQyID40Q\n",
       "1hRcnOYAAAAPAZ7hakK/AABYrCvvyg4hAAAAaUGa5kmoQWyZTAh3//6plgAZSWRQATkjL0Bcg+1J\n",
       "NKcdFAZ4jRo18PaeEHPo4kUAhrdvJ8WoCFBuuewpZDu7aSDD2bAXXuOl2AuF7d5G5soGaioj5cV/\n",
       "zJwReo5jTdPmb+fH8c8rmN9z4AAAAD1BnwRFFSwv/wAdsESwAtU3jrORlyH0YVpEpqr56ciyxO4d\n",
       "5yW9pbzV39epLmQ/Qgoc3JLIm9cK6ffSDDAFAAAAFwGfI3RCvwAo6WxrMF1QH2grkcMFBGXBAAAA\n",
       "EgGfJWpCvwAo7TtmwtmXaxy3HwAAAGdBmypJqEFsmUwId//+qZYAGVoI5fQASddEJ/aFac/QS9Yo\n",
       "dvF5io8hZsMLHETzRXso1MH/CjfuaEG+BeJ+ec4ituTfjXpqUQ9CWDrVwMGWEGH5zsmjBkF7+JS7\n",
       "oTXolahsvibi/ibhAAAANEGfSEUVLC//AB21FdgBbpVuLQRn6BrM6rHvMRhGVGdJHJ5zo9H9xBp5\n",
       "ijym+Hay9X/nvFAAAAAXAZ9ndEK/ACj5DIgPjRE7E2kIsDsw8DgAAAAWAZ9pakK/ACj1/iMOOjgO\n",
       "+YvDIiIYQQAAAEVBm25JqEFsmUwId//+qZYAGUuwmAB8wqRl+9dF1/TXmL1mWdVDiRw3/jgTXOns\n",
       "DXbGRsESuBQDYqAqsOCc3Vr7xHXLCVgAAAAaQZ+MRRUsL/8AHbS+HqhWTxNj61o0sRWTYoAAAAAP\n",
       "AZ+rdEK/AABYkzqXug4hAAAAEwGfrWpCvwAo7RPLw5ois4JsnOcAAABVQZuySahBbJlMCG///qeE\n",
       "ADJFlSyAFuESMxp9cXH1z/E+wqh5aYFBJoGTeG4zLk8TFVQv2dEl8w2Y7BFct05b+yagZMoQyWS0\n",
       "HK/wWpqIIUut+sgW0QAAAERBn9BFFSwv/wAdxKkAHB4GFUbr42JZcka5lRFi35g1D/nkwMLIOQK2\n",
       "avNKcYQROMZc9Hmzg1kkJ6qrBkD/b4GlZZbsUAAAABMBn+90Qr8AKOmFBLC2ZdqEHihAAAAAEwGf\n",
       "8WpCvwAo9f4jDjo4Dvktx8EAAABDQZv2SahBbJlMCGf//p4QAMRLXvXgAKzy0r1VIZeia8GdV+cF\n",
       "PiVMaek8EIaL7nAU49Cz1pQDVtENfHrAUJj6+cDugAAAABlBnhRFFSwv/wAdr406o13mX/MIpkG/\n",
       "S+KAAAAAEwGeM3RCvwAo+QyID40RVhRcnOcAAAAPAZ41akK/AABYrCvvyg4gAAAAf0GaOUmoQWyZ\n",
       "TAhX//44QAMQOyF5oAD8Vrq6APP2mGUnGhpqGLyMM1bgO+qRXx22aoeSScU1Rc5cQQapaL1PVpLu\n",
       "Z78TyJws8FyJ0+4R77nYEtYJjX8X05MEOHeHehEtJXKtvB4E+/O9bDL1TkzS6nx9BNRv+0k9rAJs\n",
       "8sG+HFkAAAA/QZ5XRRUsK/8AKhXuxngBugk4LYx44M0F2DuYI9NWCQLJITiCZrN5QYClCOr0sLgu\n",
       "sGx10da4Fi+mn78I0ygRAAAAFgGeeGpCvwAqFe5Ucy5W9GIdHqiVcfAAAA6ubW9vdgAAAGxtdmhk\n",
       "AAAAAAAAAAAAAAAAAAAD6AAAJxAAAQAAAQAAAAAAAAAAAAAAAAEAAAAAAAAAAAAAAAAAAAABAAAA\n",
       "AAAAAAAAAAAAAABAAAAAAAAAAAAAAAAAAAAAAAAAAAAAAAAAAAAAAAAAAgAADdh0cmFrAAAAXHRr\n",
       "aGQAAAADAAAAAAAAAAAAAAABAAAAAAAAJxAAAAAAAAAAAAAAAAAAAAAAAAEAAAAAAAAAAAAAAAAA\n",
       "AAABAAAAAAAAAAAAAAAAAABAAAAAAbAAAAEgAAAAAAAkZWR0cwAAABxlbHN0AAAAAAAAAAEAACcQ\n",
       "AAAEAAABAAAAAA1QbWRpYQAAACBtZGhkAAAAAAAAAAAAAAAAAAAyAAAB9ABVxAAAAAAALWhkbHIA\n",
       "AAAAAAAAAHZpZGUAAAAAAAAAAAAAAABWaWRlb0hhbmRsZXIAAAAM+21pbmYAAAAUdm1oZAAAAAEA\n",
       "AAAAAAAAAAAAACRkaW5mAAAAHGRyZWYAAAAAAAAAAQAAAAx1cmwgAAAAAQAADLtzdGJsAAAAs3N0\n",
       "c2QAAAAAAAAAAQAAAKNhdmMxAAAAAAAAAAEAAAAAAAAAAAAAAAAAAAAAAbABIABIAAAASAAAAAAA\n",
       "AAABAAAAAAAAAAAAAAAAAAAAAAAAAAAAAAAAAAAAAAAAAAAAGP//AAAAMWF2Y0MBZAAV/+EAGGdk\n",
       "ABWs2UGwloQAAAMABAAAAwDIPFi2WAEABmjr48siwAAAABx1dWlka2hA8l8kT8W6OaUbzwMj8wAA\n",
       "AAAAAAAYc3R0cwAAAAAAAAABAAAA+gAAAgAAAAAUc3RzcwAAAAAAAAABAAAAAQAAB6hjdHRzAAAA\n",
       "AAAAAPMAAAABAAAEAAAAAAEAAAgAAAAAAgAAAgAAAAABAAAEAAAAAAEAAAoAAAAAAQAABAAAAAAB\n",
       "AAAAAAAAAAEAAAIAAAAAAQAABgAAAAABAAACAAAAAAEAAAoAAAAAAQAABAAAAAABAAAAAAAAAAEA\n",
       "AAIAAAAAAQAACgAAAAABAAAEAAAAAAEAAAAAAAAAAQAAAgAAAAABAAAIAAAAAAIAAAIAAAAAAQAA\n",
       "CgAAAAABAAAEAAAAAAEAAAAAAAAAAQAAAgAAAAABAAAGAAAAAAEAAAIAAAAAAQAABgAAAAABAAAC\n",
       "AAAAAAEAAAoAAAAAAQAABAAAAAABAAAAAAAAAAEAAAIAAAAAAQAABAAAAAABAAAKAAAAAAEAAAQA\n",
       "AAAAAQAAAAAAAAABAAACAAAAAAEAAAYAAAAAAQAAAgAAAAABAAAKAAAAAAEAAAQAAAAAAQAAAAAA\n",
       "AAABAAACAAAAAAEAAAgAAAAAAgAAAgAAAAABAAAGAAAAAAEAAAIAAAAAAQAACAAAAAACAAACAAAA\n",
       "AAEAAAoAAAAAAQAABAAAAAABAAAAAAAAAAEAAAIAAAAAAQAACAAAAAACAAACAAAAAAEAAAQAAAAA\n",
       "AQAACgAAAAABAAAEAAAAAAEAAAAAAAAAAQAAAgAAAAABAAAGAAAAAAEAAAIAAAAAAQAACgAAAAAB\n",
       "AAAEAAAAAAEAAAAAAAAAAQAAAgAAAAABAAAEAAAAAAEAAAoAAAAAAQAABAAAAAABAAAAAAAAAAEA\n",
       "AAIAAAAAAQAACgAAAAABAAAEAAAAAAEAAAAAAAAAAQAAAgAAAAABAAAKAAAAAAEAAAQAAAAAAQAA\n",
       "AAAAAAABAAACAAAAAAEAAAoAAAAAAQAABAAAAAABAAAAAAAAAAEAAAIAAAAAAQAACgAAAAABAAAE\n",
       "AAAAAAEAAAAAAAAAAQAAAgAAAAABAAAKAAAAAAEAAAQAAAAAAQAAAAAAAAABAAACAAAAAAEAAAoA\n",
       "AAAAAQAABAAAAAABAAAAAAAAAAEAAAIAAAAAAQAACAAAAAACAAACAAAAAAEAAAoAAAAAAQAABAAA\n",
       "AAABAAAAAAAAAAEAAAIAAAAAAQAACgAAAAABAAAEAAAAAAEAAAAAAAAAAQAAAgAAAAABAAAKAAAA\n",
       "AAEAAAQAAAAAAQAAAAAAAAABAAACAAAAAAEAAAoAAAAAAQAABAAAAAABAAAAAAAAAAEAAAIAAAAA\n",
       "AQAACgAAAAABAAAEAAAAAAEAAAAAAAAAAQAAAgAAAAABAAAKAAAAAAEAAAQAAAAAAQAAAAAAAAAB\n",
       "AAACAAAAAAEAAAoAAAAAAQAABAAAAAABAAAAAAAAAAEAAAIAAAAAAQAACgAAAAABAAAEAAAAAAEA\n",
       "AAAAAAAAAQAAAgAAAAABAAAKAAAAAAEAAAQAAAAAAQAAAAAAAAABAAACAAAAAAEAAAoAAAAAAQAA\n",
       "BAAAAAABAAAAAAAAAAEAAAIAAAAAAQAACgAAAAABAAAEAAAAAAEAAAAAAAAAAQAAAgAAAAABAAAK\n",
       "AAAAAAEAAAQAAAAAAQAAAAAAAAABAAACAAAAAAEAAAoAAAAAAQAABAAAAAABAAAAAAAAAAEAAAIA\n",
       "AAAAAQAACgAAAAABAAAEAAAAAAEAAAAAAAAAAQAAAgAAAAABAAAKAAAAAAEAAAQAAAAAAQAAAAAA\n",
       "AAABAAACAAAAAAEAAAoAAAAAAQAABAAAAAABAAAAAAAAAAEAAAIAAAAAAQAACgAAAAABAAAEAAAA\n",
       "AAEAAAAAAAAAAQAAAgAAAAABAAAKAAAAAAEAAAQAAAAAAQAAAAAAAAABAAACAAAAAAEAAAoAAAAA\n",
       "AQAABAAAAAABAAAAAAAAAAEAAAIAAAAAAQAACgAAAAABAAAEAAAAAAEAAAAAAAAAAQAAAgAAAAAB\n",
       "AAAKAAAAAAEAAAQAAAAAAQAAAAAAAAABAAACAAAAAAEAAAoAAAAAAQAABAAAAAABAAAAAAAAAAEA\n",
       "AAIAAAAAAQAACgAAAAABAAAEAAAAAAEAAAAAAAAAAQAAAgAAAAABAAAKAAAAAAEAAAQAAAAAAQAA\n",
       "AAAAAAABAAACAAAAAAEAAAoAAAAAAQAABAAAAAABAAAAAAAAAAEAAAIAAAAAAQAACgAAAAABAAAE\n",
       "AAAAAAEAAAAAAAAAAQAAAgAAAAABAAAKAAAAAAEAAAQAAAAAAQAAAAAAAAABAAACAAAAAAEAAAoA\n",
       "AAAAAQAABAAAAAABAAAAAAAAAAEAAAIAAAAAAQAACgAAAAABAAAEAAAAAAEAAAAAAAAAAQAAAgAA\n",
       "AAABAAAKAAAAAAEAAAQAAAAAAQAAAAAAAAABAAACAAAAAAEAAAoAAAAAAQAABAAAAAABAAAAAAAA\n",
       "AAEAAAIAAAAAAQAACgAAAAABAAAEAAAAAAEAAAAAAAAAAQAAAgAAAAABAAAKAAAAAAEAAAQAAAAA\n",
       "AQAAAAAAAAABAAACAAAAAAEAAAoAAAAAAQAABAAAAAABAAAAAAAAAAEAAAIAAAAAAQAACgAAAAAB\n",
       "AAAEAAAAAAEAAAAAAAAAAQAAAgAAAAABAAAKAAAAAAEAAAQAAAAAAQAAAAAAAAABAAACAAAAAAEA\n",
       "AAgAAAAAAgAAAgAAAAAcc3RzYwAAAAAAAAABAAAAAQAAAPoAAAABAAAD/HN0c3oAAAAAAAAAAAAA\n",
       "APoAABADAAABRQAAAF8AAABFAAAArQAAAKsAAACBAAAASAAAAEsAAADUAAAARQAAANsAAABrAAAA\n",
       "RAAAAEoAAACfAAAAPQAAAEcAAAArAAAAngAAADIAAAAyAAAA1wAAAHMAAABFAAAAMwAAAJ0AAAA2\n",
       "AAAAuAAAACsAAACYAAAAVAAAADAAAABFAAAAlwAAAIAAAABEAAAAPAAAAEcAAACAAAAALQAAAJUA\n",
       "AACAAAAALAAAAEUAAACgAAAAOwAAAEkAAAChAAAAMAAAAJMAAABTAAAALQAAAJUAAAA5AAAAKQAA\n",
       "ACIAAACmAAAAVgAAACsAAABTAAAAlAAAAFAAAAAoAAAALgAAADkAAABJAAAAfQAAAH0AAAA9AAAA\n",
       "JwAAAFEAAAC4AAAAVgAAAD8AAAA5AAAAhgAAAFEAAAAzAAAAMgAAAGwAAABKAAAARwAAAEEAAABw\n",
       "AAAAfwAAACYAAAAgAAAAjAAAAEAAAABEAAAALgAAAHMAAABzAAAAPAAAADoAAAC2AAAAbQAAAC4A\n",
       "AAAhAAAAkgAAACYAAAAbAAAAhgAAAEUAAAAmAAAAJAAAAH8AAABOAAAAGwAAAC4AAAB8AAAANwAA\n",
       "ABgAAAAbAAAAcQAAACQAAAAXAAAAHwAAAJ8AAABvAAAAJAAAABkAAACuAAAAHQAAABcAAAATAAAA\n",
       "iwAAAFMAAAAhAAAAGwAAAIIAAAA7AAAAHQAAABwAAABwAAAAHgAAABYAAAAXAAAAsAAAAEcAAAAY\n",
       "AAAAGwAAAIMAAAAdAAAAFwAAABUAAACeAAAAQgAAABoAAAAZAAAAfAAAAEYAAAAbAAAAGgAAAGYA\n",
       "AAAhAAAAEwAAABcAAABnAAAAWwAAABgAAAAYAAAAeAAAACAAAAAZAAAAEwAAAHMAAABQAAAAGAAA\n",
       "ABgAAACkAAAASAAAAB8AAAAdAAAAcQAAACEAAAAVAAAAFwAAAFsAAABKAAAAGQAAABkAAABjAAAA\n",
       "HAAAABYAAAATAAAAdQAAADkAAAAaAAAAFgAAAF8AAABQAAAAGwAAABsAAABSAAAAHgAAABMAAAAX\n",
       "AAAApgAAAEwAAAAcAAAAFwAAAFEAAAAdAAAAFgAAABMAAABsAAAARAAAABgAAAAWAAAAZwAAADUA\n",
       "AAAbAAAAGgAAAFsAAAAdAAAAEwAAABYAAABbAAAARwAAABkAAAAXAAAAcAAAAB0AAAAXAAAAEwAA\n",
       "AG0AAABBAAAAGwAAABYAAABrAAAAOAAAABsAAAAaAAAASQAAAB4AAAATAAAAFwAAAFkAAABIAAAA\n",
       "FwAAABcAAABHAAAAHQAAABcAAAATAAAAgwAAAEMAAAAaAAAAFHN0Y28AAAAAAAAAAQAAACwAAABi\n",
       "dWR0YQAAAFptZXRhAAAAAAAAACFoZGxyAAAAAAAAAABtZGlyYXBwbAAAAAAAAAAAAAAAAC1pbHN0\n",
       "AAAAJal0b28AAAAdZGF0YQAAAAEAAAAATGF2ZjU3LjgzLjEwMA==\n",
       "\">\n",
       "  Your browser does not support the video tag.\n",
       "</video>"
      ],
      "text/plain": [
       "<matplotlib.animation.FuncAnimation at 0x116d17278>"
      ]
     },
     "execution_count": 56,
     "metadata": {},
     "output_type": "execute_result"
    },
    {
     "data": {
      "image/png": "[encoded data removed]",
      "text/plain": [
       "<matplotlib.figure.Figure at 0x115f9e080>"
      ]
     },
     "metadata": {},
     "output_type": "display_data"
    }
   ],
   "source": [
    "cartPoleAnimation(xt)"
   ]
  },
  {
   "cell_type": "code",
   "execution_count": null,
   "metadata": {},
   "outputs": [],
   "source": []
  }
 ],
 "metadata": {
  "kernelspec": {
   "display_name": "Python 3",
   "language": "python",
   "name": "python3"
  },
  "language_info": {
   "codemirror_mode": {
    "name": "ipython",
    "version": 3
   },
   "file_extension": ".py",
   "mimetype": "text/x-python",
   "name": "python",
   "nbconvert_exporter": "python",
   "pygments_lexer": "ipython3",
   "version": "3.6.3"
  }
 },
 "nbformat": 4,
 "nbformat_minor": 2
}
