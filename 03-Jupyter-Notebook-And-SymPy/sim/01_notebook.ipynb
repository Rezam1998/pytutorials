{
 "cells": [
  {
   "cell_type": "markdown",
   "metadata": {},
   "source": [
    "# Control Theory Tutorial  (DRAFT, NOT APPROVED YET)\n",
    "## The Cart-Pole System - Python for System Analysis"
   ]
  },
  {
   "cell_type": "markdown",
   "metadata": {},
   "source": [
    "## 1. Introduction\n",
    "The goal of this tutorial is to teach the usage of the programming language Python as a\n",
    "tool for developing and simulating control systems. The following topics are covered:\n",
    "\n",
    "- Derivation of the equations of motion through Lagrangian mechanics and scientific computing\n",
    "- Linearization of the resulting nonlinear system equations to obtain a linear system in state space form\n",
    "- Investigation of the control theoretic properties of the system (equilibria, observability, etc.)\n",
    "\n",
    "Please refer to the [Python List-Dictionary-Tuple tutorial](http://cs231n.github.io/python-numpy-tutorial/#python-containers) and the [NumPy Array tutorial](http://cs231n.github.io/python-numpy-tutorial/#numpy)\n",
    "if you are not familiar with the handling of containers and arrays in Python. If you are\n",
    "completely new to Python consult the very basic introduction on [tutorialspoint](https://www.tutorialspoint.com/python/index.htm). If you don't have any experience with Jupyter Notebook to get started it is recommended to watch the following tutorial:"
   ]
  },
  {
   "cell_type": "code",
   "execution_count": 1,
   "metadata": {},
   "outputs": [
    {
     "data": {
      "text/html": [
       "\n",
       "        <iframe\n",
       "            width=\"400\"\n",
       "            height=\"300\"\n",
       "            src=\"https://www.youtube.com/embed/HW29067qVWk\"\n",
       "            frameborder=\"0\"\n",
       "            allowfullscreen\n",
       "        ></iframe>\n",
       "        "
      ],
      "text/plain": [
       "<IPython.lib.display.YouTubeVideo at 0x10647db70>"
      ]
     },
     "execution_count": 1,
     "metadata": {},
     "output_type": "execute_result"
    }
   ],
   "source": [
    "from IPython.lib.display import YouTubeVideo\n",
    "YouTubeVideo('HW29067qVWk')"
   ]
  },
  {
   "cell_type": "markdown",
   "metadata": {},
   "source": [
    "# 2. The Cart-Pole System\n",
    "The cart-pole system, as shown in the figure is a common control theory benchmark system, and has different attributes, that make it particular interesting for teaching control theoretic principles and methods. \n",
    "\n",
    "The pole is attached to a cart at its end. By applying a force $F$ to the cart through a moment $M$, the cart can be moved in the $x$-direction. The objective is to control the cart, such that the pole, starting in the upright position, doesn't fall over. Another objective is the swing-up manover, where the pole starts from the downright position and has to be brought in the upright position and kept there. The second objective involves nonlinear control theory and is much harder to accomplish than the first."
   ]
  },
  {
   "cell_type": "markdown",
   "metadata": {},
   "source": [
    "![Cart-Pole System](img/cart-pole.png)"
   ]
  },
  {
   "cell_type": "markdown",
   "metadata": {},
   "source": [
    "## 2.1 Derivation of the equations of motion\n",
    "To derive the equations of motion, Lagrangian mechanics are used. At first the position vectors $\\mathbf{p}_i$ of all $i$ rigid bodies' center of mass have to be defined (in this case $i=0,1$). Then the velocities $\\dot{\\mathbf{p}}_i$ are derived by differentiation. After that the kinetic energy $T$ and potential energy $V$ are described to form the Lagrangian $L$. In the last step the equations of motions are derived by Lagrange's equations of the second kind."
   ]
  },
  {
   "cell_type": "markdown",
   "metadata": {},
   "source": [
    "At first the necessary Python libraries are imported."
   ]
  },
  {
   "cell_type": "code",
   "execution_count": 2,
   "metadata": {},
   "outputs": [],
   "source": [
    "import numpy as np\n",
    "import sympy as sp\n",
    "from sympy import sin, cos, pi, Function\n",
    "from sympy.interactive import printing\n",
    "printing.init_printing()"
   ]
  },
  {
   "cell_type": "markdown",
   "metadata": {},
   "source": [
    "Then symbolic expressions for all system parameters, time and force are defined."
   ]
  },
  {
   "cell_type": "code",
   "execution_count": 3,
   "metadata": {},
   "outputs": [],
   "source": [
    "t = sp.Symbol('t') # time\n",
    "params = sp.symbols('m0, m1, J1, l1, a1, g, d0, d1') # system parameters\n",
    "m0, m1, J1, l1, a1, g, d0, d1 = params\n",
    "params_values = [(m0, 3.34), (m1, 0.3583), (J1, 0.0379999),\n",
    "                 (l1, 0.5), (a1, 0.43), (g, 9.81), (d0, 0.1), (d1, 0.006588)]\n",
    "# force\n",
    "F = sp.Symbol('F')"
   ]
  },
  {
   "cell_type": "markdown",
   "metadata": {},
   "source": [
    "The system has 2 degrees of freedom, $x_0$ and $\\varphi_1$. The generelized coordinates $q_i$ are therefore:\n",
    "\\begin{align}\n",
    "&q_0 =  x_0 &q_1 =  \\varphi_1\n",
    "\\end{align}\n",
    "Because these are time dependent, they and there derivative up to order 2 are implemented as functions."
   ]
  },
  {
   "cell_type": "code",
   "execution_count": 4,
   "metadata": {},
   "outputs": [],
   "source": [
    "q0_t = Function('q0')(t)   \n",
    "dq0_t = q0_t.diff(t)\n",
    "ddq0_t = q0_t.diff(t,2)\n",
    "q1_t = Function('q1')(t) \n",
    "dq1_t = q1_t.diff(t)\n",
    "ddq1_t = q1_t.diff(t,2)"
   ]
  },
  {
   "cell_type": "markdown",
   "metadata": {},
   "source": [
    "### 2.1.1 Position vectors $\\mathbf{p}_i$\n",
    "The two rigid bodies of the cart-pole system are as the name suggests, the cart and the pole. The position vectors of the center of masses is found by the follwing expressions:\n",
    "\\begin{align}\n",
    "&\\mathbf{p}_0 = \\begin{pmatrix} x_0 \\\\ 0\\end{pmatrix} =\\begin{pmatrix} q_0 \\\\ 0\\end{pmatrix} & \\mathbf{p}_1 = \\begin{pmatrix} x_0 - a_1 \\sin \\varphi_1 \\\\ a_1 \\cos \\varphi_1\\end{pmatrix} = \\begin{pmatrix} q_0 - a_1 \\sin q_1 \\\\ a_1 \\cos q_1\\end{pmatrix}\n",
    "\\end{align}\n",
    "The position vectors are functions of the generalized coordinates."
   ]
  },
  {
   "cell_type": "code",
   "execution_count": 5,
   "metadata": {},
   "outputs": [
    {
     "data": {
      "image/png": "[encoded data removed]",
      "text/latex": [
       "$$\\left ( \\left[\\begin{matrix}\\operatorname{q_{0}}{\\left (t \\right )}\\\\0\\end{matrix}\\right], \\quad \\left[\\begin{matrix}- a_{1} \\sin{\\left (\\operatorname{q_{1}}{\\left (t \\right )} \\right )} + \\operatorname{q_{0}}{\\left (t \\right )}\\\\a_{1} \\cos{\\left (\\operatorname{q_{1}}{\\left (t \\right )} \\right )}\\end{matrix}\\right]\\right )$$"
      ],
      "text/plain": [
       "⎛⎡q₀(t)⎤  ⎡-a₁⋅sin(q₁(t)) + q₀(t)⎤⎞\n",
       "⎜⎢     ⎥, ⎢                      ⎥⎟\n",
       "⎝⎣  0  ⎦  ⎣    a₁⋅cos(q₁(t))     ⎦⎠"
      ]
     },
     "execution_count": 5,
     "metadata": {},
     "output_type": "execute_result"
    }
   ],
   "source": [
    "p0 = sp.Matrix([q0_t, 0])\n",
    "p1 = sp.Matrix([q0_t - a1*sin(q1_t), a1*cos(q1_t)])\n",
    "p0, p1"
   ]
  },
  {
   "cell_type": "markdown",
   "metadata": {},
   "source": [
    "### 2.1.2  Velocity vectors $\\dot{\\mathbf{p}}_i$"
   ]
  },
  {
   "cell_type": "markdown",
   "metadata": {},
   "source": [
    "The velocity vectors can be obtained by the time derivative.\n",
    "\\begin{align}\n",
    "&\\dot{\\mathbf{p}}_0 = \\begin{pmatrix} \\dot{x}_0 \\\\ 0\\end{pmatrix} =\\begin{pmatrix} \n",
    "\\dot{q}_0 \\\\ 0\\end{pmatrix} \n",
    "& \\dot{\\mathbf{p}}_1 = \\begin{pmatrix} \\dot{x}_0 - a_1 \\dot{\\varphi}_1 \\cos \\varphi_1 \n",
    "\\\\ - a_1 \\dot{\\varphi}_1 \\sin \\varphi_1\\end{pmatrix} \n",
    "= \\begin{pmatrix} \\dot{q}_0 - a_1 \\dot{q}_1 \\cos q_1 \\\\ - a_1 \\dot{q}_1 \\sin q_1\\end{pmatrix}\n",
    "\\end{align}"
   ]
  },
  {
   "cell_type": "code",
   "execution_count": 6,
   "metadata": {},
   "outputs": [
    {
     "data": {
      "image/png": "[encoded data removed]",
      "text/latex": [
       "$$\\left ( \\left[\\begin{matrix}\\frac{d}{d t} \\operatorname{q_{0}}{\\left (t \\right )}\\\\0\\end{matrix}\\right], \\quad \\left[\\begin{matrix}- a_{1} \\cos{\\left (\\operatorname{q_{1}}{\\left (t \\right )} \\right )} \\frac{d}{d t} \\operatorname{q_{1}}{\\left (t \\right )} + \\frac{d}{d t} \\operatorname{q_{0}}{\\left (t \\right )}\\\\- a_{1} \\sin{\\left (\\operatorname{q_{1}}{\\left (t \\right )} \\right )} \\frac{d}{d t} \\operatorname{q_{1}}{\\left (t \\right )}\\end{matrix}\\right]\\right )$$"
      ],
      "text/plain": [
       "⎛             ⎡                d           d        ⎤⎞\n",
       "⎜⎡d        ⎤  ⎢- a₁⋅cos(q₁(t))⋅──(q₁(t)) + ──(q₀(t))⎥⎟\n",
       "⎜⎢──(q₀(t))⎥  ⎢                dt          dt       ⎥⎟\n",
       "⎜⎢dt       ⎥, ⎢                                     ⎥⎟\n",
       "⎜⎢         ⎥  ⎢                     d               ⎥⎟\n",
       "⎜⎣    0    ⎦  ⎢      -a₁⋅sin(q₁(t))⋅──(q₁(t))       ⎥⎟\n",
       "⎝             ⎣                     dt              ⎦⎠"
      ]
     },
     "execution_count": 6,
     "metadata": {},
     "output_type": "execute_result"
    }
   ],
   "source": [
    "dp0 = p0.diff(t)\n",
    "dp1 = p1.diff(t)\n",
    "dp0, dp1"
   ]
  },
  {
   "cell_type": "markdown",
   "metadata": {},
   "source": [
    "### 2.1.3 Kinetic energy $T$\n",
    "The total kinetic energy of the system $T$ can be found by the sum of the kinetic energies $T_0$ and $T_1$ of the rigid bodies."
   ]
  },
  {
   "cell_type": "code",
   "execution_count": 7,
   "metadata": {},
   "outputs": [
    {
     "data": {
      "image/png": "[encoded data removed]",
      "text/latex": [
       "$$0.5 m_{0} \\left(\\frac{d}{d t} \\operatorname{q_{0}}{\\left (t \\right )}\\right)^{2}$$"
      ],
      "text/plain": [
       "                  2\n",
       "       ⎛d        ⎞ \n",
       "0.5⋅m₀⋅⎜──(q₀(t))⎟ \n",
       "       ⎝dt       ⎠ "
      ]
     },
     "execution_count": 7,
     "metadata": {},
     "output_type": "execute_result"
    }
   ],
   "source": [
    "T0 = 0.5 * m0 * (dp0.T*dp0)[0]\n",
    "T0"
   ]
  },
  {
   "cell_type": "code",
   "execution_count": 8,
   "metadata": {},
   "outputs": [
    {
     "data": {
      "image/png": "[encoded data removed]",
      "text/latex": [
       "$$0.5 J_{1} \\left(\\frac{d}{d t} \\operatorname{q_{1}}{\\left (t \\right )}\\right)^{2} + 0.5 m_{1} \\left(a_{1}^{2} \\sin^{2}{\\left (\\operatorname{q_{1}}{\\left (t \\right )} \\right )} \\left(\\frac{d}{d t} \\operatorname{q_{1}}{\\left (t \\right )}\\right)^{2} + \\left(- a_{1} \\cos{\\left (\\operatorname{q_{1}}{\\left (t \\right )} \\right )} \\frac{d}{d t} \\operatorname{q_{1}}{\\left (t \\right )} + \\frac{d}{d t} \\operatorname{q_{0}}{\\left (t \\right )}\\right)^{2}\\right)$$"
      ],
      "text/plain": [
       "                  2          ⎛                           2                    \n",
       "       ⎛d        ⎞           ⎜  2    2        ⎛d        ⎞    ⎛                \n",
       "0.5⋅J₁⋅⎜──(q₁(t))⎟  + 0.5⋅m₁⋅⎜a₁ ⋅sin (q₁(t))⋅⎜──(q₁(t))⎟  + ⎜- a₁⋅cos(q₁(t))⋅\n",
       "       ⎝dt       ⎠           ⎝                ⎝dt       ⎠    ⎝                \n",
       "\n",
       "                      2⎞\n",
       "d           d        ⎞ ⎟\n",
       "──(q₁(t)) + ──(q₀(t))⎟ ⎟\n",
       "dt          dt       ⎠ ⎠"
      ]
     },
     "execution_count": 8,
     "metadata": {},
     "output_type": "execute_result"
    }
   ],
   "source": [
    "T1 = 0.5 * m1 * (dp1.T*dp1)[0] + 0.5 * J1 * dq1_t**2\n",
    "T1"
   ]
  },
  {
   "cell_type": "code",
   "execution_count": 9,
   "metadata": {},
   "outputs": [
    {
     "data": {
      "image/png": "[encoded data removed]",
      "text/latex": [
       "$$0.5 J_{1} \\left(\\frac{d}{d t} \\operatorname{q_{1}}{\\left (t \\right )}\\right)^{2} + 0.5 m_{0} \\left(\\frac{d}{d t} \\operatorname{q_{0}}{\\left (t \\right )}\\right)^{2} + 0.5 m_{1} \\left(a_{1}^{2} \\sin^{2}{\\left (\\operatorname{q_{1}}{\\left (t \\right )} \\right )} \\left(\\frac{d}{d t} \\operatorname{q_{1}}{\\left (t \\right )}\\right)^{2} + \\left(- a_{1} \\cos{\\left (\\operatorname{q_{1}}{\\left (t \\right )} \\right )} \\frac{d}{d t} \\operatorname{q_{1}}{\\left (t \\right )} + \\frac{d}{d t} \\operatorname{q_{0}}{\\left (t \\right )}\\right)^{2}\\right)$$"
      ],
      "text/plain": [
       "                  2                     2          ⎛                          \n",
       "       ⎛d        ⎞           ⎛d        ⎞           ⎜  2    2        ⎛d        \n",
       "0.5⋅J₁⋅⎜──(q₁(t))⎟  + 0.5⋅m₀⋅⎜──(q₀(t))⎟  + 0.5⋅m₁⋅⎜a₁ ⋅sin (q₁(t))⋅⎜──(q₁(t))\n",
       "       ⎝dt       ⎠           ⎝dt       ⎠           ⎝                ⎝dt       \n",
       "\n",
       " 2                                          2⎞\n",
       "⎞    ⎛                d           d        ⎞ ⎟\n",
       "⎟  + ⎜- a₁⋅cos(q₁(t))⋅──(q₁(t)) + ──(q₀(t))⎟ ⎟\n",
       "⎠    ⎝                dt          dt       ⎠ ⎠"
      ]
     },
     "execution_count": 9,
     "metadata": {},
     "output_type": "execute_result"
    }
   ],
   "source": [
    "T = T0 + T1\n",
    "T"
   ]
  },
  {
   "cell_type": "markdown",
   "metadata": {},
   "source": [
    "### 2.1.3 Potential energy $V$\n",
    "The total potential energy of the system $V$ can be found by the sum of the kinetic energies $V_0$ and $V_1$ of the rigid bodies. Because $V_0=0$, $V = V_1$."
   ]
  },
  {
   "cell_type": "code",
   "execution_count": 10,
   "metadata": {},
   "outputs": [
    {
     "data": {
      "image/png": "[encoded data removed]",
      "text/latex": [
       "$$a_{1} g m_{1} \\cos{\\left (\\operatorname{q_{1}}{\\left (t \\right )} \\right )}$$"
      ],
      "text/plain": [
       "a₁⋅g⋅m₁⋅cos(q₁(t))"
      ]
     },
     "execution_count": 10,
     "metadata": {},
     "output_type": "execute_result"
    }
   ],
   "source": [
    "V = m1 * g * p1[1]\n",
    "V"
   ]
  },
  {
   "cell_type": "markdown",
   "metadata": {},
   "source": [
    "### 2.1.4 Lagrangian $L$\n",
    "The Lagrangian is defined as $L = T-V$"
   ]
  },
  {
   "cell_type": "code",
   "execution_count": 11,
   "metadata": {
    "scrolled": true
   },
   "outputs": [
    {
     "data": {
      "image/png": "[encoded data removed]",
      "text/latex": [
       "$$0.5 J_{1} \\left(\\frac{d}{d t} \\operatorname{q_{1}}{\\left (t \\right )}\\right)^{2} + 0.5 a_{1}^{2} m_{1} \\left(\\frac{d}{d t} \\operatorname{q_{1}}{\\left (t \\right )}\\right)^{2} - 1.0 a_{1} g m_{1} \\cos{\\left (\\operatorname{q_{1}}{\\left (t \\right )} \\right )} - 1.0 a_{1} m_{1} \\cos{\\left (\\operatorname{q_{1}}{\\left (t \\right )} \\right )} \\frac{d}{d t} \\operatorname{q_{0}}{\\left (t \\right )} \\frac{d}{d t} \\operatorname{q_{1}}{\\left (t \\right )} + 0.5 m_{0} \\left(\\frac{d}{d t} \\operatorname{q_{0}}{\\left (t \\right )}\\right)^{2} + 0.5 m_{1} \\left(\\frac{d}{d t} \\operatorname{q_{0}}{\\left (t \\right )}\\right)^{2}$$"
      ],
      "text/plain": [
       "                  2                         2                                 \n",
       "       ⎛d        ⎞          2    ⎛d        ⎞                                  \n",
       "0.5⋅J₁⋅⎜──(q₁(t))⎟  + 0.5⋅a₁ ⋅m₁⋅⎜──(q₁(t))⎟  - 1.0⋅a₁⋅g⋅m₁⋅cos(q₁(t)) - 1.0⋅a\n",
       "       ⎝dt       ⎠               ⎝dt       ⎠                                  \n",
       "\n",
       "                                                        2                     \n",
       "                d         d                  ⎛d        ⎞           ⎛d        ⎞\n",
       "₁⋅m₁⋅cos(q₁(t))⋅──(q₀(t))⋅──(q₁(t)) + 0.5⋅m₀⋅⎜──(q₀(t))⎟  + 0.5⋅m₁⋅⎜──(q₀(t))⎟\n",
       "                dt        dt                 ⎝dt       ⎠           ⎝dt       ⎠\n",
       "\n",
       "2\n",
       " \n",
       " \n",
       " "
      ]
     },
     "execution_count": 11,
     "metadata": {},
     "output_type": "execute_result"
    }
   ],
   "source": [
    "L = T - V\n",
    "L = L.expand()\n",
    "L = sp.trigsimp(L)\n",
    "L"
   ]
  },
  {
   "cell_type": "markdown",
   "metadata": {},
   "source": [
    "### 2.1.5 Lagrange's equation of the second kind\n",
    "To obtain the equations of motion, Lagrange's equation of the second kind is used:\n",
    "\\begin{align}\n",
    "\\frac{\\mathrm{d}}{\\mathrm{d} t}\\left(\\frac{\\partial L}{\\partial \\dot{q}_i}\\right) - \\frac{\\partial L}{\\partial q_i} = Q_i \n",
    "\\quad i = 0,1\\end{align}\n",
    "with the generalized forces $Q_i$.\n",
    "Substituting $L = T-V$ leads to:\n",
    "\\begin{align}\n",
    "\\frac{\\mathrm{d}}{\\mathrm{d} t}\\left(\\frac{\\partial T}{\\partial \\dot{q}_i} \\right) - \\frac{\\mathrm{d}}{\\mathrm{d} t}\\left(\\frac{\\partial V}{\\partial \\dot{q}_i}\\right) - \\frac{\\partial T}{\\partial q_i} + \\frac{\\partial V}{\\partial q_i} = Q_i\n",
    "\\quad i = 0,1\\end{align}\n",
    "For mechanical systems like the cart-pole system $\\frac{\\mathrm{d}}{\\mathrm{d} t}\\frac{\\partial V}{\\partial \\dot{q}_i} = 0$. The equation simplifies to:\n",
    "\\begin{align}\n",
    "\\frac{\\mathrm{d}}{\\mathrm{d} t}\\left(\\frac{\\partial T}{\\partial \\dot{q}_i}\\right) - \\frac{\\partial T}{\\partial q_i} + \\left(\\frac{\\partial V}{\\partial q_i}\\right) = Q_i\n",
    "\\quad i = 0,1 \n",
    "\\end{align}\n",
    "\n",
    "The generalized forces can be seperated to a term $B\\mathbf{\\tau}$ that expresses how the actuator forces $u$ act on the system and a term for the disspitave forces $R$:\n",
    "\\begin{align}\n",
    "(Q_0,...,Q_n)^\\textrm{T} = B\\mathbf{\\tau} - R\n",
    "\\end{align}\n",
    "\n",
    "For the cart-pole system one obtains: \n",
    "\\begin{align}\n",
    "Q_0 = F - \\frac{1}{2}d_0 \\dot{q}_0^2 \\qquad Q_1 = - \\frac{1}{2}d_1 \\dot{q}_1^2 \n",
    "\\end{align}"
   ]
  },
  {
   "cell_type": "code",
   "execution_count": 12,
   "metadata": {},
   "outputs": [],
   "source": [
    "Q0 = F - 0.5 * d0 * dq0_t**2"
   ]
  },
  {
   "cell_type": "code",
   "execution_count": 13,
   "metadata": {},
   "outputs": [],
   "source": [
    "Q0 = F - d0 * dq0_t"
   ]
  },
  {
   "cell_type": "code",
   "execution_count": 14,
   "metadata": {},
   "outputs": [],
   "source": [
    "Q1 =  - 0.5 * d1 * dq1_t**2"
   ]
  },
  {
   "cell_type": "code",
   "execution_count": 15,
   "metadata": {},
   "outputs": [],
   "source": [
    "Q1 =  - d1 * dq1_t"
   ]
  },
  {
   "cell_type": "code",
   "execution_count": 16,
   "metadata": {},
   "outputs": [],
   "source": [
    "Eq0 = L.diff(dq0_t,t) - L.diff(q0_t) - Q0 # = 0 "
   ]
  },
  {
   "cell_type": "code",
   "execution_count": 17,
   "metadata": {},
   "outputs": [],
   "source": [
    "Eq1 = L.diff(dq1_t,t) - L.diff(q1_t) - Q1 # = 0"
   ]
  },
  {
   "cell_type": "markdown",
   "metadata": {},
   "source": [
    "A mechanical system is described by the following equation:\n",
    "\\begin{align}\n",
    "M(\\mathbf{q})\\ddot{\\mathbf{q}}+C(\\mathbf{q},\\dot{\\mathbf{q}})+K(\\mathbf{q},\\dot{\\mathbf{q}}) - B(\\mathbf{q})\\mathbf{\\tau} = \\mathbf{0}\n",
    "\\end{align}\n",
    "\n",
    "$M$ - mass matrix\n",
    "\n",
    "$C$ - coriolis vector\n",
    "\n",
    "$K$ - vector containing potential energy terms and $R$\n",
    "\n",
    "This eqation is contained in the variable `Eq`."
   ]
  },
  {
   "cell_type": "code",
   "execution_count": 18,
   "metadata": {},
   "outputs": [
    {
     "data": {
      "image/png": "[encoded data removed]",
      "text/latex": [
       "$$\\left[\\begin{matrix}- F + d_{0} \\frac{d}{d t} \\operatorname{q_{0}}{\\left (t \\right )} + 1.0 \\left(a_{1} m_{1} \\sin{\\left (\\operatorname{q_{1}}{\\left (t \\right )} \\right )} \\left(\\frac{d}{d t} \\operatorname{q_{1}}{\\left (t \\right )}\\right)^{2} - a_{1} m_{1} \\cos{\\left (\\operatorname{q_{1}}{\\left (t \\right )} \\right )} \\frac{d^{2}}{d t^{2}} \\operatorname{q_{1}}{\\left (t \\right )} + m_{0} \\frac{d^{2}}{d t^{2}} \\operatorname{q_{0}}{\\left (t \\right )} + m_{1} \\frac{d^{2}}{d t^{2}} \\operatorname{q_{0}}{\\left (t \\right )}\\right)\\\\- 1.0 a_{1} g m_{1} \\sin{\\left (\\operatorname{q_{1}}{\\left (t \\right )} \\right )} - 1.0 a_{1} m_{1} \\sin{\\left (\\operatorname{q_{1}}{\\left (t \\right )} \\right )} \\frac{d}{d t} \\operatorname{q_{0}}{\\left (t \\right )} \\frac{d}{d t} \\operatorname{q_{1}}{\\left (t \\right )} + d_{1} \\frac{d}{d t} \\operatorname{q_{1}}{\\left (t \\right )} + 1.0 \\left(J_{1} \\frac{d^{2}}{d t^{2}} \\operatorname{q_{1}}{\\left (t \\right )} + a_{1}^{2} m_{1} \\frac{d^{2}}{d t^{2}} \\operatorname{q_{1}}{\\left (t \\right )} + a_{1} m_{1} \\sin{\\left (\\operatorname{q_{1}}{\\left (t \\right )} \\right )} \\frac{d}{d t} \\operatorname{q_{0}}{\\left (t \\right )} \\frac{d}{d t} \\operatorname{q_{1}}{\\left (t \\right )} - a_{1} m_{1} \\cos{\\left (\\operatorname{q_{1}}{\\left (t \\right )} \\right )} \\frac{d^{2}}{d t^{2}} \\operatorname{q_{0}}{\\left (t \\right )}\\right)\\end{matrix}\\right]$$"
      ],
      "text/plain": [
       "⎡                                                             ⎛               \n",
       "⎢                                             d               ⎜               \n",
       "⎢                                     -F + d₀⋅──(q₀(t)) + 1.0⋅⎜a₁⋅m₁⋅sin(q₁(t)\n",
       "⎢                                             dt              ⎜               \n",
       "⎢                                                             ⎝               \n",
       "⎢                                                                             \n",
       "⎢                                                                             \n",
       "⎢                                               d         d              d    \n",
       "⎢-1.0⋅a₁⋅g⋅m₁⋅sin(q₁(t)) - 1.0⋅a₁⋅m₁⋅sin(q₁(t))⋅──(q₀(t))⋅──(q₁(t)) + d₁⋅──(q₁\n",
       "⎢                                               dt        dt             dt   \n",
       "⎣                                                                             \n",
       "\n",
       "             2                      2               2               2       ⎞ \n",
       "  ⎛d        ⎞                      d               d               d        ⎟ \n",
       ")⋅⎜──(q₁(t))⎟  - a₁⋅m₁⋅cos(q₁(t))⋅───(q₁(t)) + m₀⋅───(q₀(t)) + m₁⋅───(q₀(t))⎟ \n",
       "  ⎝dt       ⎠                       2               2               2       ⎟ \n",
       "                                  dt              dt              dt        ⎠ \n",
       "                                                                              \n",
       "           ⎛     2                   2                                        \n",
       "           ⎜    d             2     d                            d         d  \n",
       "(t)) + 1.0⋅⎜J₁⋅───(q₁(t)) + a₁ ⋅m₁⋅───(q₁(t)) + a₁⋅m₁⋅sin(q₁(t))⋅──(q₀(t))⋅──(\n",
       "           ⎜     2                   2                           dt        dt \n",
       "           ⎝   dt                  dt                                         \n",
       "\n",
       "                                     ⎤\n",
       "                                     ⎥\n",
       "                                     ⎥\n",
       "                                     ⎥\n",
       "                                     ⎥\n",
       "                                     ⎥\n",
       "                            2       ⎞⎥\n",
       "                           d        ⎟⎥\n",
       "q₁(t)) - a₁⋅m₁⋅cos(q₁(t))⋅───(q₀(t))⎟⎥\n",
       "                            2       ⎟⎥\n",
       "                          dt        ⎠⎦"
      ]
     },
     "execution_count": 18,
     "metadata": {},
     "output_type": "execute_result"
    }
   ],
   "source": [
    "Eq = sp.Matrix([Eq0,Eq1])\n",
    "Eq"
   ]
  },
  {
   "cell_type": "code",
   "execution_count": null,
   "metadata": {},
   "outputs": [],
   "source": []
  },
  {
   "cell_type": "markdown",
   "metadata": {},
   "source": [
    "The mass matrix $M$ can be found by applying the differential operator \n",
    "$\\frac{\\mathrm{d}}{\\mathrm{d}\\mathbf{\\ddot{q}}}$ to `Eq`."
   ]
  },
  {
   "cell_type": "code",
   "execution_count": 19,
   "metadata": {},
   "outputs": [
    {
     "data": {
      "image/png": "[encoded data removed]",
      "text/latex": [
       "$$\\left[\\begin{matrix}1.0 m_{0} + 1.0 m_{1} & - 1.0 a_{1} m_{1} \\cos{\\left (\\operatorname{q_{1}}{\\left (t \\right )} \\right )}\\\\- 1.0 a_{1} m_{1} \\cos{\\left (\\operatorname{q_{1}}{\\left (t \\right )} \\right )} & 1.0 J_{1} + 1.0 a_{1}^{2} m_{1}\\end{matrix}\\right]$$"
      ],
      "text/plain": [
       "⎡   1.0⋅m₀ + 1.0⋅m₁     -1.0⋅a₁⋅m₁⋅cos(q₁(t))⎤\n",
       "⎢                                            ⎥\n",
       "⎢                                       2    ⎥\n",
       "⎣-1.0⋅a₁⋅m₁⋅cos(q₁(t))   1.0⋅J₁ + 1.0⋅a₁ ⋅m₁ ⎦"
      ]
     },
     "execution_count": 19,
     "metadata": {},
     "output_type": "execute_result"
    }
   ],
   "source": [
    "ddq_t = sp.Matrix([ddq0_t,ddq1_t])\n",
    "M = Eq.jacobian(ddq_t)\n",
    "M"
   ]
  },
  {
   "cell_type": "markdown",
   "metadata": {},
   "source": [
    "The matrix is always symmetric and invertible. Therefore an equation for $\\ddot{\\mathbf{q}}$ always exists.\n",
    "\\begin{align}\n",
    "\\ddot{\\mathbf{q}} = M^{-1}(\\mathbf{q})\\left(-C(\\mathbf{q},\\dot{\\mathbf{q}})-K(\\mathbf{q},\\dot{\\mathbf{q}}) + B(\\mathbf{q})\\mathbf{\\tau} \\right)\n",
    "\\end{align}"
   ]
  },
  {
   "cell_type": "code",
   "execution_count": 20,
   "metadata": {},
   "outputs": [
    {
     "data": {
      "image/png": "[encoded data removed]",
      "text/latex": [
       "$$\\left[\\begin{matrix}\\frac{1.0 a_{1} m_{1} \\left(1.0 a_{1} g m_{1} \\sin{\\left (\\operatorname{q_{1}}{\\left (t \\right )} \\right )} - d_{1} \\frac{d}{d t} \\operatorname{q_{1}}{\\left (t \\right )}\\right) \\cos{\\left (\\operatorname{q_{1}}{\\left (t \\right )} \\right )}}{- 1.0 a_{1}^{2} m_{1}^{2} \\cos^{2}{\\left (\\operatorname{q_{1}}{\\left (t \\right )} \\right )} + \\left(1.0 J_{1} + 1.0 a_{1}^{2} m_{1}\\right) \\left(1.0 m_{0} + 1.0 m_{1}\\right)} + \\frac{\\left(1.0 J_{1} + 1.0 a_{1}^{2} m_{1}\\right) \\left(F - 1.0 a_{1} m_{1} \\sin{\\left (\\operatorname{q_{1}}{\\left (t \\right )} \\right )} \\left(\\frac{d}{d t} \\operatorname{q_{1}}{\\left (t \\right )}\\right)^{2} - d_{0} \\frac{d}{d t} \\operatorname{q_{0}}{\\left (t \\right )}\\right)}{- 1.0 a_{1}^{2} m_{1}^{2} \\cos^{2}{\\left (\\operatorname{q_{1}}{\\left (t \\right )} \\right )} + \\left(1.0 J_{1} + 1.0 a_{1}^{2} m_{1}\\right) \\left(1.0 m_{0} + 1.0 m_{1}\\right)}\\\\\\frac{1.0 a_{1} m_{1} \\left(F - 1.0 a_{1} m_{1} \\sin{\\left (\\operatorname{q_{1}}{\\left (t \\right )} \\right )} \\left(\\frac{d}{d t} \\operatorname{q_{1}}{\\left (t \\right )}\\right)^{2} - d_{0} \\frac{d}{d t} \\operatorname{q_{0}}{\\left (t \\right )}\\right) \\cos{\\left (\\operatorname{q_{1}}{\\left (t \\right )} \\right )}}{- 1.0 a_{1}^{2} m_{1}^{2} \\cos^{2}{\\left (\\operatorname{q_{1}}{\\left (t \\right )} \\right )} + \\left(1.0 J_{1} + 1.0 a_{1}^{2} m_{1}\\right) \\left(1.0 m_{0} + 1.0 m_{1}\\right)} + \\frac{\\left(1.0 m_{0} + 1.0 m_{1}\\right) \\left(1.0 a_{1} g m_{1} \\sin{\\left (\\operatorname{q_{1}}{\\left (t \\right )} \\right )} - d_{1} \\frac{d}{d t} \\operatorname{q_{1}}{\\left (t \\right )}\\right)}{- 1.0 a_{1}^{2} m_{1}^{2} \\cos^{2}{\\left (\\operatorname{q_{1}}{\\left (t \\right )} \\right )} + \\left(1.0 J_{1} + 1.0 a_{1}^{2} m_{1}\\right) \\left(1.0 m_{0} + 1.0 m_{1}\\right)}\\end{matrix}\\right]$$"
      ],
      "text/plain": [
       "⎡                                                                             \n",
       "⎢              ⎛                            d        ⎞                 ⎛      \n",
       "⎢    1.0⋅a₁⋅m₁⋅⎜1.0⋅a₁⋅g⋅m₁⋅sin(q₁(t)) - d₁⋅──(q₁(t))⎟⋅cos(q₁(t))      ⎝1.0⋅J₁\n",
       "⎢              ⎝                            dt       ⎠                        \n",
       "⎢─────────────────────────────────────────────────────────────────── + ───────\n",
       "⎢        2   2    2          ⎛               2   ⎞                            \n",
       "⎢- 1.0⋅a₁ ⋅m₁ ⋅cos (q₁(t)) + ⎝1.0⋅J₁ + 1.0⋅a₁ ⋅m₁⎠⋅(1.0⋅m₀ + 1.0⋅m₁)       - 1\n",
       "⎢                                                                             \n",
       "⎢          ⎛                                    2               ⎞             \n",
       "⎢          ⎜                         ⎛d        ⎞       d        ⎟             \n",
       "⎢1.0⋅a₁⋅m₁⋅⎜F - 1.0⋅a₁⋅m₁⋅sin(q₁(t))⋅⎜──(q₁(t))⎟  - d₀⋅──(q₀(t))⎟⋅cos(q₁(t))  \n",
       "⎢          ⎝                         ⎝dt       ⎠       dt       ⎠             \n",
       "⎢─────────────────────────────────────────────────────────────────────────── +\n",
       "⎢            2   2    2          ⎛               2   ⎞                        \n",
       "⎣    - 1.0⋅a₁ ⋅m₁ ⋅cos (q₁(t)) + ⎝1.0⋅J₁ + 1.0⋅a₁ ⋅m₁⎠⋅(1.0⋅m₀ + 1.0⋅m₁)      \n",
       "\n",
       "               ⎛                                    2               ⎞⎤\n",
       "         2   ⎞ ⎜                         ⎛d        ⎞       d        ⎟⎥\n",
       " + 1.0⋅a₁ ⋅m₁⎠⋅⎜F - 1.0⋅a₁⋅m₁⋅sin(q₁(t))⋅⎜──(q₁(t))⎟  - d₀⋅──(q₀(t))⎟⎥\n",
       "               ⎝                         ⎝dt       ⎠       dt       ⎠⎥\n",
       "─────────────────────────────────────────────────────────────────────⎥\n",
       "     2   2    2          ⎛               2   ⎞                       ⎥\n",
       ".0⋅a₁ ⋅m₁ ⋅cos (q₁(t)) + ⎝1.0⋅J₁ + 1.0⋅a₁ ⋅m₁⎠⋅(1.0⋅m₀ + 1.0⋅m₁)     ⎥\n",
       "                                                                     ⎥\n",
       "                                                                     ⎥\n",
       "                        ⎛                            d        ⎞      ⎥\n",
       "      (1.0⋅m₀ + 1.0⋅m₁)⋅⎜1.0⋅a₁⋅g⋅m₁⋅sin(q₁(t)) - d₁⋅──(q₁(t))⎟      ⎥\n",
       "                        ⎝                            dt       ⎠      ⎥\n",
       " ─────────────────────────────────────────────────────────────────── ⎥\n",
       "         2   2    2          ⎛               2   ⎞                   ⎥\n",
       " - 1.0⋅a₁ ⋅m₁ ⋅cos (q₁(t)) + ⎝1.0⋅J₁ + 1.0⋅a₁ ⋅m₁⎠⋅(1.0⋅m₀ + 1.0⋅m₁) ⎦"
      ]
     },
     "execution_count": 20,
     "metadata": {},
     "output_type": "execute_result"
    }
   ],
   "source": [
    "q_zeros = [(ddq0_t, 0), (ddq1_t, 0)]\n",
    "ddq = M**-1 * -Eq.subs(q_zeros)\n",
    "ddq"
   ]
  },
  {
   "cell_type": "markdown",
   "metadata": {},
   "source": [
    "## 2.2 State Space Model\n",
    "An affine in the control, nonlinear system is given by the following equation:\n",
    "\\begin{align}\n",
    "\\dot{\\mathbf{x}}=\\mathbf{f}(\\mathbf{x})+\\mathbf{g}(\\mathbf{x})\\mathbf{u} \\qquad \\mathbf{x} \\textrm{ - state vector}, \\mathbf{u} \\textrm{ - control vector}\n",
    "\\end{align}\n",
    "\n",
    "To transform the system equations in state space form, the system equations $\\ddot{\\mathbf{q}}= \\mathbf{f}_{\\ddot{\\mathbf{q}}}(\\mathbf{q},\\dot{\\mathbf{q}}) + \\mathbf{g}_{\\ddot{\\mathbf{q}}}(\\mathbf{q})\\mathbf{\\tau}$, which are second order differential equations each have to be seperated to two differential equations of first order. This is done by introducing a state vector $\\mathbf{x}$ and a control vector $\\mathbf{u}$.\n",
    "\\begin{align}\n",
    "&\\mathbf{x} := \\begin{pmatrix} \\mathbf{q} \\\\ \\dot{\\mathbf{q}} \\end{pmatrix}\n",
    "&\\dot{\\mathbf{x}} = \\begin{pmatrix} \\dot{\\mathbf{q}} \\\\ \\ddot{\\mathbf{q}} \\end{pmatrix} \n",
    "&\\qquad \\mathbf{u} := \\mathbf{\\tau}\n",
    "\\end{align}\n",
    "Substituting $\\ddot{\\mathbf{q}}$, one obtains:\n",
    "\\begin{align}\n",
    "\\dot{\\mathbf{x}} = \\underbrace{\\begin{pmatrix} \\dot{\\mathbf{q}} \\\\ \\mathbf{f}_{\\ddot{\\mathbf{q}}}(\\mathbf{q},\\dot{\\mathbf{q}}) \\end{pmatrix}}_{=:\\mathbf{f}(\\mathbf{x})} + \\underbrace{\\begin{pmatrix} \\mathbf{0} \\\\ \\mathbf{g}_{\\ddot{\\mathbf{q}}}(\\mathbf{q}) \\end{pmatrix}}_{=:\\mathbf{g}(\\mathbf{x})}\\underbrace{\\mathbf{\\tau}}_{=:\\mathbf{u}}\n",
    "\\end{align}\n",
    "The result is a control-affine system, an inhomogenous, multi-dimensional first order differential equation in $\\mathbf{x}$."
   ]
  },
  {
   "cell_type": "markdown",
   "metadata": {},
   "source": [
    "### 2.2.1 Nonlinear system"
   ]
  },
  {
   "cell_type": "markdown",
   "metadata": {},
   "source": [
    "In the cart-pole case, $\\mathbf{q}$ is two dimensional, the state vector $\\mathbf{x}$ is therefore four dimensional:\n",
    "\\begin{align}\n",
    "\\mathbf{x} = \\begin{pmatrix}x_1 \\\\ x_2 \\\\ x_3 \\\\ x_4 \\end{pmatrix} = \n",
    "\\begin{pmatrix}q_0 \\\\ q_1 \\\\ \\dot q_0 \\\\ \\dot q_1 \\end{pmatrix}\n",
    "=\\begin{pmatrix}x_0 \\\\ \\varphi_1 \\\\ \\dot x_0 \\\\ \\dot \\varphi_1 \\end{pmatrix}\n",
    "\\end{align}"
   ]
  },
  {
   "cell_type": "code",
   "execution_count": 21,
   "metadata": {},
   "outputs": [],
   "source": [
    "x1_t = sp.Function('x1')(t)\n",
    "x2_t = sp.Function('x2')(t)\n",
    "x3_t = sp.Function('x3')(t)\n",
    "x4_t = sp.Function('x4')(t)\n",
    "x_t = sp.Matrix([x1_t, x2_t, x3_t, x4_t])\n",
    "\n",
    "u_t = sp.Function('u')(t)"
   ]
  },
  {
   "cell_type": "markdown",
   "metadata": {},
   "source": [
    "$q_0,q_1$ and $\\dot q_0,\\dot q_1$ in $\\ddot{\\mathbf{q}}$ are replaced by $x_1, x_2$ and $x_3, x_4$. The force $F$ is replaced by the control input $u$."
   ]
  },
  {
   "cell_type": "code",
   "execution_count": 22,
   "metadata": {},
   "outputs": [
    {
     "data": {
      "image/png": "[encoded data removed]",
      "text/latex": [
       "$$\\left[\\begin{matrix}\\frac{1.0 \\left(- a_{1} m_{1} \\left(1.0 a_{1} g m_{1} \\sin{\\left (\\operatorname{x_{2}}{\\left (t \\right )} \\right )} - d_{1} \\operatorname{x_{4}}{\\left (t \\right )}\\right) \\cos{\\left (\\operatorname{x_{2}}{\\left (t \\right )} \\right )} + \\left(J_{1} + a_{1}^{2} m_{1}\\right) \\left(1.0 a_{1} m_{1} \\operatorname{x_{4}}^{2}{\\left (t \\right )} \\sin{\\left (\\operatorname{x_{2}}{\\left (t \\right )} \\right )} + d_{0} \\operatorname{x_{3}}{\\left (t \\right )} - u{\\left (t \\right )}\\right)\\right)}{a_{1}^{2} m_{1}^{2} \\cos^{2}{\\left (\\operatorname{x_{2}}{\\left (t \\right )} \\right )} - \\left(J_{1} + a_{1}^{2} m_{1}\\right) \\left(m_{0} + m_{1}\\right)}\\\\\\frac{1.0 \\left(a_{1} m_{1} \\left(1.0 a_{1} m_{1} \\operatorname{x_{4}}^{2}{\\left (t \\right )} \\sin{\\left (\\operatorname{x_{2}}{\\left (t \\right )} \\right )} + d_{0} \\operatorname{x_{3}}{\\left (t \\right )} - u{\\left (t \\right )}\\right) \\cos{\\left (\\operatorname{x_{2}}{\\left (t \\right )} \\right )} - \\left(m_{0} + m_{1}\\right) \\left(1.0 a_{1} g m_{1} \\sin{\\left (\\operatorname{x_{2}}{\\left (t \\right )} \\right )} - d_{1} \\operatorname{x_{4}}{\\left (t \\right )}\\right)\\right)}{a_{1}^{2} m_{1}^{2} \\cos^{2}{\\left (\\operatorname{x_{2}}{\\left (t \\right )} \\right )} - \\left(J_{1} + a_{1}^{2} m_{1}\\right) \\left(m_{0} + m_{1}\\right)}\\end{matrix}\\right]$$"
      ],
      "text/plain": [
       "⎡    ⎛                                                        ⎛       2   ⎞ ⎛ \n",
       "⎢1.0⋅⎝-a₁⋅m₁⋅(1.0⋅a₁⋅g⋅m₁⋅sin(x₂(t)) - d₁⋅x₄(t))⋅cos(x₂(t)) + ⎝J₁ + a₁ ⋅m₁⎠⋅⎝1\n",
       "⎢─────────────────────────────────────────────────────────────────────────────\n",
       "⎢                                         2   2    2          ⎛       2   ⎞   \n",
       "⎢                                       a₁ ⋅m₁ ⋅cos (x₂(t)) - ⎝J₁ + a₁ ⋅m₁⎠⋅(m\n",
       "⎢                                                                             \n",
       "⎢      ⎛      ⎛            2                                ⎞                 \n",
       "⎢  1.0⋅⎝a₁⋅m₁⋅⎝1.0⋅a₁⋅m₁⋅x₄ (t)⋅sin(x₂(t)) + d₀⋅x₃(t) - u(t)⎠⋅cos(x₂(t)) - (m₀\n",
       "⎢  ───────────────────────────────────────────────────────────────────────────\n",
       "⎢                                        2   2    2          ⎛       2   ⎞    \n",
       "⎣                                      a₁ ⋅m₁ ⋅cos (x₂(t)) - ⎝J₁ + a₁ ⋅m₁⎠⋅(m₀\n",
       "\n",
       "           2                                ⎞⎞⎤\n",
       ".0⋅a₁⋅m₁⋅x₄ (t)⋅sin(x₂(t)) + d₀⋅x₃(t) - u(t)⎠⎠⎥\n",
       "──────────────────────────────────────────────⎥\n",
       "                                              ⎥\n",
       "₀ + m₁)                                       ⎥\n",
       "                                              ⎥\n",
       "                                          ⎞   ⎥\n",
       " + m₁)⋅(1.0⋅a₁⋅g⋅m₁⋅sin(x₂(t)) - d₁⋅x₄(t))⎠   ⎥\n",
       "───────────────────────────────────────────   ⎥\n",
       "                                              ⎥\n",
       " + m₁)                                        ⎦"
      ]
     },
     "execution_count": 22,
     "metadata": {},
     "output_type": "execute_result"
    }
   ],
   "source": [
    "xu_subs = [(dq0_t, x3_t), (dq1_t, x4_t), (q0_t, x1_t), (q1_t, x2_t), (F, u_t)]\n",
    "ddq = ddq.subs(xu_subs)\n",
    "ddq = sp.simplify(ddq)\n",
    "ddq"
   ]
  },
  {
   "cell_type": "code",
   "execution_count": 23,
   "metadata": {},
   "outputs": [],
   "source": [
    "dx_t = sp.Matrix([x3_t, x4_t, ddq[0], ddq[1]])\n",
    "f = dx_t.subs([(u_t, 0)])\n",
    "g = (dx_t-f)/u_t"
   ]
  },
  {
   "cell_type": "markdown",
   "metadata": {},
   "source": [
    "## 2.3 System Analysis\n",
    "### 2.3.1 Equilibria\n",
    "An equilibrium is a point in the state space, where the trajectory of the system dynamics is constant. To find such a point, $\\dot{\\mathbf{x}}$ is set equal to the zero vector. The result is a nonlinear equation system:\n",
    "\\begin{align}\n",
    "\\mathbf{0} = \\mathbf{f}(\\mathbf{x}) + \\mathbf{g}(\\mathbf{x})\\mathbf{u}\n",
    "\\end{align}\n",
    "The equation is dependent on the control vector $\\mathbf{u}$. But for now, only the equlibria of the autonomous system $\\mathbf{f}(\\mathbf{x})$ are of interest, therefore $\\mathbf{u}:= \\mathbf{0}$.\n",
    "To find the equilibria $\\mathbf{x}_{0,i}(i = 1,2,...)$ of the autonoums system, the following nonlinear equation system has to be solved:\n",
    "\\begin{align}\n",
    "\\mathbf{0} = \\mathbf{f}(\\mathbf{x})\n",
    "\\end{align}"
   ]
  },
  {
   "cell_type": "code",
   "execution_count": 24,
   "metadata": {},
   "outputs": [
    {
     "data": {
      "image/png": "[encoded data removed]",
      "text/latex": [
       "$$\\left [ \\left ( \\operatorname{x_{1}}{\\left (t \\right )}, \\quad 0.0, \\quad 0.0, \\quad 0.0\\right ), \\quad \\left ( \\operatorname{x_{1}}{\\left (t \\right )}, \\quad 3.14159265358979, \\quad 0.0, \\quad 0.0\\right )\\right ]$$"
      ],
      "text/plain": [
       "[(x₁(t), 0.0, 0.0, 0.0), (x₁(t), 3.14159265358979, 0.0, 0.0)]"
      ]
     },
     "execution_count": 24,
     "metadata": {},
     "output_type": "execute_result"
    }
   ],
   "source": [
    "x0 = sp.solve(f,x_t)\n",
    "x0"
   ]
  },
  {
   "cell_type": "code",
   "execution_count": 25,
   "metadata": {},
   "outputs": [],
   "source": [
    "x0[1] = (x1_t, pi, 0, 0)"
   ]
  },
  {
   "cell_type": "markdown",
   "metadata": {},
   "source": [
    "The result are two equilbria $\\mathbf{x}_{0,1}$ and $\\mathbf{x}_{0,2}$ that are independent of the state variable $x_1$, the position of the cart. The two eqilibria are the pole in the upright and downright position at zero velocity of both cart and pole, as one would intuitively guess. But the equilibria of a system can not always be simply found by intuition, like in the cart-pole case, therefore the equilibria should always be found by the shown method."
   ]
  },
  {
   "cell_type": "markdown",
   "metadata": {},
   "source": [
    "### 2.3.2 Obtaining a linear state space model\n",
    "To obtain a linear state space model, a taylor expansion of the nonlinear equation is used. \n",
    "\\begin{align}\n",
    "\\dot{\\mathbf{x}}-\\dot{\\mathbf{x}}_{0,i} &\\approx \\underbrace{\\mathbf{f}(\\mathbf{x}_{0,i}) +\\mathbf{g}(\\mathbf{x}_{0,i})\\mathbf{u}_0}_{=0}\n",
    "+ \\underbrace{\\frac{\\partial}{\\partial \\mathbf{x}}\\left(\\mathbf{f}(\\mathbf{x}) +\\mathbf{g}(\\mathbf{x})\\mathbf{u}\\right)\\Big|_{\\substack{\\mathbf{u} = \\mathbf{u}_0 \\\\\\mathbf{x}=\\mathbf{x}_{0,i}}}}_{=:A_i}(\\mathbf{x}-\\mathbf{x}_{0,i})\n",
    "+ \\underbrace{\\frac{\\partial}{\\partial \\mathbf{u}}\\left(\\mathbf{f}(\\mathbf{x}) +\\mathbf{g}(\\mathbf{x})\\mathbf{u}\\right)\\Big|_{\\substack{\\mathbf{u} = \\mathbf{u}_0 \\\\\\mathbf{x}=\\mathbf{x}_{0,i}}}}_{=:B_i}(\\mathbf{u}-\\mathbf{u}_0)+\\mathcal{O}(2)\n",
    "\\end{align}\n",
    "First the linearization is done for the general case. Then, specific linear system matrices at the eqilibria are evaluated."
   ]
  },
  {
   "cell_type": "code",
   "execution_count": 26,
   "metadata": {},
   "outputs": [
    {
     "data": {
      "image/png": "[encoded data removed]",
      "text/latex": [
       "$$\\left ( \\left[\\begin{matrix}0 & 0 & 1 & 0\\\\0 & 0 & 0 & 1\\\\0 & - \\frac{1.0 a_{1}^{2} g m_{1}^{2}}{a_{1}^{2} m_{1}^{2} - \\left(J_{1} + a_{1}^{2} m_{1}\\right) \\left(m_{0} + m_{1}\\right)} & \\frac{1.0 d_{0} \\left(J_{1} + a_{1}^{2} m_{1}\\right)}{a_{1}^{2} m_{1}^{2} - \\left(J_{1} + a_{1}^{2} m_{1}\\right) \\left(m_{0} + m_{1}\\right)} & \\frac{1.0 a_{1} d_{1} m_{1}}{a_{1}^{2} m_{1}^{2} - \\left(J_{1} + a_{1}^{2} m_{1}\\right) \\left(m_{0} + m_{1}\\right)}\\\\0 & \\frac{1.0 a_{1} g m_{1} \\left(- m_{0} - m_{1}\\right)}{a_{1}^{2} m_{1}^{2} - \\left(J_{1} + a_{1}^{2} m_{1}\\right) \\left(m_{0} + m_{1}\\right)} & \\frac{1.0 a_{1} d_{0} m_{1}}{a_{1}^{2} m_{1}^{2} - \\left(J_{1} + a_{1}^{2} m_{1}\\right) \\left(m_{0} + m_{1}\\right)} & - \\frac{1.0 d_{1} \\left(- m_{0} - m_{1}\\right)}{a_{1}^{2} m_{1}^{2} - \\left(J_{1} + a_{1}^{2} m_{1}\\right) \\left(m_{0} + m_{1}\\right)}\\end{matrix}\\right], \\quad \\left[\\begin{matrix}0 & 0 & 1 & 0\\\\0 & 0 & 0 & 1\\\\0 & - \\frac{1.0 a_{1}^{2} g m_{1}^{2}}{a_{1}^{2} m_{1}^{2} - \\left(J_{1} + a_{1}^{2} m_{1}\\right) \\left(m_{0} + m_{1}\\right)} & \\frac{1.0 d_{0} \\left(J_{1} + a_{1}^{2} m_{1}\\right)}{a_{1}^{2} m_{1}^{2} - \\left(J_{1} + a_{1}^{2} m_{1}\\right) \\left(m_{0} + m_{1}\\right)} & - \\frac{1.0 a_{1} d_{1} m_{1}}{a_{1}^{2} m_{1}^{2} - \\left(J_{1} + a_{1}^{2} m_{1}\\right) \\left(m_{0} + m_{1}\\right)}\\\\0 & - \\frac{1.0 a_{1} g m_{1} \\left(- m_{0} - m_{1}\\right)}{a_{1}^{2} m_{1}^{2} - \\left(J_{1} + a_{1}^{2} m_{1}\\right) \\left(m_{0} + m_{1}\\right)} & - \\frac{1.0 a_{1} d_{0} m_{1}}{a_{1}^{2} m_{1}^{2} - \\left(J_{1} + a_{1}^{2} m_{1}\\right) \\left(m_{0} + m_{1}\\right)} & - \\frac{1.0 d_{1} \\left(- m_{0} - m_{1}\\right)}{a_{1}^{2} m_{1}^{2} - \\left(J_{1} + a_{1}^{2} m_{1}\\right) \\left(m_{0} + m_{1}\\right)}\\end{matrix}\\right], \\quad \\left[\\begin{matrix}0\\\\0\\\\\\frac{1.0 \\left(- J_{1} - a_{1}^{2} m_{1}\\right)}{a_{1}^{2} m_{1}^{2} - \\left(J_{1} + a_{1}^{2} m_{1}\\right) \\left(m_{0} + m_{1}\\right)}\\\\- \\frac{1.0 a_{1} m_{1}}{a_{1}^{2} m_{1}^{2} - \\left(J_{1} + a_{1}^{2} m_{1}\\right) \\left(m_{0} + m_{1}\\right)}\\end{matrix}\\right], \\quad \\left[\\begin{matrix}0\\\\0\\\\\\frac{1.0 \\left(- J_{1} - a_{1}^{2} m_{1}\\right)}{a_{1}^{2} m_{1}^{2} - \\left(J_{1} + a_{1}^{2} m_{1}\\right) \\left(m_{0} + m_{1}\\right)}\\\\\\frac{1.0 a_{1} m_{1}}{a_{1}^{2} m_{1}^{2} - \\left(J_{1} + a_{1}^{2} m_{1}\\right) \\left(m_{0} + m_{1}\\right)}\\end{matrix}\\right]\\right )$$"
      ],
      "text/plain": [
       "⎛⎡0                  0                                  1                     \n",
       "⎜⎢                                                                            \n",
       "⎜⎢0                  0                                  0                     \n",
       "⎜⎢                                                                            \n",
       "⎜⎢                   2     2                          ⎛       2   ⎞           \n",
       "⎜⎢            -1.0⋅a₁ ⋅g⋅m₁                    1.0⋅d₀⋅⎝J₁ + a₁ ⋅m₁⎠           \n",
       "⎜⎢0  ─────────────────────────────────  ─────────────────────────────────  ───\n",
       "⎜⎢     2   2   ⎛       2   ⎞              2   2   ⎛       2   ⎞              2\n",
       "⎜⎢   a₁ ⋅m₁  - ⎝J₁ + a₁ ⋅m₁⎠⋅(m₀ + m₁)  a₁ ⋅m₁  - ⎝J₁ + a₁ ⋅m₁⎠⋅(m₀ + m₁)  a₁ \n",
       "⎜⎢                                                                            \n",
       "⎜⎢         1.0⋅a₁⋅g⋅m₁⋅(-m₀ - m₁)                  1.0⋅a₁⋅d₀⋅m₁               \n",
       "⎜⎢0  ─────────────────────────────────  ─────────────────────────────────  ───\n",
       "⎜⎢     2   2   ⎛       2   ⎞              2   2   ⎛       2   ⎞              2\n",
       "⎝⎣   a₁ ⋅m₁  - ⎝J₁ + a₁ ⋅m₁⎠⋅(m₀ + m₁)  a₁ ⋅m₁  - ⎝J₁ + a₁ ⋅m₁⎠⋅(m₀ + m₁)  a₁ \n",
       "\n",
       "             0                ⎤  ⎡0                  0                        \n",
       "                              ⎥  ⎢                                            \n",
       "             1                ⎥  ⎢0                  0                        \n",
       "                              ⎥  ⎢                                            \n",
       "                              ⎥  ⎢                   2     2                  \n",
       "        1.0⋅a₁⋅d₁⋅m₁          ⎥  ⎢            -1.0⋅a₁ ⋅g⋅m₁                   \n",
       "──────────────────────────────⎥  ⎢0  ─────────────────────────────────  ──────\n",
       "   2   ⎛       2   ⎞          ⎥, ⎢     2   2   ⎛       2   ⎞              2   \n",
       "⋅m₁  - ⎝J₁ + a₁ ⋅m₁⎠⋅(m₀ + m₁)⎥  ⎢   a₁ ⋅m₁  - ⎝J₁ + a₁ ⋅m₁⎠⋅(m₀ + m₁)  a₁ ⋅m₁\n",
       "                              ⎥  ⎢                                            \n",
       "    -1.0⋅d₁⋅(-m₀ - m₁)        ⎥  ⎢        -1.0⋅a₁⋅g⋅m₁⋅(-m₀ - m₁)             \n",
       "──────────────────────────────⎥  ⎢0  ─────────────────────────────────  ──────\n",
       "   2   ⎛       2   ⎞          ⎥  ⎢     2   2   ⎛       2   ⎞              2   \n",
       "⋅m₁  - ⎝J₁ + a₁ ⋅m₁⎠⋅(m₀ + m₁)⎦  ⎣   a₁ ⋅m₁  - ⎝J₁ + a₁ ⋅m₁⎠⋅(m₀ + m₁)  a₁ ⋅m₁\n",
       "\n",
       "          1                                  0                ⎤  ⎡            \n",
       "                                                              ⎥  ⎢            \n",
       "          0                                  1                ⎥  ⎢            \n",
       "                                                              ⎥  ⎢            \n",
       "        ⎛       2   ⎞                                         ⎥  ⎢            \n",
       " 1.0⋅d₀⋅⎝J₁ + a₁ ⋅m₁⎠                  -1.0⋅a₁⋅d₁⋅m₁          ⎥  ⎢        1.0⋅\n",
       "───────────────────────────  ─────────────────────────────────⎥  ⎢────────────\n",
       "2   ⎛       2   ⎞              2   2   ⎛       2   ⎞          ⎥, ⎢  2   2   ⎛ \n",
       "  - ⎝J₁ + a₁ ⋅m₁⎠⋅(m₀ + m₁)  a₁ ⋅m₁  - ⎝J₁ + a₁ ⋅m₁⎠⋅(m₀ + m₁)⎥  ⎢a₁ ⋅m₁  - ⎝J\n",
       "                                                              ⎥  ⎢            \n",
       "    -1.0⋅a₁⋅d₀⋅m₁                   -1.0⋅d₁⋅(-m₀ - m₁)        ⎥  ⎢           -\n",
       "───────────────────────────  ─────────────────────────────────⎥  ⎢────────────\n",
       "2   ⎛       2   ⎞              2   2   ⎛       2   ⎞          ⎥  ⎢  2   2   ⎛ \n",
       "  - ⎝J₁ + a₁ ⋅m₁⎠⋅(m₀ + m₁)  a₁ ⋅m₁  - ⎝J₁ + a₁ ⋅m₁⎠⋅(m₀ + m₁)⎦  ⎣a₁ ⋅m₁  - ⎝J\n",
       "\n",
       "    0                ⎤  ⎡                0                ⎤⎞\n",
       "                     ⎥  ⎢                                 ⎥⎟\n",
       "    0                ⎥  ⎢                0                ⎥⎟\n",
       "                     ⎥  ⎢                                 ⎥⎟\n",
       "⎛        2   ⎞       ⎥  ⎢            ⎛        2   ⎞       ⎥⎟\n",
       "⎝-J₁ - a₁ ⋅m₁⎠       ⎥  ⎢        1.0⋅⎝-J₁ - a₁ ⋅m₁⎠       ⎥⎟\n",
       "─────────────────────⎥  ⎢─────────────────────────────────⎥⎟\n",
       "      2   ⎞          ⎥, ⎢  2   2   ⎛       2   ⎞          ⎥⎟\n",
       "₁ + a₁ ⋅m₁⎠⋅(m₀ + m₁)⎥  ⎢a₁ ⋅m₁  - ⎝J₁ + a₁ ⋅m₁⎠⋅(m₀ + m₁)⎥⎟\n",
       "                     ⎥  ⎢                                 ⎥⎟\n",
       "1.0⋅a₁⋅m₁            ⎥  ⎢            1.0⋅a₁⋅m₁            ⎥⎟\n",
       "─────────────────────⎥  ⎢─────────────────────────────────⎥⎟\n",
       "      2   ⎞          ⎥  ⎢  2   2   ⎛       2   ⎞          ⎥⎟\n",
       "₁ + a₁ ⋅m₁⎠⋅(m₀ + m₁)⎦  ⎣a₁ ⋅m₁  - ⎝J₁ + a₁ ⋅m₁⎠⋅(m₀ + m₁)⎦⎠"
      ]
     },
     "execution_count": 26,
     "metadata": {},
     "output_type": "execute_result"
    }
   ],
   "source": [
    "A = dx_t.jacobian(x_t)\n",
    "B = dx_t.diff(u_t)\n",
    "A1 = A.subs([(x_t[i], x0[0][i]) for i in range(0,4)]) # pole upright\n",
    "B1 = B.subs([(x_t[i], x0[0][i]) for i in range(0,4)]) # pole upright\n",
    "A2 = A.subs([(x_t[i], x0[1][i]) for i in range(0,4)]) # pole downright\n",
    "B2 = B.subs([(x_t[i], x0[1][i]) for i in range(0,4)]) # pole upright\n",
    "A1, A2, B1, B2"
   ]
  },
  {
   "cell_type": "markdown",
   "metadata": {},
   "source": [
    "### 2.3.3 Controllability and observability"
   ]
  },
  {
   "cell_type": "markdown",
   "metadata": {},
   "source": [
    "A linear time-invariant (LTI) system \n",
    "\\begin{align}\n",
    "\\dot{\\mathbf{x}} = A \\mathbf{x} + B \\mathbf{u},\n",
    "\\end{align}\n",
    "with \n",
    "\\begin{align}\n",
    "\\mathbf{x} \\in \\mathbb{R}^n, \\mathbf{u} \\in \\mathbb{R}^m  \\quad A \\in \\mathbb{R}^{n \\times n}, B \\in \\mathbb{R}^{n\\times m}\n",
    "\\end{align}\n",
    "is controlable if and only if the system states $\\mathbf{x}$ can be changed by changing the system input $\\mathbf{u}$.\n",
    "To investigate the controllability of the system, we use the Kalman criterion of controllabilty, which says that a LTI system is controllable if the Kalman controllabilty matrix $Q_c$ is full rank.\n",
    "\\begin{align}\n",
    "Q_c := \\begin{pmatrix}B, AB,..., A^{n-1}B\\end{pmatrix}\n",
    "\\end{align}\n",
    "\\begin{align}\n",
    "\\mathrm{rank} (Q_c) = n\n",
    "\\end{align}"
   ]
  },
  {
   "cell_type": "markdown",
   "metadata": {},
   "source": [
    "### Concatenating column vectors to a matrix with SymPy\n",
    "Given the to column vectors $a, b \\in \\mathbb{R}^n$, concatenating them to a matrix $(a,b)\\in \\mathbb{R}^{n\\times2}$ is not trivial in SymPy. Have a look at the following example:"
   ]
  },
  {
   "cell_type": "code",
   "execution_count": 27,
   "metadata": {},
   "outputs": [
    {
     "data": {
      "image/png": "[encoded data removed]",
      "text/latex": [
       "$$\\left ( \\left[\\begin{matrix}1\\\\2\\\\3\\end{matrix}\\right], \\quad \\left[\\begin{matrix}4\\\\5\\\\6\\end{matrix}\\right]\\right )$$"
      ],
      "text/plain": [
       "⎛⎡1⎤  ⎡4⎤⎞\n",
       "⎜⎢ ⎥  ⎢ ⎥⎟\n",
       "⎜⎢2⎥, ⎢5⎥⎟\n",
       "⎜⎢ ⎥  ⎢ ⎥⎟\n",
       "⎝⎣3⎦  ⎣6⎦⎠"
      ]
     },
     "execution_count": 27,
     "metadata": {},
     "output_type": "execute_result"
    }
   ],
   "source": [
    "a = sp.Matrix([1, 2, 3])\n",
    "b = sp.Matrix([4, 5, 6])\n",
    "a, b"
   ]
  },
  {
   "cell_type": "markdown",
   "metadata": {},
   "source": [
    "The resulting matrix should have two columns and three rows. But calling `sp.Matrix([a,b])` returns a column vector:"
   ]
  },
  {
   "cell_type": "code",
   "execution_count": 28,
   "metadata": {},
   "outputs": [
    {
     "data": {
      "image/png": "[encoded data removed]",
      "text/latex": [
       "$$\\left[\\begin{matrix}1\\\\2\\\\3\\\\4\\\\5\\\\6\\end{matrix}\\right]$$"
      ],
      "text/plain": [
       "⎡1⎤\n",
       "⎢ ⎥\n",
       "⎢2⎥\n",
       "⎢ ⎥\n",
       "⎢3⎥\n",
       "⎢ ⎥\n",
       "⎢4⎥\n",
       "⎢ ⎥\n",
       "⎢5⎥\n",
       "⎢ ⎥\n",
       "⎣6⎦"
      ]
     },
     "execution_count": 28,
     "metadata": {},
     "output_type": "execute_result"
    }
   ],
   "source": [
    "sp.Matrix([a,b])"
   ]
  },
  {
   "cell_type": "markdown",
   "metadata": {},
   "source": [
    "A workaround to get the desired 3-by-2 matrix, is to concatenate the transpose of the vectors `a` and `b` and transpose the result:"
   ]
  },
  {
   "cell_type": "code",
   "execution_count": 29,
   "metadata": {},
   "outputs": [
    {
     "data": {
      "image/png": "[encoded data removed]",
      "text/latex": [
       "$$\\left[\\begin{matrix}1 & 4\\\\2 & 5\\\\3 & 6\\end{matrix}\\right]$$"
      ],
      "text/plain": [
       "⎡1  4⎤\n",
       "⎢    ⎥\n",
       "⎢2  5⎥\n",
       "⎢    ⎥\n",
       "⎣3  6⎦"
      ]
     },
     "execution_count": 29,
     "metadata": {},
     "output_type": "execute_result"
    }
   ],
   "source": [
    "sp.Matrix([a.T,b.T]).T"
   ]
  },
  {
   "cell_type": "markdown",
   "metadata": {},
   "source": [
    "With the shown workaround, the Kalman controllability matrix can be computed."
   ]
  },
  {
   "cell_type": "code",
   "execution_count": 30,
   "metadata": {},
   "outputs": [],
   "source": [
    "Q_c1 = sp.Matrix([B1.T,(A1*B1).T, (A1**2*B1).T, (A1**3*B1).T]).T"
   ]
  },
  {
   "cell_type": "markdown",
   "metadata": {},
   "source": [
    "To obtain a real valued matrix, the previously defined parameter values are substituted."
   ]
  },
  {
   "cell_type": "code",
   "execution_count": 31,
   "metadata": {},
   "outputs": [
    {
     "data": {
      "image/png": "[encoded data removed]",
      "text/latex": [
       "$$\\left[\\begin{matrix}0 & 0.288134321573856 & -0.00949674711378129 & 0.274455180960422\\\\0 & 0.425829735226365 & -0.0409452108698814 & 6.58190759357528\\\\0.288134321573856 & -0.00949674711378129 & 0.274455180960422 & -0.0527252512517845\\\\0.425829735226365 & -0.0409452108698814 & 6.58190759357528 & -1.08748858374126\\end{matrix}\\right]$$"
      ],
      "text/plain": [
       "⎡        0           0.288134321573856    -0.00949674711378129   0.27445518096\n",
       "⎢                                                                             \n",
       "⎢        0           0.425829735226365    -0.0409452108698814    6.58190759357\n",
       "⎢                                                                             \n",
       "⎢0.288134321573856  -0.00949674711378129   0.274455180960422    -0.05272525125\n",
       "⎢                                                                             \n",
       "⎣0.425829735226365  -0.0409452108698814     6.58190759357528     -1.0874885837\n",
       "\n",
       "0422 ⎤\n",
       "     ⎥\n",
       "528  ⎥\n",
       "     ⎥\n",
       "17845⎥\n",
       "     ⎥\n",
       "4126 ⎦"
      ]
     },
     "execution_count": 31,
     "metadata": {},
     "output_type": "execute_result"
    }
   ],
   "source": [
    "Q_c1 = Q_c1.subs(params_values)\n",
    "Q_c1"
   ]
  },
  {
   "cell_type": "markdown",
   "metadata": {},
   "source": [
    "Then the rank of $Q_{c,1}$ is computed:"
   ]
  },
  {
   "cell_type": "code",
   "execution_count": 32,
   "metadata": {},
   "outputs": [
    {
     "data": {
      "image/png": "[encoded data removed]",
      "text/latex": [
       "$$4$$"
      ],
      "text/plain": [
       "4"
      ]
     },
     "execution_count": 32,
     "metadata": {},
     "output_type": "execute_result"
    }
   ],
   "source": [
    "Q_c1.rank(simplify = True)"
   ]
  },
  {
   "cell_type": "markdown",
   "metadata": {},
   "source": [
    "$\\mathrm{rank} (Q_{c,1}) = 4 = n$, the system is controllable in the upper equilibrium."
   ]
  },
  {
   "cell_type": "markdown",
   "metadata": {},
   "source": [
    "## 2.4 Linear Quadratic Regulator (LQR)"
   ]
  },
  {
   "cell_type": "markdown",
   "metadata": {},
   "source": [
    "The linear quadratic regulator (LQR) is a linear control scheme often used in pracitcal applications. With this method, an optimal state feedback via pole placement of the closed loop system can be designed. Instead of placing the poles of the closed loop system manually (i.e. by Ackermann's formula), a linear feedback control law $\\mathbf{u}=-K\\mathbf{x}$ can be derived, that places the poles, such that the cost function $J$ is minimized.\n",
    "\n",
    "\\begin{align}\n",
    "J &= \\int_{t_0=0}^\\infty \\mathbf{x}(t)^\\textrm{T}Q\\mathbf{x}(t)+\\mathbf{u}(t)^\\textrm{T}R\\mathbf{u}(t) \\mathrm{d}t \\\\\n",
    "Q &\\in \\mathbb{R}^{n\\times n}, R \\in \\mathbb{R}^{m\\times m} - \\textrm{ diagonal weight matrices}\n",
    "\\end{align}\n",
    "\n",
    "$K=R^{-1}B^\\textrm{T}P$, where $P$ is the solution to the continuous time algebraic Riccati equation (ARE):\n",
    "\n",
    "\\begin{align}\n",
    "A^\\textrm{T}P+PA-PBR^{-1}B^\\textrm{T}P + Q = 0\n",
    "\\end{align}\n",
    "$A, B$ are the system matrices.\n",
    "\n",
    "The ARE can be solved in Python with the SciPy package:\n",
    "At first, the weight matrices are choosen. A high value stands for high cost of the corresponding signal."
   ]
  },
  {
   "cell_type": "code",
   "execution_count": 33,
   "metadata": {},
   "outputs": [
    {
     "data": {
      "text/plain": [
       "(array([[ 10.,   0.,   0.,   0.],\n",
       "        [  0.,  10.,   0.,   0.],\n",
       "        [  0.,   0.,  10.,   0.],\n",
       "        [  0.,   0.,   0.,  10.]]), 0.1)"
      ]
     },
     "execution_count": 33,
     "metadata": {},
     "output_type": "execute_result"
    }
   ],
   "source": [
    "Q = 10*np.eye(4)\n",
    "R = 0.1\n",
    "Q, R"
   ]
  },
  {
   "cell_type": "markdown",
   "metadata": {},
   "source": [
    "The parameters are substituted into the system matrices of the upper equilibrium and the resulting matrices are converted to the correct type."
   ]
  },
  {
   "cell_type": "code",
   "execution_count": 34,
   "metadata": {},
   "outputs": [
    {
     "data": {
      "text/plain": [
       "(array([[  0.00000000e+00,   0.00000000e+00,   1.00000000e+00,\n",
       "           0.00000000e+00],\n",
       "        [  0.00000000e+00,   0.00000000e+00,   0.00000000e+00,\n",
       "           1.00000000e+00],\n",
       "        [  0.00000000e+00,   6.43606254e-01,  -2.88134322e-02,\n",
       "          -2.80536630e-03],\n",
       "        [  0.00000000e+00,   1.54492403e+01,  -4.25829735e-02,\n",
       "          -6.73405174e-02]]), array([[ 0.        ],\n",
       "        [ 0.        ],\n",
       "        [ 0.28813432],\n",
       "        [ 0.42582974]]))"
      ]
     },
     "execution_count": 34,
     "metadata": {},
     "output_type": "execute_result"
    }
   ],
   "source": [
    "A = A1.subs(params_values)\n",
    "B = B1.subs(params_values)\n",
    "A = np.array(A).astype(np.float64)\n",
    "B = np.array(B).astype(np.float64)\n",
    "A, B"
   ]
  },
  {
   "cell_type": "markdown",
   "metadata": {},
   "source": [
    "The SciPy package is imported and the ARE is solved to obtain $P$."
   ]
  },
  {
   "cell_type": "code",
   "execution_count": 35,
   "metadata": {},
   "outputs": [],
   "source": [
    "import scipy as sci\n",
    "from scipy import linalg"
   ]
  },
  {
   "cell_type": "code",
   "execution_count": 36,
   "metadata": {},
   "outputs": [
    {
     "data": {
      "text/plain": [
       "array([[  18.64638492,  -42.32305222,   12.38388353,  -10.72781326],\n",
       "       [ -42.32305222,  343.63231708,  -68.00490028,   83.06410971],\n",
       "       [  12.38388353,  -68.00490028,   18.74020643,  -17.0827318 ],\n",
       "       [ -10.72781326,   83.06410971,  -17.0827318 ,   21.3363659 ]])"
      ]
     },
     "execution_count": 36,
     "metadata": {},
     "output_type": "execute_result"
    }
   ],
   "source": [
    "P = sci.linalg.solve_continuous_are(A, B, Q, R)\n",
    "P"
   ]
  },
  {
   "cell_type": "markdown",
   "metadata": {},
   "source": [
    "The feedback matrix $K$ is computed."
   ]
  },
  {
   "cell_type": "code",
   "execution_count": 37,
   "metadata": {},
   "outputs": [
    {
     "data": {
      "text/plain": [
       "array([[ -10.        ,  157.76622042,  -18.74638492,   41.63537705]])"
      ]
     },
     "execution_count": 37,
     "metadata": {},
     "output_type": "execute_result"
    }
   ],
   "source": [
    "K = 1/R*B.T.dot(P)\n",
    "K"
   ]
  },
  {
   "cell_type": "markdown",
   "metadata": {},
   "source": [
    "## Simulation"
   ]
  },
  {
   "cell_type": "markdown",
   "metadata": {},
   "source": [
    "For the simulation SciPy's integrate package is used."
   ]
  },
  {
   "cell_type": "code",
   "execution_count": 38,
   "metadata": {},
   "outputs": [],
   "source": [
    "from scipy import integrate"
   ]
  },
  {
   "cell_type": "markdown",
   "metadata": {},
   "source": [
    "At first, all relevant simulation parameters are defined."
   ]
  },
  {
   "cell_type": "code",
   "execution_count": 39,
   "metadata": {
    "scrolled": true
   },
   "outputs": [],
   "source": [
    "t0 = 0 # start time\n",
    "tf = 10 # final time\n",
    "dt = 0.04 # stepsize\n",
    "tt = np.arange(t0,tf,dt) # simulation time\n",
    "x0 = np.array([0, 0.3, 0, 0]) # initial value\n",
    "dx_t = dx_t.subs(params_values) # substitute the parameters in dx_t"
   ]
  },
  {
   "cell_type": "code",
   "execution_count": 40,
   "metadata": {},
   "outputs": [],
   "source": [
    "def linODE(t, x):\n",
    "    u = -K.dot(x)\n",
    "    dxdt = A.dot(x) + B.dot(u)\n",
    "    return dxdt"
   ]
  },
  {
   "cell_type": "markdown",
   "metadata": {},
   "source": [
    "Then, the differential equation of the system is implemented in a function `nlODE(t, x)` (nonlinear ODE)."
   ]
  },
  {
   "cell_type": "code",
   "execution_count": 41,
   "metadata": {},
   "outputs": [],
   "source": [
    "def nlODE(t, x):\n",
    "    '''Nonlinear system of equations dx/dt = f(x,u) = f(x,-K*x) = f(x)'''\n",
    "    u = -K.dot(x) # define the control law\n",
    "    dx = dx_t.subs([(x_t[i], x[i]) for i in range(0,4)]) #substitute the current state x in dx_t\n",
    "    dx = dx.subs([(u_t, u)]) # substitute the current control u for the symbolic expression u_t in dx_t\n",
    "    dx = np.array(dx).astype(np.float64) # convert the resulting vector to a float data type\n",
    "    dx = dx[:,0] # return the correct shape of the vector\n",
    "    return dx"
   ]
  },
  {
   "cell_type": "markdown",
   "metadata": {},
   "source": [
    "Finally the initial value problem is solved."
   ]
  },
  {
   "cell_type": "code",
   "execution_count": 42,
   "metadata": {},
   "outputs": [],
   "source": [
    "sol = sci.integrate.solve_ivp(nlODE, (t0, tf), x0, method='RK45', t_eval=tt)"
   ]
  },
  {
   "cell_type": "code",
   "execution_count": 43,
   "metadata": {},
   "outputs": [],
   "source": [
    "xt = sol.y.T "
   ]
  },
  {
   "cell_type": "markdown",
   "metadata": {},
   "source": [
    "## Plotting the results"
   ]
  },
  {
   "cell_type": "code",
   "execution_count": 44,
   "metadata": {},
   "outputs": [],
   "source": [
    "import matplotlib as mpl\n",
    "import matplotlib.pyplot as plt"
   ]
  },
  {
   "cell_type": "code",
   "execution_count": 45,
   "metadata": {},
   "outputs": [
    {
     "ename": "NameError",
     "evalue": "name 'x' is not defined",
     "output_type": "error",
     "traceback": [
      "\u001b[0;31m---------------------------------------------------------------------------\u001b[0m",
      "\u001b[0;31mNameError\u001b[0m                                 Traceback (most recent call last)",
      "\u001b[0;32m<ipython-input-45-0cbbf5d15c68>\u001b[0m in \u001b[0;36m<module>\u001b[0;34m()\u001b[0m\n\u001b[1;32m      1\u001b[0m \u001b[0mfig1\u001b[0m\u001b[0;34m,\u001b[0m \u001b[0;34m(\u001b[0m\u001b[0max1\u001b[0m\u001b[0;34m,\u001b[0m \u001b[0max2\u001b[0m\u001b[0;34m)\u001b[0m \u001b[0;34m=\u001b[0m \u001b[0mplt\u001b[0m\u001b[0;34m.\u001b[0m\u001b[0msubplots\u001b[0m\u001b[0;34m(\u001b[0m\u001b[0;36m2\u001b[0m\u001b[0;34m,\u001b[0m \u001b[0;36m1\u001b[0m\u001b[0;34m,\u001b[0m \u001b[0msharex\u001b[0m\u001b[0;34m=\u001b[0m\u001b[0;32mTrue\u001b[0m\u001b[0;34m)\u001b[0m\u001b[0;34m\u001b[0m\u001b[0m\n\u001b[1;32m      2\u001b[0m \u001b[0mfig2\u001b[0m\u001b[0;34m,\u001b[0m \u001b[0;34m(\u001b[0m\u001b[0max3\u001b[0m\u001b[0;34m,\u001b[0m \u001b[0max4\u001b[0m\u001b[0;34m)\u001b[0m \u001b[0;34m=\u001b[0m \u001b[0mplt\u001b[0m\u001b[0;34m.\u001b[0m\u001b[0msubplots\u001b[0m\u001b[0;34m(\u001b[0m\u001b[0;36m2\u001b[0m\u001b[0;34m,\u001b[0m \u001b[0;36m1\u001b[0m\u001b[0;34m,\u001b[0m \u001b[0msharex\u001b[0m\u001b[0;34m=\u001b[0m\u001b[0;32mTrue\u001b[0m\u001b[0;34m)\u001b[0m\u001b[0;34m\u001b[0m\u001b[0m\n\u001b[0;32m----> 3\u001b[0;31m \u001b[0max1\u001b[0m\u001b[0;34m.\u001b[0m\u001b[0mplot\u001b[0m\u001b[0;34m(\u001b[0m\u001b[0mtt\u001b[0m\u001b[0;34m,\u001b[0m \u001b[0mx\u001b[0m\u001b[0;34m[\u001b[0m\u001b[0;34m:\u001b[0m\u001b[0;34m,\u001b[0m\u001b[0;36m0\u001b[0m\u001b[0;34m]\u001b[0m\u001b[0;34m)\u001b[0m\u001b[0;34m\u001b[0m\u001b[0m\n\u001b[0m\u001b[1;32m      4\u001b[0m \u001b[0max2\u001b[0m\u001b[0;34m.\u001b[0m\u001b[0mplot\u001b[0m\u001b[0;34m(\u001b[0m\u001b[0mtt\u001b[0m\u001b[0;34m,\u001b[0m \u001b[0mx\u001b[0m\u001b[0;34m[\u001b[0m\u001b[0;34m:\u001b[0m\u001b[0;34m,\u001b[0m\u001b[0;36m1\u001b[0m\u001b[0;34m]\u001b[0m\u001b[0;34m)\u001b[0m\u001b[0;34m\u001b[0m\u001b[0m\n\u001b[1;32m      5\u001b[0m \u001b[0max3\u001b[0m\u001b[0;34m.\u001b[0m\u001b[0mplot\u001b[0m\u001b[0;34m(\u001b[0m\u001b[0mtt\u001b[0m\u001b[0;34m,\u001b[0m \u001b[0mx\u001b[0m\u001b[0;34m[\u001b[0m\u001b[0;34m:\u001b[0m\u001b[0;34m,\u001b[0m\u001b[0;36m2\u001b[0m\u001b[0;34m]\u001b[0m\u001b[0;34m)\u001b[0m\u001b[0;34m\u001b[0m\u001b[0m\n",
      "\u001b[0;31mNameError\u001b[0m: name 'x' is not defined"
     ]
    },
    {
     "data": {
      "image/png": "[encoded data removed]",
      "text/plain": [
       "<matplotlib.figure.Figure at 0x114e2f320>"
      ]
     },
     "metadata": {},
     "output_type": "display_data"
    },
    {
     "data": {
      "image/png": "[encoded data removed]",
      "text/plain": [
       "<matplotlib.figure.Figure at 0x114e2f2e8>"
      ]
     },
     "metadata": {},
     "output_type": "display_data"
    }
   ],
   "source": [
    "fig1, (ax1, ax2) = plt.subplots(2, 1, sharex=True)\n",
    "fig2, (ax3, ax4) = plt.subplots(2, 1, sharex=True)\n",
    "ax1.plot(tt, x[:,0])\n",
    "ax2.plot(tt, x[:,1])\n",
    "ax3.plot(tt, x[:,2])\n",
    "ax4.plot(tt, x[:,3])\n",
    "\n",
    "ax1.set(ylabel=r'$x_0$')\n",
    "ax2.set(ylabel=r'$\\varphi_1$')\n",
    "ax3.set(ylabel=r'$\\dot x_0$')\n",
    "ax4.set(ylabel=r'$\\dot \\varphi_1$')\n",
    "ax2.set(xlabel=r't in s')\n",
    "ax4.set(xlabel=r't in s')\n",
    "ax1.grid('on')\n",
    "ax2.grid('on')\n",
    "ax3.grid('on')\n",
    "ax4.grid('on')"
   ]
  },
  {
   "cell_type": "markdown",
   "metadata": {},
   "source": [
    "## Animating the results"
   ]
  },
  {
   "cell_type": "code",
   "execution_count": null,
   "metadata": {},
   "outputs": [],
   "source": [
    "from matplotlib import animation\n",
    "from IPython.display import HTML\n",
    "import matplotlib.patches as patches"
   ]
  },
  {
   "cell_type": "code",
   "execution_count": null,
   "metadata": {},
   "outputs": [],
   "source": [
    "# initializing animation elements\n",
    "def init():\n",
    "    pole.set_data([], [])\n",
    "    time_text.set_text('')\n",
    "    ax.add_patch(cart)\n",
    "    return pole, cart, time_text,\n",
    "\n",
    "# line and text\n",
    "def animate(t):\n",
    "    thisx = [x_cart[t], x_pole_end[t]]\n",
    "    thisy = [0, y_pole_end[t]]\n",
    "    \n",
    "    pole.set_data(thisx, thisy)\n",
    "    cart.set_xy([x_cart[t]-0.1, -0.05])\n",
    "    time_text.set_text(time_template % (t * dt))\n",
    "    return pole, cart, time_text, \n",
    "\n",
    "# mapping from theta and s to the x,y-plane (definition of the line points, that represent the pole)\n",
    "def cart_pole_plot(l, xt):\n",
    "    x_pole_end = -l * np.sin(xt[:, 1]) + xt[:, 0]\n",
    "    x_cart = xt[:, 0]\n",
    "    y_pole_end = l * np.cos(xt[:, 1])\n",
    "    return x_pole_end, y_pole_end, x_cart"
   ]
  },
  {
   "cell_type": "code",
   "execution_count": null,
   "metadata": {},
   "outputs": [],
   "source": [
    "[x_pole_end, y_pole_end, x_cart] = cart_pole_plot(0.5, sol.y.T)"
   ]
  },
  {
   "cell_type": "code",
   "execution_count": null,
   "metadata": {
    "scrolled": true
   },
   "outputs": [],
   "source": [
    "fig, ax = plt.subplots()\n",
    "ax.set_aspect('equal')\n",
    "plt.ylim((-0.1,0.6))\n",
    "plt.title('Cart-Pole LQR')\n",
    "rail, = ax.plot([min(-1,1.2*min(x_cart)), max(1,1.2*max(x_cart))], [0,0],'ks-', zorder=0)\n",
    "pole, = ax.plot([], [], 'bo-', zorder=1)\n",
    "cart = patches.Rectangle((-0.1, -0.05), 0.2, 0.1, fc='b', zorder=1)\n",
    "time_template = 'time = %.1fs'\n",
    "time_text = ax.text(0.05, 0.9, '', transform=ax.transAxes)"
   ]
  },
  {
   "cell_type": "code",
   "execution_count": null,
   "metadata": {},
   "outputs": [],
   "source": [
    "ani = animation.FuncAnimation(fig, animate, np.arange(0,len(tt)), interval=dt*1000, \n",
    "                              blit=True, init_func=init)\n",
    "HTML(ani.to_html5_video())"
   ]
  },
  {
   "cell_type": "markdown",
   "metadata": {},
   "source": [
    "## Excercise\n",
    "Change the initial value of the angle $\\varphi$ and try to find out, when the controller can't stabilize the system anymore."
   ]
  },
  {
   "cell_type": "markdown",
   "metadata": {},
   "source": [
    "# WORK IN PROGRESS"
   ]
  }
 ],
 "metadata": {
  "kernelspec": {
   "display_name": "Python 3",
   "language": "python",
   "name": "python3"
  },
  "language_info": {
   "codemirror_mode": {
    "name": "ipython",
    "version": 3
   },
   "file_extension": ".py",
   "mimetype": "text/x-python",
   "name": "python",
   "nbconvert_exporter": "python",
   "pygments_lexer": "ipython3",
   "version": "3.6.3"
  }
 },
 "nbformat": 4,
 "nbformat_minor": 2
}
